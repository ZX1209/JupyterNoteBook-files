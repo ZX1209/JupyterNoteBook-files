{
 "cells": [
  {
   "cell_type": "code",
   "execution_count": 1,
   "metadata": {
    "ExecuteTime": {
     "end_time": "2018-12-20T12:01:37.584786Z",
     "start_time": "2018-12-20T12:01:35.697843Z"
    }
   },
   "outputs": [],
   "source": [
    "import requests\n",
    "from bs4 import BeautifulSoup\n"
   ]
  },
  {
   "cell_type": "code",
   "execution_count": null,
   "metadata": {},
   "outputs": [],
   "source": [
    "base = 'https://18comic.org'"
   ]
  },
  {
   "cell_type": "code",
   "execution_count": 20,
   "metadata": {
    "ExecuteTime": {
     "end_time": "2018-12-20T12:14:56.086369Z",
     "start_time": "2018-12-20T12:14:52.668056Z"
    }
   },
   "outputs": [],
   "source": [
    "page = requests.get(r'https://18comic.org/albums')"
   ]
  },
  {
   "cell_type": "code",
   "execution_count": 21,
   "metadata": {
    "ExecuteTime": {
     "end_time": "2018-12-20T12:14:58.307211Z",
     "start_time": "2018-12-20T12:14:58.051609Z"
    }
   },
   "outputs": [],
   "source": [
    "soup = BeautifulSoup(page.text)"
   ]
  },
  {
   "cell_type": "code",
   "execution_count": 33,
   "metadata": {
    "ExecuteTime": {
     "end_time": "2018-12-20T13:08:47.638580Z",
     "start_time": "2018-12-20T13:08:47.603715Z"
    }
   },
   "outputs": [
    {
     "data": {
      "text/plain": [
       "<a href=\"/album/91655/純狐馬麻漢化-例大祭14-背德漢-東方あまママ1-純狐さん-東方project\">\n",
       "<div class=\"thumb-overlay-albums\">\n",
       "<img alt=\"[純狐馬麻漢化] (例大祭14) [背德漢] 東方あまママ1 純狐さん (東方Project)\" class=\"lazy_img img-responsive \" src=\"/media/albums/91655_3x4.jpg\" title=\"[純狐馬麻漢化] (例大祭14) [背德漢] 東方あまママ1 純狐さん (東方Project)\"/>\n",
       "</div>\n",
       "<span class=\"video-title title-truncate m-t-5\">[純狐馬麻漢化] (例大祭14) [背德漢] 東方あまママ1 純狐さん (東方Project)</span>\n",
       "</a>"
      ]
     },
     "execution_count": 33,
     "metadata": {},
     "output_type": "execute_result"
    }
   ],
   "source": [
    "soup.select(\"div.comic_index div.well\")[0].a"
   ]
  },
  {
   "cell_type": "code",
   "execution_count": 31,
   "metadata": {
    "ExecuteTime": {
     "end_time": "2018-12-20T12:52:45.325799Z",
     "start_time": "2018-12-20T12:52:45.315825Z"
    }
   },
   "outputs": [
    {
     "data": {
      "text/plain": [
       "['', 'album', '91655', '純狐馬麻漢化-例大祭14-背德漢-東方あまママ1-純狐さん-東方project']"
      ]
     },
     "execution_count": 31,
     "metadata": {},
     "output_type": "execute_result"
    }
   ],
   "source": [
    "tmp = '/album/91655/純狐馬麻漢化-例大祭14-背德漢-東方あまママ1-純狐さん-東方project'\n",
    "tmp.split('/')"
   ]
  },
  {
   "cell_type": "code",
   "execution_count": 42,
   "metadata": {
    "ExecuteTime": {
     "end_time": "2018-12-20T13:47:20.644844Z",
     "start_time": "2018-12-20T13:47:20.628272Z"
    }
   },
   "outputs": [
    {
     "data": {
      "text/plain": [
       "('純狐馬麻漢化-例大祭14-背德漢-東方あまママ1-純狐さん-東方project', 'domain/photo/91655')"
      ]
     },
     "execution_count": 42,
     "metadata": {},
     "output_type": "execute_result"
    }
   ],
   "source": [
    "comicRaw = tmp.split('/')\n",
    "filename = comicRaw[-1]\n",
    "picsUrl = \"/photo/\"+comicRaw[2]\n",
    "picsUrl = \"domain\" + picsUrl\n",
    "(filename,picsUrl)"
   ]
  },
  {
   "cell_type": "code",
   "execution_count": 26,
   "metadata": {
    "ExecuteTime": {
     "end_time": "2018-12-20T12:17:58.551940Z",
     "start_time": "2018-12-20T12:17:58.529316Z"
    }
   },
   "outputs": [
    {
     "data": {
      "text/plain": [
       "'https://18comic.org/albums?page=2'"
      ]
     },
     "execution_count": 26,
     "metadata": {},
     "output_type": "execute_result"
    }
   ],
   "source": [
    "nextUrl = soup.select(\"div.hidden-xs li a.prevnext\")[0][\"href\"]"
   ]
  },
  {
   "cell_type": "code",
   "execution_count": 14,
   "metadata": {
    "ExecuteTime": {
     "end_time": "2018-12-20T12:07:31.756689Z",
     "start_time": "2018-12-20T12:07:29.742030Z"
    }
   },
   "outputs": [],
   "source": [
    "pic_page = requests.get(r'https://18comic.org/photo/74277')"
   ]
  },
  {
   "cell_type": "code",
   "execution_count": 15,
   "metadata": {
    "ExecuteTime": {
     "end_time": "2018-12-20T12:07:45.322046Z",
     "start_time": "2018-12-20T12:07:45.227686Z"
    }
   },
   "outputs": [],
   "source": [
    "pic_soup = BeautifulSoup(pic_page.text)"
   ]
  },
  {
   "cell_type": "code",
   "execution_count": 43,
   "metadata": {
    "ExecuteTime": {
     "end_time": "2018-12-20T13:50:29.596325Z",
     "start_time": "2018-12-20T13:50:29.570994Z"
    }
   },
   "outputs": [
    {
     "data": {
      "text/plain": [
       "<img class=\"lazy_img img-responsive-mw\" data-page=\"0\" id=\"album_photo_00001.jpg\" src=\"/media/photos/74277/00001.jpg\"/>"
      ]
     },
     "execution_count": 43,
     "metadata": {},
     "output_type": "execute_result"
    }
   ],
   "source": [
    "pic_soup.select(\"div.row div img.lazy_img\")[0]"
   ]
  },
  {
   "cell_type": "code",
   "execution_count": 27,
   "metadata": {
    "ExecuteTime": {
     "end_time": "2018-12-20T12:36:54.238078Z",
     "start_time": "2018-12-20T12:36:41.368283Z"
    }
   },
   "outputs": [],
   "source": [
    "def downloadUrl(url,path):\n",
    "    r = requests.get(url, stream=True)\n",
    "    if r.status_code == 200:\n",
    "        with open(path, 'wb') as f:\n",
    "            for chunk in r.iter_content(1024):\n",
    "                f.write(chunk)"
   ]
  },
  {
   "cell_type": "code",
   "execution_count": null,
   "metadata": {},
   "outputs": [],
   "source": [
    "while url:\n",
    "    get imglinks\n",
    "    download\n",
    "    nextone"
   ]
  }
 ],
 "metadata": {
  "kernelspec": {
   "display_name": "Python 3",
   "language": "python",
   "name": "python3"
  },
  "language_info": {
   "codemirror_mode": {
    "name": "ipython",
    "version": 3
   },
   "file_extension": ".py",
   "mimetype": "text/x-python",
   "name": "python",
   "nbconvert_exporter": "python",
   "pygments_lexer": "ipython3",
   "version": "3.7.0"
  }
 },
 "nbformat": 4,
 "nbformat_minor": 2
}
