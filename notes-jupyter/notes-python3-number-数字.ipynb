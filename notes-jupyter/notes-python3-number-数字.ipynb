{
 "cells": [
  {
   "cell_type": "code",
   "execution_count": 1,
   "metadata": {},
   "outputs": [
    {
     "data": {
      "text/plain": [
       "'\\n这也是\\n'"
      ]
     },
     "execution_count": 1,
     "metadata": {},
     "output_type": "execute_result"
    }
   ],
   "source": [
    "#这是一个python3 注释\n",
    "\n",
    "'''\n",
    "这也是\n",
    "'''\n",
    "\n",
    "\"\"\"\n",
    "这也是\n",
    "\"\"\""
   ]
  },
  {
   "cell_type": "markdown",
   "metadata": {},
   "source": [
    "# 数字类型"
   ]
  },
  {
   "cell_type": "markdown",
   "metadata": {},
   "source": [
    "## 整数"
   ]
  },
  {
   "cell_type": "code",
   "execution_count": 9,
   "metadata": {},
   "outputs": [
    {
     "name": "stdout",
     "output_type": "stream",
     "text": [
      "9223372036854775807\n"
     ]
    }
   ],
   "source": [
    "#普通的十进制整数表示\n",
    "intval = 10;\n",
    "\n",
    "#十六进制表示的整数\n",
    "# 前缀 0x\n",
    "intval0x = 0xff;\n",
    "\n",
    "#八进制表示的整数\n",
    "#前缀 0o\n",
    "intvalo = 0o66;\n",
    "\n",
    "#查看整数范围\n",
    "#应为python3 是动态语言\n",
    "#所以不用太过但心整数越界..\n",
    "import sys\n",
    "print(sys.maxsize)"
   ]
  },
  {
   "cell_type": "markdown",
   "metadata": {},
   "source": [
    "## 浮点数"
   ]
  },
  {
   "cell_type": "code",
   "execution_count": 3,
   "metadata": {},
   "outputs": [
    {
     "name": "stdout",
     "output_type": "stream",
     "text": [
      "2000.0\n"
     ]
    }
   ],
   "source": [
    "floatval = 1.0;\n",
    "\n",
    "#科学技术法\n",
    "# 2e3 -> 2 * 10^3\n",
    "floatval2 = 2e3;\n",
    "print(floatval2)\n"
   ]
  },
  {
   "cell_type": "markdown",
   "metadata": {},
   "source": [
    "## 复数\n",
    "\n",
    "### 复数( (complex)) - 复数由实数部分和虚数部分构成，可以用a + bj,或者complex(a,b)表示， 复数的实部a和虚部b都是浮点型。"
   ]
  },
  {
   "cell_type": "markdown",
   "metadata": {},
   "source": [
    "# 数值转换\n",
    "运算时一般会自动转换\n",
    "\n",
    "有时候，我们需要对数据内置的类型进行转换，数据类型的转换，你只需要将数据类型作为函数名即可。\n",
    "\n",
    "int(x) 将x转换为一个整数。\n",
    "\n",
    "float(x) 将x转换到一个浮点数。\n",
    "\n",
    "complex(x) 将x转换到一个复数，实数部分为 x，虚数部分为 0。\n",
    "\n",
    "complex(x, y) 将 x 和 y 转换到一个复数，实数部分为 x，虚数部分为 y。x 和 y 是数字表达式。"
   ]
  },
  {
   "cell_type": "raw",
   "metadata": {},
   "source": [
    "Python算术运算符\n",
    "以下假设变量a为10，变量b为21：\n",
    "\n",
    "运算符\t描述\t实例\n",
    "+\t加 - 两个对象相加\ta + b 输出结果 31\n",
    "-\t减 - 得到负数或是一个数减去另一个数\ta - b 输出结果 -11\n",
    "*\t乘 - 两个数相乘或是返回一个被重复若干次的字符串\ta * b 输出结果 210\n",
    "/\t除 - x 除以 y\tb / a 输出结果 2.1\n",
    "%\t取模 - 返回除法的余数\tb % a 输出结果 1\n",
    "**\t幂 - 返回x的y次幂\ta**b 为10的21次方\n",
    "//\t取整除 - 返回商的整数部分\t9//2 输出结果 4 , 9.0//2.0 输出结果 4.0\n",
    "\n"
   ]
  },
  {
   "cell_type": "raw",
   "metadata": {},
   "source": [
    "Python比较运算符\n",
    "以下假设变量a为10，变量b为20：\n",
    "\n",
    "运算符\t描述\t实例\n",
    "==\t等于 - 比较对象是否相等\t(a == b) 返回 False。\n",
    "!=\t不等于 - 比较两个对象是否不相等\t(a != b) 返回 True。\n",
    ">\t大于 - 返回x是否大于y\t(a > b) 返回 False。\n",
    "<\t小于 - 返回x是否小于y。所有比较运算符返回1表示真，返回0表示假。这分别与特殊的变量True和False等价。注意，这些变量名的大写。\t(a < b) 返回 True。\n",
    ">=\t大于等于 - 返回x是否大于等于y。\t(a >= b) 返回 False。\n",
    "<=\t小于等于 - 返回x是否小于等于y。\t(a <= b) 返回 True。"
   ]
  },
  {
   "cell_type": "raw",
   "metadata": {},
   "source": [
    "Python赋值运算符\n",
    "以下假设变量a为10，变量b为20：\n",
    "\n",
    "运算符\t描述\t实例\n",
    "=\t简单的赋值运算符\tc = a + b 将 a + b 的运算结果赋值为 c\n",
    "+=\t加法赋值运算符\tc += a 等效于 c = c + a\n",
    "-=\t减法赋值运算符\tc -= a 等效于 c = c - a\n",
    "*=\t乘法赋值运算符\tc *= a 等效于 c = c * a\n",
    "/=\t除法赋值运算符\tc /= a 等效于 c = c / a\n",
    "%=\t取模赋值运算符\tc %= a 等效于 c = c % a\n",
    "**=\t幂赋值运算符\tc **= a 等效于 c = c ** a\n",
    "//=\t取整除赋值运算符\tc //= a 等效于 c = c // a"
   ]
  },
  {
   "cell_type": "raw",
   "metadata": {},
   "source": [
    "Python位运算符\n",
    "按位运算符是把数字看作二进制来进行计算的。Python中的按位运算法则如下：\n",
    "\n",
    "下表中变量 a 为 60，b 为 13二进制格式如下：\n",
    "\n",
    "a = 0011 1100\n",
    "\n",
    "b = 0000 1101\n",
    "\n",
    "-----------------\n",
    "\n",
    "a&b = 0000 1100\n",
    "\n",
    "a|b = 0011 1101\n",
    "\n",
    "a^b = 0011 0001\n",
    "\n",
    "~a  = 1100 0011\n",
    "运算符\t描述\t实例\n",
    "&\t按位与运算符：参与运算的两个值,如果两个相应位都为1,则该位的结果为1,否则为0\t(a & b) 输出结果 12 ，二进制解释： 0000 1100\n",
    "|\t按位或运算符：只要对应的二个二进位有一个为1时，结果位就为1。\t(a | b) 输出结果 61 ，二进制解释： 0011 1101\n",
    "^\t按位异或运算符：当两对应的二进位相异时，结果为1\t(a ^ b) 输出结果 49 ，二进制解释： 0011 0001\n",
    "~\t按位取反运算符：对数据的每个二进制位取反,即把1变为0,把0变为1。~x 类似于 -x-1\t(~a ) 输出结果 -61 ，二进制解释： 1100 0011， 在一个有符号二进制数的补码形式。\n",
    "<<\t左移动运算符：运算数的各二进位全部左移若干位，由\"<<\"右边的数指定移动的位数，高位丢弃，低位补0。\ta << 2 输出结果 240 ，二进制解释： 1111 0000\n",
    ">>\t右移动运算符：把\">>\"左边的运算数的各二进位全部右移若干位，\">>\"右边的数指定移动的位数\ta >> 2 输出结果 15 ，二进制解释： 0000 1111"
   ]
  },
  {
   "cell_type": "raw",
   "metadata": {},
   "source": [
    "Python逻辑运算符\n",
    "Python语言支持逻辑运算符，以下假设变量 a 为 10, b为 20:\n",
    "\n",
    "运算符\t逻辑表达式\t描述\t实例\n",
    "and\tx and y\t布尔\"与\" - 如果 x 为 False，x and y 返回 False，否则它返回 y 的计算值。\t(a and b) 返回 20。\n",
    "or\tx or y\t布尔\"或\" - 如果 x 是 True，它返回 x 的值，否则它返回 y 的计算值。\t(a or b) 返回 10。\n",
    "not\tnot x\t布尔\"非\" - 如果 x 为 True，返回 False 。如果 x 为 False，它返回 True。\tnot(a and b) 返回 False"
   ]
  },
  {
   "cell_type": "raw",
   "metadata": {},
   "source": [
    "Python成员运算符\n",
    "除了以上的一些运算符之外，Python还支持成员运算符，测试实例中包含了一系列的成员，包括字符串，列表或元组。\n",
    "\n",
    "运算符\t描述\t实例\n",
    "in\t如果在指定的序列中找到值返回 True，否则返回 False。\tx 在 y 序列中 , 如果 x 在 y 序列中返回 True。\n",
    "not in\t如果在指定的序列中没有找到值返回 True，否则返回 False。\tx 不在 y 序列中 , 如果 x 不在 y 序列中返回 True。"
   ]
  },
  {
   "cell_type": "raw",
   "metadata": {},
   "source": [
    "Python身份运算符\n",
    "身份运算符用于比较两个对象的存储单元\n",
    "\n",
    "运算符\t描述\t实例\n",
    "is\tis 是判断两个标识符是不是引用自一个对象\tx is y, 类似 id(x) == id(y) , 如果引用的是同一个对象则返回 True，否则返回 False\n",
    "is not\tis not 是判断两个标识符是不是引用自不同对象\tx is not y ， 类似 id(a) != id(b)。如果引用的不是同一个对象则返回结果 True，否则返回 False。"
   ]
  },
  {
   "cell_type": "code",
   "execution_count": null,
   "metadata": {
    "collapsed": true
   },
   "outputs": [],
   "source": []
  }
 ],
 "metadata": {
  "kernelspec": {
   "display_name": "Python 3",
   "language": "python",
   "name": "python3"
  },
  "language_info": {
   "codemirror_mode": {
    "name": "ipython",
    "version": 3
   },
   "file_extension": ".py",
   "mimetype": "text/x-python",
   "name": "python",
   "nbconvert_exporter": "python",
   "pygments_lexer": "ipython3",
   "version": "3.6.2"
  }
 },
 "nbformat": 4,
 "nbformat_minor": 2
}
