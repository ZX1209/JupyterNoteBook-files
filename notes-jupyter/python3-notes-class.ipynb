{
 "cells": [
  {
   "cell_type": "markdown",
   "metadata": {},
   "source": [
    "# python3 class notes"
   ]
  },
  {
   "cell_type": "markdown",
   "metadata": {},
   "source": [
    "类属性与方法\n",
    "类的私有属性\n",
    "__private_attrs：两个下划线开头，声明该属性为私有，不能在类地外部被使用或直接访问。在类内部的方法中使用时 self.__private_attrs。\n",
    "\n",
    "类的方法\n",
    "在类地内部，使用 def 关键字来定义一个方法，与一般函数定义不同，类方法必须包含参数 self，且为第一个参数，self 代表的是类的实例。\n",
    "\n",
    "self 的名字并不是规定死的，也可以使用 this，但是最好还是按照约定是用 self。\n",
    "\n",
    "类的私有方法\n",
    "__private_method：两个下划线开头，声明该方法为私有方法，只能在类的内部调用 ，不能在类地外部调用。self.__private_methods。"
   ]
  },
  {
   "cell_type": "markdown",
   "metadata": {},
   "source": [
    "类的专有方法：\n",
    "__init__ : 构造函数，在生成对象时调用\n",
    "__del__ : 析构函数，释放对象时使用\n",
    "__repr__ : 打印，转换\n",
    "__setitem__ : 按照索引赋值\n",
    "__getitem__: 按照索引获取值\n",
    "__len__: 获得长度\n",
    "__cmp__: 比较运算\n",
    "__call__: 函数调用\n",
    "__add__: 加运算\n",
    "__sub__: 减运算\n",
    "__mul__: 乘运算\n",
    "__div__: 除运算\n",
    "__mod__: 求余运算\n",
    "__pow__: 乘方\n",
    "运算符重载"
   ]
  },
  {
   "cell_type": "code",
   "execution_count": 18,
   "metadata": {
    "collapsed": true
   },
   "outputs": [],
   "source": [
    "#类定义\n",
    "class CallTrack:\n",
    "    \n",
    "    #覆盖类的专有方法\n",
    "    #类中方法声明第一个参数必须是self,,this也行\n",
    "    #不推荐\n",
    "    def __init__(self,name):\n",
    "        print(name+\"init\")\n",
    "        \n",
    "    def __del__(self,name):\n",
    "        print(name+\"del\")\n",
    "        "
   ]
  },
  {
   "cell_type": "code",
   "execution_count": 9,
   "metadata": {},
   "outputs": [
    {
     "name": "stdout",
     "output_type": "stream",
     "text": [
      "simpleclass\n"
     ]
    }
   ],
   "source": [
    "class simpleclass:\n",
    "    #公有类变量\n",
    "    name = ''\n",
    "    #私有类变量 用 __ 声明\n",
    "    __name=''\n",
    "    \n",
    "    #构造函数,,析构为__del__,,\n",
    "    #是重写了类的专有方法\n",
    "    def __init__(self):\n",
    "        #用类变量都要加个 self. 什么的..\n",
    "        self.name = \"simpleclass\"\n",
    "        \n",
    "    \n",
    "    #公有函数定义\n",
    "    def getname(self):\n",
    "        return self.name\n",
    "    #私有函数定义\n",
    "    def __getname(self):\n",
    "        return self.__name\n",
    "    \n",
    "test1=simpleclass()\n",
    "\n",
    "print(test1.getname())\n",
    "\n",
    "#会出错\n",
    "#test1.__getname()"
   ]
  },
  {
   "cell_type": "code",
   "execution_count": 17,
   "metadata": {},
   "outputs": [
    {
     "name": "stdout",
     "output_type": "stream",
     "text": [
      "peopleclassinit\n"
     ]
    },
    {
     "name": "stderr",
     "output_type": "stream",
     "text": [
      "Exception ignored in: <bound method CallTrack.__del__ of <__main__.peopleclass object at 0x0000019499552B00>>\n",
      "Traceback (most recent call last):\n",
      "  File \"<ipython-input-15-e7ea9bde8a16>\", line 10, in __del__\n",
      "TypeError: unsupported operand type(s) for +: 'peopleclass' and 'str'\n"
     ]
    }
   ],
   "source": []
  },
  {
   "cell_type": "code",
   "execution_count": null,
   "metadata": {
    "collapsed": true
   },
   "outputs": [],
   "source": []
  }
 ],
 "metadata": {
  "kernelspec": {
   "display_name": "Python 3",
   "language": "python",
   "name": "python3"
  },
  "language_info": {
   "codemirror_mode": {
    "name": "ipython",
    "version": 3
   },
   "file_extension": ".py",
   "mimetype": "text/x-python",
   "name": "python",
   "nbconvert_exporter": "python",
   "pygments_lexer": "ipython3",
   "version": "3.6.2"
  }
 },
 "nbformat": 4,
 "nbformat_minor": 2
}
