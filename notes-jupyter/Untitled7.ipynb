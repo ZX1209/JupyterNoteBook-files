{
 "cells": [
  {
   "cell_type": "code",
   "execution_count": 7,
   "metadata": {},
   "outputs": [
    {
     "name": "stdout",
     "output_type": "stream",
     "text": [
      "产生了第1个分身...\n",
      "1\n",
      "产生了第2个分身...\n",
      "2\n",
      "产生了第3个分身...\n",
      "3\n",
      "产生了第4个分身...\n",
      "4\n",
      "产生了第5个分身...\n",
      "5\n"
     ]
    }
   ],
   "source": [
    "import threading\n",
    "\n",
    "i = 0\n",
    "\n",
    "def shadow(num):\n",
    "    global i\n",
    "    print('产生了第{}个分身...'.format(num))\n",
    "    print(i)\n",
    "    return 0\n",
    "\n",
    "for i in range(1, 6):\n",
    "    t = threading.Thread(target=shadow, args=(i,))\n",
    "    t.start()\n",
    "    t.join()"
   ]
  },
  {
   "cell_type": "code",
   "execution_count": 6,
   "metadata": {},
   "outputs": [
    {
     "name": "stdout",
     "output_type": "stream",
     "text": [
      "Thread-21产生了第1个分身...\n",
      "Thread-22产生了第2个分身...\n",
      "Thread-23产生了第3个分身...\n",
      "Thread-24产生了第4个分身...\n",
      "Thread-25产生了第5个分身...\n"
     ]
    }
   ],
   "source": [
    "def shadow(num):\n",
    "    print('{}产生了第{}个分身...'.format(threading.currentThread().name, num))\n",
    "\n",
    "for i in range(1, 6):\n",
    "    t = threading.Thread(target=shadow, args=(i,))\n",
    "    t.start()\n",
    "    t.join()"
   ]
  },
  {
   "cell_type": "code",
   "execution_count": null,
   "metadata": {},
   "outputs": [],
   "source": []
  }
 ],
 "metadata": {
  "kernelspec": {
   "display_name": "Python 3",
   "language": "python",
   "name": "python3"
  },
  "language_info": {
   "codemirror_mode": {
    "name": "ipython",
    "version": 3
   },
   "file_extension": ".py",
   "mimetype": "text/x-python",
   "name": "python",
   "nbconvert_exporter": "python",
   "pygments_lexer": "ipython3",
   "version": "3.6.4"
  },
  "toc": {
   "base_numbering": 1,
   "nav_menu": {},
   "number_sections": true,
   "sideBar": true,
   "skip_h1_title": false,
   "title_cell": "Table of Contents",
   "title_sidebar": "Contents",
   "toc_cell": false,
   "toc_position": {},
   "toc_section_display": true,
   "toc_window_display": true
  }
 },
 "nbformat": 4,
 "nbformat_minor": 2
}
