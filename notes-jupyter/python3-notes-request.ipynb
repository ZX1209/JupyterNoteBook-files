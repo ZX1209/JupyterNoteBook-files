{
 "cells": [
  {
   "cell_type": "markdown",
   "metadata": {},
   "source": [
    "# requeset 库 探索\n",
    ">开发哲学\n",
    ">Requests 是以 PEP 20 的箴言为中心开发的\n",
    "\n",
    "1. Beautiful is better than ugly.(美丽优于丑陋)\n",
    "2. Explicit is better than implicit.(直白优于含蓄)\n",
    "3. Simple is better than complex.(简单优于复杂)\n",
    "4. Complex is better than complicated.(复杂优于繁琐)\n",
    "5. Readability counts.(可读性很重要)  \n",
    "对于 Requests 所有的贡献都应牢记这些重要的准则。"
   ]
  },
  {
   "cell_type": "markdown",
   "metadata": {},
   "source": [
    "## 安装\n",
    "### pip\n",
    "`pip install requesets`\n",
    "\n",
    "### git socure code\n",
    "`git clone git://github.com/kennethreitz/requests.git`\n",
    "\n",
    "之后\n",
    "\n",
    "`cd requeset\n",
    "pip install`\n"
   ]
  },
  {
   "cell_type": "markdown",
   "metadata": {},
   "source": [
    "## 发送请求"
   ]
  },
  {
   "cell_type": "code",
   "execution_count": 1,
   "metadata": {
    "collapsed": true
   },
   "outputs": [],
   "source": [
    "#导入Request 模块\n",
    "import requests\n",
    "\n",
    "#然后，尝试获取某个网页。本例子中，我们来获取 Github 的公共时间线：\n",
    "r =  requests.get('https://api.github.com/events')\n",
    "#现在，我们有一个名为 r 的 Response 对象。我们可以从这个对象中获取所有我们想要的信息。\n",
    "\n",
    "#Requests 简便的 API 意味着所有 HTTP 请求类型都是显而易见的。\n",
    "#例如，你可以这样发送一个 HTTP POST 请求：\n",
    "r = requests.post('http://httpbin.org/post', data = {'key':'value'})\n",
    "\n",
    "#漂亮，对吧？那么其他 HTTP 请求类型：PUT，DELETE，HEAD 以及 OPTIONS 又是如何的呢？\n",
    "#都是一样的简单：\n",
    "r = requests.put('http://httpbin.org/put', data = {'key':'value'})\n",
    "r = requests.delete('http://httpbin.org/delete')\n",
    "r = requests.head('http://httpbin.org/get')\n",
    "r = requests.options('http://httpbin.org/get')\n"
   ]
  },
  {
   "cell_type": "markdown",
   "metadata": {},
   "source": [
    "## 传递URL参数"
   ]
  },
  {
   "cell_type": "code",
   "execution_count": 3,
   "metadata": {},
   "outputs": [
    {
     "name": "stdout",
     "output_type": "stream",
     "text": [
      "http://httpbin.org/get?key1=value1&key2=value2\n",
      "http://httpbin.org/get?key1=value1&key2=value2&key2=value3\n"
     ]
    }
   ],
   "source": [
    "#你也许经常想为 URL 的查询字符串(query string)传递某种数据。如果你是手工构建 URL，那么数据会以键/值对的形式置于 URL 中，\n",
    "#跟在一个问号的后面。例如， httpbin.org/get?key=val。 \n",
    "#Requests 允许你使用 params 关键字参数，以一个字符串字典来提供这些参数。\n",
    "#举例来说，如果你想传递 key1=value1 和 key2=value2 到 httpbin.org/get ，\n",
    "#那么你可以使用如下代码：\n",
    "\n",
    "payload = {'key1':'value1','key2':'value2'}\n",
    "r = requests.get(\"http://httpbin.org/get\",params=payload)\n",
    "\n",
    "print(r.url)\n",
    "\n",
    "#注意字典里值为 None 的键都不会被添加到 URL 的查询字符串里。\n",
    "\n",
    "#你还可以将一个列表作为值传入：\n",
    "\n",
    "payload = {'key1': 'value1', 'key2': ['value2', 'value3']}\n",
    "\n",
    "r = requests.get('http://httpbin.org/get', params=payload)\n",
    "print(r.url)\n",
    "\n"
   ]
  },
  {
   "cell_type": "markdown",
   "metadata": {},
   "source": [
    "## 响应内容\n",
    "我们能读取服务器响应的内容。再次以 GitHub 时间线为例："
   ]
  },
  {
   "cell_type": "code",
   "execution_count": 8,
   "metadata": {},
   "outputs": [
    {
     "data": {
      "text/plain": [
       "'utf-8'"
      ]
     },
     "execution_count": 8,
     "metadata": {},
     "output_type": "execute_result"
    }
   ],
   "source": [
    "import requests\n",
    "r = requests.get('https://api.github.com/events')\n",
    "\n",
    "#r.text\n",
    "\n",
    "#Requests 会自动解码来自服务器的内容。大多数 unicode 字符集都能被无缝地解码。\n",
    "\n",
    "#请求发出后，Requests 会基于 HTTP 头部对响应的编码作出有根据的推测。\n",
    "#当你访问 r.text 之时，Requests 会使用其推测的文本编码。\n",
    "#你可以找出 Requests 使用了什么编码，并且能够使用 r.encoding 属性来改变它：\n",
    "r.encoding\n",
    "#r.encoding='ISO-8859-1'"
   ]
  },
  {
   "cell_type": "markdown",
   "metadata": {},
   "source": [
    "如果你改变了编码，每当你访问 r.text ，Request 都将会使用 r.encoding 的新值。你可能希望在使用特殊逻辑计算出文本的编码的情况下来修改编码。比如 HTTP 和 XML 自身可以指定编码。这样的话，你应该使用 r.content 来找到编码，然后设置 r.encoding 为相应的编码。这样就能使用正确的编码解析 r.text 了。\n",
    "\n",
    "在你需要的情况下，Requests 也可以使用定制的编码。如果你创建了自己的编码，并使用 codecs 模块进行注册，你就可以轻松地使用这个解码器名称作为 r.encoding 的值， 然后由 Requests 来为你处理编码。"
   ]
  },
  {
   "cell_type": "markdown",
   "metadata": {},
   "source": [
    "## 二进制响应内容\n",
    "你也能以字节的方式访问请求响应体，对于非文本请求："
   ]
  },
  {
   "cell_type": "code",
   "execution_count": 23,
   "metadata": {},
   "outputs": [
    {
     "name": "stdout",
     "output_type": "stream",
     "text": [
      "None\n"
     ]
    }
   ],
   "source": [
    "pic = requests.get('http://www.yjccity.com/wp-content/uploads/2017/02/201702200621282.jpg')\n",
    "\n",
    "#pic.content\n",
    "\n",
    "from PIL import Image\n",
    "from io import BytesIO\n",
    "\n",
    "i = Image.open(BytesIO(pic.content))\n",
    "\n",
    "print(i.show())\n"
   ]
  },
  {
   "cell_type": "markdown",
   "metadata": {},
   "source": [
    "## JSON 响应内容\n",
    "Requests 中也有一个内置的 JSON 解码器，助你处理 JSON 数据"
   ]
  },
  {
   "cell_type": "code",
   "execution_count": null,
   "metadata": {
    "collapsed": true
   },
   "outputs": [],
   "source": [
    "import requests\n",
    "\n",
    "r = requests.get('https://api.github.com/events')\n",
    "r.json()"
   ]
  },
  {
   "cell_type": "markdown",
   "metadata": {},
   "source": [
    "如果 JSON 解码失败， r.json() 就会抛出一个异常。例如，响应内容是 401 (Unauthorized)，尝试访问 r.json() 将会抛出 ValueError: No JSON object could be decoded 异常。\n",
    "\n",
    "需要注意的是，成功调用 r.json() 并**不**意味着响应的成功。有的服务器会在失败的响应中包含一个 JSON 对象（比如 HTTP 500 的错误细节）。这种 JSON 会被解码返回。要检查请求是否成功，请使用 r.raise_for_status() 或者检查 r.status_code 是否和你的期望相同。"
   ]
  },
  {
   "cell_type": "markdown",
   "metadata": {},
   "source": [
    "## 原始响应内容\n",
    "在罕见的情况下，你可能想获取来自服务器的原始套接字响应，那么你可以访问 r.raw。 如果你确实想这么干，那请你确保在初始请求中设置了 stream=True。具体你可以这么做："
   ]
  },
  {
   "cell_type": "code",
   "execution_count": 21,
   "metadata": {},
   "outputs": [
    {
     "data": {
      "text/plain": [
       "\"\\nwith open(filename, 'wb') as fd:\\n    for chunk in r.iter_content(chunk_size):\\n        fd.write(chunk)\\n\""
      ]
     },
     "execution_count": 21,
     "metadata": {},
     "output_type": "execute_result"
    }
   ],
   "source": [
    "r = requests.get('https://api.github.com/events', stream=True)\n",
    "\n",
    "#r.raw\n",
    "\n",
    "r.raw.read(10)\n",
    "\n",
    "#但一般情况下，你应该以下面的模式将文本流保存到文件：\n",
    "'''\n",
    "with open(filename, 'wb') as fd:\n",
    "    for chunk in r.iter_content(chunk_size):\n",
    "        fd.write(chunk)\n",
    "'''\n"
   ]
  },
  {
   "cell_type": "markdown",
   "metadata": {},
   "source": [
    "## 定制请求头\n",
    "如果你想为请求添加 HTTP 头部，只要简单地传递一个 dict 给 headers 参数就可以了。\n",
    "\n",
    "例如，在前一个示例中我们没有指定 content-type:"
   ]
  },
  {
   "cell_type": "code",
   "execution_count": 24,
   "metadata": {
    "collapsed": true
   },
   "outputs": [],
   "source": [
    "url = 'https://api.github.com/some/endpoint'\n",
    "\n",
    "headers = {'user-agent': 'my-app/0.0.1'}\n",
    "\n",
    "r = requests.get(url, headers=headers)"
   ]
  },
  {
   "cell_type": "markdown",
   "metadata": {},
   "source": [
    "注意: 定制 header 的优先级低于某些特定的信息源，例如：\n",
    "\n",
    "如果在 .netrc 中设置了用户认证信息，使用 headers= 设置的授权就不会生效。而如果设置了 auth= 参数，``.netrc`` 的设置就无效了。\n",
    "如果被重定向到别的主机，授权 header 就会被删除。\n",
    "代理授权 header 会被 URL 中提供的代理身份覆盖掉。\n",
    "在我们能判断内容长度的情况下，header 的 Content-Length 会被改写。\n",
    "更进一步讲，Requests 不会基于定制 header 的具体情况改变自己的行为。只不过在最后的请求中，所有的 header 信息都会被传递进去。\n",
    "\n",
    "注意: 所有的 header 值必须是 string、bytestring 或者 unicode。尽管传递 unicode header 也是允许的，但不建议这样做。"
   ]
  },
  {
   "cell_type": "markdown",
   "metadata": {},
   "source": [
    "## 更加复杂的 POST 请求\n",
    "通常，你想要发送一些编码为表单形式的数据——非常像一个 HTML 表单。要实现这个，只需简单地传递一个字典给 data 参数。你的数据字典在发出请求时会自动编码为表单形式"
   ]
  },
  {
   "cell_type": "code",
   "execution_count": null,
   "metadata": {
    "collapsed": true
   },
   "outputs": [],
   "source": [
    "payload = {'key1': 'value1', 'key2': 'value2'}\n",
    "\n",
    "r = requests.post(\"http://httpbin.org/post\", data=payload)\n",
    "\n",
    "#print(r.text)\n",
    "\n",
    "#你还可以为 data 参数传入一个元组列表。\n",
    "#在表单中多个元素使用同一 key 的时候，这种方式尤其有效：\n",
    "\n",
    "payload = (('key1', 'value1'), ('key1', 'value2'))\n",
    "\n",
    "r = requests.post('http://httpbin.org/post', data=payload)\n",
    "\n",
    "print(r.text)"
   ]
  },
  {
   "cell_type": "markdown",
   "metadata": {},
   "source": [
    "## 响应状态码\n",
    "我们可以检测响应状态码："
   ]
  },
  {
   "cell_type": "code",
   "execution_count": 28,
   "metadata": {},
   "outputs": [
    {
     "ename": "HTTPError",
     "evalue": "404 Client Error: NOT FOUND for url: http://httpbin.org/status/404",
     "output_type": "error",
     "traceback": [
      "\u001b[1;31m---------------------------------------------------------------------------\u001b[0m",
      "\u001b[1;31mHTTPError\u001b[0m                                 Traceback (most recent call last)",
      "\u001b[1;32m<ipython-input-28-dc3dd79730de>\u001b[0m in \u001b[0;36m<module>\u001b[1;34m()\u001b[0m\n\u001b[0;32m     12\u001b[0m \u001b[0mbad_r\u001b[0m\u001b[1;33m.\u001b[0m\u001b[0mstatus_code\u001b[0m\u001b[1;33m\u001b[0m\u001b[0m\n\u001b[0;32m     13\u001b[0m \u001b[1;33m\u001b[0m\u001b[0m\n\u001b[1;32m---> 14\u001b[1;33m \u001b[0mbad_r\u001b[0m\u001b[1;33m.\u001b[0m\u001b[0mraise_for_status\u001b[0m\u001b[1;33m(\u001b[0m\u001b[1;33m)\u001b[0m\u001b[1;33m\u001b[0m\u001b[0m\n\u001b[0m\u001b[0;32m     15\u001b[0m \u001b[1;33m\u001b[0m\u001b[0m\n\u001b[0;32m     16\u001b[0m \u001b[1;31m#但是，由于我们的例子中 r 的 status_code 是 200 ，\u001b[0m\u001b[1;33m\u001b[0m\u001b[1;33m\u001b[0m\u001b[0m\n",
      "\u001b[1;32mD:\\ProgramData\\Anaconda3\\lib\\site-packages\\requests\\models.py\u001b[0m in \u001b[0;36mraise_for_status\u001b[1;34m(self)\u001b[0m\n\u001b[0;32m    926\u001b[0m \u001b[1;33m\u001b[0m\u001b[0m\n\u001b[0;32m    927\u001b[0m         \u001b[1;32mif\u001b[0m \u001b[0mhttp_error_msg\u001b[0m\u001b[1;33m:\u001b[0m\u001b[1;33m\u001b[0m\u001b[0m\n\u001b[1;32m--> 928\u001b[1;33m             \u001b[1;32mraise\u001b[0m \u001b[0mHTTPError\u001b[0m\u001b[1;33m(\u001b[0m\u001b[0mhttp_error_msg\u001b[0m\u001b[1;33m,\u001b[0m \u001b[0mresponse\u001b[0m\u001b[1;33m=\u001b[0m\u001b[0mself\u001b[0m\u001b[1;33m)\u001b[0m\u001b[1;33m\u001b[0m\u001b[0m\n\u001b[0m\u001b[0;32m    929\u001b[0m \u001b[1;33m\u001b[0m\u001b[0m\n\u001b[0;32m    930\u001b[0m     \u001b[1;32mdef\u001b[0m \u001b[0mclose\u001b[0m\u001b[1;33m(\u001b[0m\u001b[0mself\u001b[0m\u001b[1;33m)\u001b[0m\u001b[1;33m:\u001b[0m\u001b[1;33m\u001b[0m\u001b[0m\n",
      "\u001b[1;31mHTTPError\u001b[0m: 404 Client Error: NOT FOUND for url: http://httpbin.org/status/404"
     ]
    }
   ],
   "source": [
    "r = requests.get('http://httpbin.org/get')\n",
    "\n",
    "r.status_code\n",
    "\n",
    "#为方便引用，Requests还附带了一个内置的状态码查询对象\n",
    "r.status_code == requests.codes.ok\n",
    "\n",
    "#如果发送了一个错误请求(一个 4XX 客户端错误，或者 5XX 服务器错误响应)，\n",
    "#我们可以通过 Response.raise_for_status() 来抛出异常：\n",
    "\n",
    "bad_r = requests.get('http://httpbin.org/status/404')\n",
    "bad_r.status_code\n",
    "\n",
    "bad_r.raise_for_status()\n",
    "\n",
    "#但是，由于我们的例子中 r 的 status_code 是 200 ，\n",
    "#当我们调用 raise_for_status() 时，得到的是：\n",
    "r.raise_for_status()\n",
    "#None\n",
    "#一切都挺和谐哈。"
   ]
  },
  {
   "cell_type": "markdown",
   "metadata": {},
   "source": [
    "## 响应头\n",
    "我们可以查看以一个 Python 字典形式展示的服务器响应头："
   ]
  },
  {
   "cell_type": "code",
   "execution_count": 29,
   "metadata": {},
   "outputs": [
    {
     "data": {
      "text/plain": [
       "{'Connection': 'keep-alive', 'Server': 'meinheld/0.6.1', 'Date': 'Sat, 07 Apr 2018 02:20:34 GMT', 'Content-Type': 'application/json', 'Access-Control-Allow-Origin': '*', 'Access-Control-Allow-Credentials': 'true', 'X-Powered-By': 'Flask', 'X-Processed-Time': '0', 'Content-Length': '267', 'Via': '1.1 vegur'}"
      ]
     },
     "execution_count": 29,
     "metadata": {},
     "output_type": "execute_result"
    }
   ],
   "source": [
    "r.headers"
   ]
  },
  {
   "cell_type": "markdown",
   "metadata": {},
   "source": [
    "但是这个字典比较特殊：它是仅为 HTTP 头部而生的。根据 RFC 2616， HTTP 头部是大小写不敏感的。\n",
    "\n",
    "因此，我们可以使用任意大写形式来访问这些响应头字段：\n",
    "```python3\n",
    "\n",
    "r.headers['Content-Type']\n",
    "'application/json'\n",
    "\n",
    "r.headers.get('content-type')\n",
    "'application/json'\n",
    "```\n",
    "\n",
    "它还有一个特殊点，那就是服务器可以多次接受同一 header，每次都使用不同的值。但 Requests 会将它们合并，这样它们就可以用一个映射来表示出来，参见 RFC 7230:\n",
    "\n",
    "A recipient MAY combine multiple header fields with the same field name into one \"field-name: field-value\" pair, without changing the semantics of the message, by appending each subsequent field value to the combined field value in order, separated by a comma.\n",
    "\n",
    "接收者可以合并多个相同名称的 header 栏位，把它们合为一个 \"field-name: field-value\" 配对，将每个后续的栏位值依次追加到合并的栏位值中，用逗号隔开即可，这样做不会改变信息的语义。"
   ]
  },
  {
   "cell_type": "markdown",
   "metadata": {},
   "source": [
    "## Cookie\n",
    "如果某个响应中包含一些 cookie，你可以快速访问它们："
   ]
  },
  {
   "cell_type": "code",
   "execution_count": 31,
   "metadata": {},
   "outputs": [
    {
     "data": {
      "text/plain": [
       "<RequestsCookieJar[]>"
      ]
     },
     "execution_count": 31,
     "metadata": {},
     "output_type": "execute_result"
    }
   ],
   "source": [
    "url = 'http://example.com/some/cookie/setting/url'\n",
    "\n",
    "r = requests.get(url)\n",
    "\n",
    "r.cookies\n",
    "\n",
    "#要想发送你的cookies到服务器，可以使用 cookies 参数：\n",
    "url = 'http://httpbin.org/cookies'\n",
    "cookies = dict(cookies_are='working')\n",
    "r = requests.get(url, cookies=cookies)\n",
    "r.text"
   ]
  },
  {
   "cell_type": "code",
   "execution_count": null,
   "metadata": {
    "collapsed": true
   },
   "outputs": [],
   "source": []
  },
  {
   "cell_type": "markdown",
   "metadata": {
    "collapsed": true
   },
   "source": []
  }
 ],
 "metadata": {
  "kernelspec": {
   "display_name": "Python 3",
   "language": "python",
   "name": "python3"
  },
  "language_info": {
   "codemirror_mode": {
    "name": "ipython",
    "version": 3
   },
   "file_extension": ".py",
   "mimetype": "text/x-python",
   "name": "python",
   "nbconvert_exporter": "python",
   "pygments_lexer": "ipython3",
   "version": "3.6.2"
  },
  "toc": {
   "base_numbering": 1,
   "nav_menu": {},
   "number_sections": true,
   "sideBar": true,
   "skip_h1_title": false,
   "title_cell": "Table of Contents",
   "title_sidebar": "Contents",
   "toc_cell": false,
   "toc_position": {},
   "toc_section_display": true,
   "toc_window_display": false
  }
 },
 "nbformat": 4,
 "nbformat_minor": 2
}
