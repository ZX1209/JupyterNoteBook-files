{
 "cells": [
  {
   "cell_type": "markdown",
   "metadata": {},
   "source": [
    "# python3 代数运算(高级计算器)"
   ]
  },
  {
   "cell_type": "markdown",
   "metadata": {},
   "source": [
    "## 基本(python内置运算)\n",
    "\n",
    "1. 加法,减法,乘法,除法\n",
    "2. 取余,取整,\n",
    "3. 上界,下界\n",
    "4. 次方\n"
   ]
  },
  {
   "cell_type": "code",
   "execution_count": 1,
   "metadata": {},
   "outputs": [
    {
     "data": {
      "text/plain": [
       "4"
      ]
     },
     "execution_count": 1,
     "metadata": {},
     "output_type": "execute_result"
    }
   ],
   "source": [
    "# 加法\n",
    "# 基本不要管范围啊..\n",
    "# 类型也不用管,自动转换\n",
    "2+2"
   ]
  },
  {
   "cell_type": "code",
   "execution_count": 2,
   "metadata": {},
   "outputs": [
    {
     "data": {
      "text/plain": [
       "-1"
      ]
     },
     "execution_count": 2,
     "metadata": {},
     "output_type": "execute_result"
    }
   ],
   "source": [
    "# 减法\n",
    "3-4"
   ]
  },
  {
   "cell_type": "code",
   "execution_count": 3,
   "metadata": {},
   "outputs": [
    {
     "data": {
      "text/plain": [
       "12"
      ]
     },
     "execution_count": 3,
     "metadata": {},
     "output_type": "execute_result"
    }
   ],
   "source": [
    "# 乘法\n",
    "3*4"
   ]
  },
  {
   "cell_type": "code",
   "execution_count": 4,
   "metadata": {},
   "outputs": [
    {
     "data": {
      "text/plain": [
       "1.3333333333333333"
      ]
     },
     "execution_count": 4,
     "metadata": {},
     "output_type": "execute_result"
    }
   ],
   "source": [
    "# 除法\n",
    "4/3"
   ]
  },
  {
   "cell_type": "code",
   "execution_count": 10,
   "metadata": {},
   "outputs": [
    {
     "data": {
      "text/plain": [
       "3"
      ]
     },
     "execution_count": 10,
     "metadata": {},
     "output_type": "execute_result"
    }
   ],
   "source": [
    "# 取模--返回除法的余数\n",
    "3%4"
   ]
  },
  {
   "cell_type": "code",
   "execution_count": 11,
   "metadata": {},
   "outputs": [
    {
     "data": {
      "text/plain": [
       "1"
      ]
     },
     "execution_count": 11,
     "metadata": {},
     "output_type": "execute_result"
    }
   ],
   "source": [
    "# 取整--返会商的整数部分\n",
    "4//3"
   ]
  },
  {
   "cell_type": "code",
   "execution_count": 12,
   "metadata": {},
   "outputs": [
    {
     "data": {
      "text/plain": [
       "16"
      ]
     },
     "execution_count": 12,
     "metadata": {},
     "output_type": "execute_result"
    }
   ],
   "source": [
    "# 幂--返回 x 的 y 次幂\n",
    "# x**y\n",
    "4**2"
   ]
  },
  {
   "cell_type": "code",
   "execution_count": 20,
   "metadata": {},
   "outputs": [
    {
     "name": "stdout",
     "output_type": "stream",
     "text": [
      "12\n",
      "12.346\n"
     ]
    }
   ],
   "source": [
    "# 返回四舍五入后的值\n",
    "# 可以有第二个参数表示舍几位,,默认为0\n",
    "print(round(12.3))\n",
    "\n",
    "print(round(12.34634,3))"
   ]
  },
  {
   "cell_type": "markdown",
   "metadata": {},
   "source": [
    "## math 模块\n",
    "\n",
    "### 常用\n",
    "\n",
    "    ceil(...)\n",
    "        ceil(x)\n",
    "        \n",
    "        Return the ceiling of x as an Integral.\n",
    "        This is the smallest integer >= x.\n",
    "    \n",
    "    copysign(...)\n",
    "        copysign(x, y)\n",
    "        \n",
    "        Return a float with the magnitude (absolute value) of x but the sign \n",
    "        of y. On platforms that support signed zeros, copysign(1.0, -0.0) \n",
    "        returns -1.0.\n",
    "    \n",
    "    cos(...)\n",
    "        cos(x)\n",
    "        \n",
    "        Return the cosine of x (measured in radians).\n",
    "    \n",
    "    degrees(...)\n",
    "        degrees(x)\n",
    "        \n",
    "        Convert angle x from radians to degrees.\n",
    " \n",
    "    exp(...)\n",
    "        exp(x)\n",
    "        \n",
    "        Return e raised to the power of x.\n",
    "    \n",
    "    fabs(...)\n",
    "        fabs(x)\n",
    "        \n",
    "        Return the absolute value of the float x.\n",
    "    \n",
    "    factorial(...)\n",
    "        factorial(x) -> Integral\n",
    "        \n",
    "        Find x!. Raise a ValueError if x is negative or non-integral.\n",
    "    \n",
    "    floor(...)\n",
    "        floor(x)\n",
    "        \n",
    "        Return the floor of x as an Integral.\n",
    "        This is the largest integer <= x.\n",
    "    \n",
    "    fmod(...)\n",
    "        fmod(x, y)\n",
    "        \n",
    "        Return fmod(x, y), according to platform C.  x % y may differ.\n",
    "    \n",
    "    frexp(...)\n",
    "        frexp(x)\n",
    "        \n",
    "        Return the mantissa and exponent of x, as pair (m, e).\n",
    "        m is a float and e is an int, such that x = m * 2.**e.\n",
    "        If x is 0, m and e are both 0.  Else 0.5 <= abs(m) < 1.0.\n",
    "    \n",
    "    fsum(...)\n",
    "        fsum(iterable)\n",
    "        \n",
    "        Return an accurate floating point sum of values in the iterable.\n",
    "        Assumes IEEE-754 floating point arithmetic.\n",
    "    \n",
    "    gamma(...)\n",
    "        gamma(x)\n",
    "        \n",
    "        Gamma function at x.\n",
    "    \n",
    "    gcd(...)\n",
    "        gcd(x, y) -> int\n",
    "        greatest common divisor of x and y\n",
    "    \n",
    "    hypot(...)\n",
    "        hypot(x, y)\n",
    "        \n",
    "        Return the Euclidean distance, sqrt(x*x + y*y).\n",
    "    \n",
    "    \n",
    "    isfinite(...)\n",
    "        isfinite(x) -> bool\n",
    "        \n",
    "        Return True if x is neither an infinity nor a NaN, and False otherwise.\n",
    "    \n",
    "    isinf(...)\n",
    "        isinf(x) -> bool\n",
    "        \n",
    "        Return True if x is a positive or negative infinity, and False otherwise.\n",
    "    \n",
    "    isnan(...)\n",
    "        isnan(x) -> bool\n",
    "        \n",
    "        Return True if x is a NaN (not a number), and False otherwise.\n",
    "    \n",
    "    ldexp(...)\n",
    "        ldexp(x, i)\n",
    "        \n",
    "        Return x * (2**i).\n",
    "    \n",
    "    lgamma(...)\n",
    "        lgamma(x)\n",
    "        \n",
    "        Natural logarithm of absolute value of Gamma function at x.\n",
    "    \n",
    "    log(...)\n",
    "        log(x[, base])\n",
    "        \n",
    "        Return the logarithm of x to the given base.\n",
    "        If the base not specified, returns the natural logarithm (base e) of x.\n",
    "    \n",
    "    log10(...)\n",
    "        log10(x)\n",
    "        \n",
    "        Return the base 10 logarithm of x.\n",
    "    \n",
    "    log1p(...)\n",
    "        log1p(x)\n",
    "        \n",
    "        Return the natural logarithm of 1+x (base e).\n",
    "        The result is computed in a way which is accurate for x near zero.\n",
    "    \n",
    "    log2(...)\n",
    "        log2(x)\n",
    "        \n",
    "        Return the base 2 logarithm of x.\n",
    "  \n",
    "    \n",
    "    pow(...)\n",
    "        pow(x, y)\n",
    "        \n",
    "        Return x**y (x to the power of y).\n",
    "    \n",
    "    radians(...)\n",
    "        radians(x)\n",
    "        \n",
    "        Convert angle x from degrees to radians.\n",
    "    \n",
    "    sin(...)\n",
    "        sin(x)\n",
    "        \n",
    "        Return the sine of x (measured in radians).\n",
    "    \n",
    "    sqrt(...)\n",
    "        sqrt(x)\n",
    "        \n",
    "        Return the square root of x.\n",
    "    \n",
    "    tan(...)\n",
    "        tan(x)\n",
    "        \n",
    "        Return the tangent of x (measured in radians).\n",
    "    \n",
    "    e = 2.718281828459045\n",
    "    inf = inf\n",
    "    nan = nan\n",
    "    pi = 3.141592653589793\n",
    "    tau = 6.283185307179586"
   ]
  },
  {
   "cell_type": "code",
   "execution_count": 22,
   "metadata": {
    "collapsed": true
   },
   "outputs": [],
   "source": [
    "import math"
   ]
  },
  {
   "cell_type": "code",
   "execution_count": 45,
   "metadata": {},
   "outputs": [
    {
     "name": "stdout",
     "output_type": "stream",
     "text": [
      "inf\n",
      "nan\n",
      "3.141592653589793\n",
      "2.718281828459045\n",
      "6.283185307179586\n"
     ]
    },
    {
     "data": {
      "text/plain": [
       "'\\n一些判断函数....\\n不用太管啦...\\nisfinite(...)\\n    isfinite(x) -> bool\\n\\n    Return True if x is neither an infinity nor a NaN, and False otherwise.\\n\\nisinf(...)\\n    isinf(x) -> bool\\n\\n    Return True if x is a positive or negative infinity, and False otherwise.\\n\\nisnan(...)\\n    isnan(x) -> bool\\n\\n    Return True if x is a NaN (not a number), and False otherwise.\\n'"
      ]
     },
     "execution_count": 45,
     "metadata": {},
     "output_type": "execute_result"
    }
   ],
   "source": [
    "# 一些math库中的常量\n",
    "print(math.inf)\n",
    "print(math.nan)\n",
    "print(math.pi)\n",
    "print(math.e)\n",
    "print(math.tau)\n",
    "\n",
    "'''\n",
    "一些判断函数....\n",
    "不用太管啦...\n",
    "isfinite(...)\n",
    "    isfinite(x) -> bool\n",
    "\n",
    "    Return True if x is neither an infinity nor a NaN, and False otherwise.\n",
    "\n",
    "isinf(...)\n",
    "    isinf(x) -> bool\n",
    "\n",
    "    Return True if x is a positive or negative infinity, and False otherwise.\n",
    "\n",
    "isnan(...)\n",
    "    isnan(x) -> bool\n",
    "\n",
    "    Return True if x is a NaN (not a number), and False otherwise.\n",
    "'''"
   ]
  },
  {
   "cell_type": "code",
   "execution_count": 35,
   "metadata": {},
   "outputs": [
    {
     "name": "stdout",
     "output_type": "stream",
     "text": [
      "2.8284271247461903\n"
     ]
    }
   ],
   "source": [
    "# 开方\n",
    "print(math.sqrt(8))\n",
    "\n",
    "# 可以考虑用符号代数库sympy\n",
    "# 以后再说"
   ]
  },
  {
   "cell_type": "code",
   "execution_count": 37,
   "metadata": {},
   "outputs": [
    {
     "name": "stdout",
     "output_type": "stream",
     "text": [
      "1.3\n"
     ]
    }
   ],
   "source": [
    "# 绝对值\n",
    "print(math.fabs(-1.3))"
   ]
  },
  {
   "cell_type": "code",
   "execution_count": 41,
   "metadata": {},
   "outputs": [
    {
     "name": "stdout",
     "output_type": "stream",
     "text": [
      "3\n",
      "4\n"
     ]
    }
   ],
   "source": [
    "# 下界?\n",
    "print(math.floor(3.2))\n",
    "\n",
    "# 上界?\n",
    "print(math.ceil(3.4))"
   ]
  },
  {
   "cell_type": "code",
   "execution_count": 46,
   "metadata": {},
   "outputs": [
    {
     "name": "stdout",
     "output_type": "stream",
     "text": [
      "1.0\n",
      "180.0\n"
     ]
    }
   ],
   "source": [
    "# 求对数\n",
    "# 第一个参数是真数,第二参数是底数,\n",
    "# 不填默认是 e\n",
    "print(math.log(10,10))\n",
    "\n",
    "# 计算以 10 为底的对数.\n",
    "print(math.log10(10))\n",
    "\n",
    "# 计算以 2 为底的对数.\n",
    "print(math.log2(10,10))\n"
   ]
  },
  {
   "cell_type": "code",
   "execution_count": 48,
   "metadata": {},
   "outputs": [
    {
     "name": "stdout",
     "output_type": "stream",
     "text": [
      "6\n"
     ]
    }
   ],
   "source": [
    "# 返回乘阶\n",
    "# f a c t o r i a l\n",
    "# 乘阶\n",
    "print(math.factorial(3))"
   ]
  },
  {
   "cell_type": "code",
   "execution_count": 49,
   "metadata": {},
   "outputs": [
    {
     "name": "stdout",
     "output_type": "stream",
     "text": [
      "180.0\n",
      "3.141592653589793\n"
     ]
    }
   ],
   "source": [
    "# 弧度 和 度 的转换\n",
    "print(math.degrees(math.pi))\n",
    "print(math.radians(180))"
   ]
  },
  {
   "cell_type": "code",
   "execution_count": 57,
   "metadata": {},
   "outputs": [
    {
     "data": {
      "text/plain": [
       "15.0"
      ]
     },
     "execution_count": 57,
     "metadata": {},
     "output_type": "execute_result"
    }
   ],
   "source": [
    "# 求和\n",
    "math.fsum((1,2,3,4,5))"
   ]
  },
  {
   "cell_type": "markdown",
   "metadata": {},
   "source": [
    "## sympy(符号表达式 计算)\n",
    "\n",
    "### 常用\n",
    "1. symbol"
   ]
  },
  {
   "cell_type": "code",
   "execution_count": 58,
   "metadata": {
    "collapsed": true
   },
   "outputs": [],
   "source": [
    "import sympy"
   ]
  },
  {
   "cell_type": "code",
   "execution_count": 61,
   "metadata": {},
   "outputs": [
    {
     "name": "stdout",
     "output_type": "stream",
     "text": [
      "x + y + z\n"
     ]
    }
   ],
   "source": [
    "# 创建用于符号计算的变量\n",
    "# 必须\n",
    "x,y,z=sympy.symbols('x y z')\n",
    "print(x+y+z)"
   ]
  },
  {
   "cell_type": "code",
   "execution_count": 70,
   "metadata": {},
   "outputs": [
    {
     "name": "stdout",
     "output_type": "stream",
     "text": [
      "2*sqrt(2)\n",
      "exp(5)\n",
      "1 + log(5)/log(2)\n",
      "24\n",
      "sin(10)\n"
     ]
    }
   ],
   "source": [
    "# sympy 特别的开方\n",
    "print(sympy.sqrt(8))\n",
    "print(sympy.exp(5))\n",
    "print(sympy.log(10,2))\n",
    "print(sympy.factorial(4))\n",
    "print(sympy.sin(10))"
   ]
  },
  {
   "cell_type": "code",
   "execution_count": 83,
   "metadata": {},
   "outputs": [
    {
     "ename": "AttributeError",
     "evalue": "module 'sympy' has no attribute 'radition'",
     "output_type": "error",
     "traceback": [
      "\u001b[1;31m---------------------------------------------------------------------------\u001b[0m",
      "\u001b[1;31mAttributeError\u001b[0m                            Traceback (most recent call last)",
      "\u001b[1;32m<ipython-input-83-c15ad6abdcd8>\u001b[0m in \u001b[0;36m<module>\u001b[1;34m()\u001b[0m\n\u001b[0;32m      1\u001b[0m \u001b[1;31m# 加,减,乘都与python的语法一致\u001b[0m\u001b[1;33m\u001b[0m\u001b[1;33m\u001b[0m\u001b[0m\n\u001b[0;32m      2\u001b[0m \u001b[1;31m# 只是 除稍有不同\u001b[0m\u001b[1;33m\u001b[0m\u001b[1;33m\u001b[0m\u001b[0m\n\u001b[1;32m----> 3\u001b[1;33m \u001b[0mhelp\u001b[0m\u001b[1;33m(\u001b[0m\u001b[0msympy\u001b[0m\u001b[1;33m.\u001b[0m\u001b[0mradition\u001b[0m\u001b[1;33m(\u001b[0m\u001b[1;33m)\u001b[0m\u001b[1;33m)\u001b[0m\u001b[1;33m\u001b[0m\u001b[0m\n\u001b[0m",
      "\u001b[1;31mAttributeError\u001b[0m: module 'sympy' has no attribute 'radition'"
     ]
    }
   ],
   "source": [
    "# 加,减,乘都与python的语法一致\n",
    "# 只是 除稍有不同"
   ]
  },
  {
   "cell_type": "code",
   "execution_count": 77,
   "metadata": {},
   "outputs": [
    {
     "name": "stdout",
     "output_type": "stream",
     "text": [
      "exp(x)*sin(x) + exp(x)*cos(x)\n",
      "exp(x)*sin(x)\n",
      "sqrt(2)*sqrt(pi)/2\n",
      "1\n"
     ]
    }
   ],
   "source": [
    "# 求导(diff)\n",
    "# d e r i v a t i v e\n",
    "# 导数\n",
    "print(sympy.diff(sympy.sin(x)*sympy.exp(x),x))\n",
    "\n",
    "# 积分\n",
    "# i n t e g r a t e \n",
    "print(sympy.integrate(sympy.exp(x)*sympy.sin(x)+sympy.exp(x)*sympy.cos(x),x))\n",
    "\n",
    "print(sympy.integrate(sympy.sin(x**2),(x,-sympy.oo,sympy.oo)))\n",
    "\n",
    "# 极限\n",
    "# l i m i t\n",
    "print(sympy.limit(sympy.sin(x)/x,x,0))"
   ]
  },
  {
   "cell_type": "code",
   "execution_count": 79,
   "metadata": {},
   "outputs": [
    {
     "name": "stdout",
     "output_type": "stream",
     "text": [
      "[-sqrt(2), sqrt(2)]\n"
     ]
    },
    {
     "data": {
      "text/plain": [
       "Eq(y(t), C2*exp(-t) + (C1 + t/2)*exp(t))"
      ]
     },
     "execution_count": 79,
     "metadata": {},
     "output_type": "execute_result"
    }
   ],
   "source": [
    "# 解方程\n",
    "print(sympy.solve(x**2-2,x))\n",
    "\n",
    "# 解微分方程\n",
    "y = sympy.Function('y')\n",
    "t=sympy.symbols('t')\n",
    "sympy.dsolve( sympy.Eq(y(t).diff(t,t)-y(t),sympy.exp(t)) , y(t)  )\n"
   ]
  },
  {
   "cell_type": "code",
   "execution_count": null,
   "metadata": {
    "collapsed": true
   },
   "outputs": [],
   "source": []
  }
 ],
 "metadata": {
  "kernelspec": {
   "display_name": "Python 3",
   "language": "python",
   "name": "python3"
  },
  "language_info": {
   "codemirror_mode": {
    "name": "ipython",
    "version": 3
   },
   "file_extension": ".py",
   "mimetype": "text/x-python",
   "name": "python",
   "nbconvert_exporter": "python",
   "pygments_lexer": "ipython3",
   "version": "3.6.2"
  },
  "toc": {
   "base_numbering": 1,
   "nav_menu": {},
   "number_sections": true,
   "sideBar": false,
   "skip_h1_title": false,
   "title_cell": "Table of Contents",
   "title_sidebar": "Contents",
   "toc_cell": false,
   "toc_position": {
    "height": "48px",
    "left": "594px",
    "top": "581.6px",
    "width": "164px"
   },
   "toc_section_display": false,
   "toc_window_display": true
  }
 },
 "nbformat": 4,
 "nbformat_minor": 2
}
