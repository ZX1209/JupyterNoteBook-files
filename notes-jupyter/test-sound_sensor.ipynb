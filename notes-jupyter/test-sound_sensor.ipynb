{
 "cells": [
  {
   "cell_type": "code",
   "execution_count": null,
   "metadata": {
    "collapsed": true
   },
   "outputs": [],
   "source": [
    "import serial\n",
    "import matplotlib.pyplot as plt \n",
    "\n",
    "ser =  serial.Serial('COM3',baudrate=9600,bytesize=8,parity='N',stopbits=1)\n",
    "plt.close();\n",
    "plt.ion()\n",
    "\n",
    "dlist = [];\n",
    "\n",
    "dlist.append(int(ser.readline()))\n",
    "dlist.append(int(ser.readline()))\n",
    "dlist.append(int(ser.readline()))\n",
    "\n",
    "\n",
    "\n",
    "def getdata():\n",
    "    for i in range(100):\n",
    "        global dlist;\n",
    "        global ser;\n",
    "        plt.plot(dlist)\n",
    "        dlist.append(int(ser.readline()))\n",
    "        \n",
    "        \n",
    "def getdata2():\n",
    "    for i in range(100):\n",
    "        global dlist;\n",
    "        global ser;\n",
    "        plt.plot(dlist)\n",
    "        dlist.append(int(ser.readline()))\n",
    "        plt.pause(0.1)\n",
    "        \n",
    "        \n",
    "def getdata3():\n",
    "    for i in range(100):\n",
    "        global dlist;\n",
    "        global ser;\n",
    "        plt.plot(dlist,'bo')\n",
    "        dlist.append(int(ser.readline()))\n",
    "        plt.pause(0.1)\n",
    "\n",
    "        \n",
    "def getdata4():\n",
    "    for i in range(100):\n",
    "        global dlist;\n",
    "        global ser;\n",
    "        plt.plot(dlist,'b')\n",
    "        dlist.append(int(ser.readline()))\n",
    "        plt.pause(0.1)"
   ]
  }
 ],
 "metadata": {
  "kernelspec": {
   "display_name": "Python 3",
   "language": "python",
   "name": "python3"
  },
  "language_info": {
   "codemirror_mode": {
    "name": "ipython",
    "version": 3
   },
   "file_extension": ".py",
   "mimetype": "text/x-python",
   "name": "python",
   "nbconvert_exporter": "python",
   "pygments_lexer": "ipython3",
   "version": "3.6.2"
  }
 },
 "nbformat": 4,
 "nbformat_minor": 2
}
