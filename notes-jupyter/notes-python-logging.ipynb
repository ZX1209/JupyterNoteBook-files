{
 "cells": [
  {
   "cell_type": "markdown",
   "metadata": {},
   "source": [
    "# python3 日志模块 logging\n",
    "## 初始化\n",
    "```python\n",
    "# 导入模块\n",
    "import logging\n",
    "\n",
    "# 初始化配置\n",
    "logging.basicConfig(level=logging.DEBUG,\n",
    "                    format='%(asctime)s - %(levelname)s - %(message)s')\n",
    "\n",
    "# 调试输出\n",
    "logging.debug('debug_message')\n",
    "logging.info('info_message')\n",
    "logging.warning('warning_message')\n",
    "logging.error('error_message')\n",
    "logging.critical('critical_message')\n",
    "# 禁用日志\n",
    "logging.disable(logging.DEBUGE)\n",
    "```"
   ]
  },
  {
   "cell_type": "code",
   "execution_count": 22,
   "metadata": {
    "collapsed": true
   },
   "outputs": [],
   "source": [
    "import logging\n",
    "\n",
    "# 初始化配置\n",
    "logging.basicConfig(level=logging.INFO,format='%(asctime)s - %(levelname)s - %(message)s')\n",
    "\n",
    "# 调试输出\n",
    "logging.debug('debug_message')\n",
    "#logging.info('info_message')\n",
    "#logging.warning('warning_message')\n",
    "#logging.error('error_message')\n",
    "#logging.critical('critical_message')\n",
    "# 禁用日志\n",
    "\n",
    "logging.debug('debug_test_two')"
   ]
  },
  {
   "cell_type": "code",
   "execution_count": null,
   "metadata": {
    "collapsed": true
   },
   "outputs": [],
   "source": []
  },
  {
   "cell_type": "code",
   "execution_count": null,
   "metadata": {
    "collapsed": true
   },
   "outputs": [],
   "source": []
  }
 ],
 "metadata": {
  "kernelspec": {
   "display_name": "Python 3",
   "language": "python",
   "name": "python3"
  },
  "language_info": {
   "codemirror_mode": {
    "name": "ipython",
    "version": 3
   },
   "file_extension": ".py",
   "mimetype": "text/x-python",
   "name": "python",
   "nbconvert_exporter": "python",
   "pygments_lexer": "ipython3",
   "version": "3.6.2"
  },
  "toc": {
   "base_numbering": 1,
   "nav_menu": {},
   "number_sections": true,
   "sideBar": false,
   "skip_h1_title": false,
   "title_cell": "Table of Contents",
   "title_sidebar": "Contents",
   "toc_cell": false,
   "toc_position": {
    "height": "48px",
    "left": "1372px",
    "top": "680px",
    "width": "164px"
   },
   "toc_section_display": false,
   "toc_window_display": true
  }
 },
 "nbformat": 4,
 "nbformat_minor": 2
}
