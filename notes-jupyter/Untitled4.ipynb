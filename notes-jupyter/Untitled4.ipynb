{
 "cells": [
  {
   "cell_type": "code",
   "execution_count": 15,
   "metadata": {},
   "outputs": [
    {
     "ename": "NullFunctionError",
     "evalue": "Attempt to call an undefined function glutInitDisplayMode, check for bool(glutInitDisplayMode) before calling",
     "output_type": "error",
     "traceback": [
      "\u001b[1;31m---------------------------------------------------------------------------\u001b[0m",
      "\u001b[1;31mNullFunctionError\u001b[0m                         Traceback (most recent call last)",
      "\u001b[1;32m<ipython-input-15-ec5480b0d98d>\u001b[0m in \u001b[0;36m<module>\u001b[1;34m()\u001b[0m\n\u001b[0;32m      9\u001b[0m     \u001b[0mglFlush\u001b[0m\u001b[1;33m(\u001b[0m\u001b[1;33m)\u001b[0m\u001b[1;33m\u001b[0m\u001b[0m\n\u001b[0;32m     10\u001b[0m \u001b[1;33m\u001b[0m\u001b[0m\n\u001b[1;32m---> 11\u001b[1;33m \u001b[0mglutInitDisplayMode\u001b[0m\u001b[1;33m(\u001b[0m\u001b[0mGLUT_SINGLE\u001b[0m \u001b[1;33m|\u001b[0m \u001b[0mGLUT_RGBA\u001b[0m\u001b[1;33m)\u001b[0m\u001b[1;33m\u001b[0m\u001b[0m\n\u001b[0m\u001b[0;32m     12\u001b[0m \u001b[0mglutInitWindowSize\u001b[0m\u001b[1;33m(\u001b[0m\u001b[1;36m400\u001b[0m\u001b[1;33m,\u001b[0m \u001b[1;36m400\u001b[0m\u001b[1;33m)\u001b[0m\u001b[1;33m\u001b[0m\u001b[0m\n\u001b[0;32m     13\u001b[0m \u001b[1;31m#<span style=\"color:#ff0000;\">#参数为b类型而不是string。我查资料时，很多网上代码未指出导致报错。</span>\u001b[0m\u001b[1;33m\u001b[0m\u001b[1;33m\u001b[0m\u001b[0m\n",
      "\u001b[1;32mD:\\ProgramData\\Anaconda3\\lib\\site-packages\\OpenGL\\platform\\baseplatform.py\u001b[0m in \u001b[0;36m__call__\u001b[1;34m(self, *args, **named)\u001b[0m\n\u001b[0;32m    405\u001b[0m             raise error.NullFunctionError(\n\u001b[0;32m    406\u001b[0m                 \"\"\"Attempt to call an undefined function %s, check for bool(%s) before calling\"\"\"%(\n\u001b[1;32m--> 407\u001b[1;33m                     \u001b[0mself\u001b[0m\u001b[1;33m.\u001b[0m\u001b[0m__name__\u001b[0m\u001b[1;33m,\u001b[0m \u001b[0mself\u001b[0m\u001b[1;33m.\u001b[0m\u001b[0m__name__\u001b[0m\u001b[1;33m,\u001b[0m\u001b[1;33m\u001b[0m\u001b[0m\n\u001b[0m\u001b[0;32m    408\u001b[0m                 )\n\u001b[0;32m    409\u001b[0m             )\n",
      "\u001b[1;31mNullFunctionError\u001b[0m: Attempt to call an undefined function glutInitDisplayMode, check for bool(glutInitDisplayMode) before calling"
     ]
    }
   ],
   "source": []
  },
  {
   "cell_type": "code",
   "execution_count": 13,
   "metadata": {},
   "outputs": [
    {
     "ename": "NullFunctionError",
     "evalue": "Attempt to call an undefined function glutInitDisplayMode, check for bool(glutInitDisplayMode) before calling",
     "output_type": "error",
     "traceback": [
      "\u001b[1;31m---------------------------------------------------------------------------\u001b[0m",
      "\u001b[1;31mNullFunctionError\u001b[0m                         Traceback (most recent call last)",
      "\u001b[1;32m<ipython-input-13-07b0756949d0>\u001b[0m in \u001b[0;36m<module>\u001b[1;34m()\u001b[0m\n\u001b[0;32m     10\u001b[0m \u001b[1;33m\u001b[0m\u001b[0m\n\u001b[0;32m     11\u001b[0m \u001b[0mglutInit\u001b[0m\u001b[1;33m(\u001b[0m\u001b[1;33m)\u001b[0m\u001b[1;33m\u001b[0m\u001b[0m\n\u001b[1;32m---> 12\u001b[1;33m \u001b[0mglutInitDisplayMode\u001b[0m\u001b[1;33m(\u001b[0m\u001b[0mGLUT_RGBA\u001b[0m\u001b[1;33m)\u001b[0m\u001b[1;33m\u001b[0m\u001b[0m\n\u001b[0m\u001b[0;32m     13\u001b[0m \u001b[0mglutInitWindowSize\u001b[0m\u001b[1;33m(\u001b[0m\u001b[1;36m400\u001b[0m\u001b[1;33m,\u001b[0m \u001b[1;36m400\u001b[0m\u001b[1;33m)\u001b[0m\u001b[1;33m\u001b[0m\u001b[0m\n\u001b[0;32m     14\u001b[0m \u001b[0mglutCreateWindow\u001b[0m\u001b[1;33m(\u001b[0m\u001b[1;34m\"First\"\u001b[0m\u001b[1;33m)\u001b[0m\u001b[1;33m\u001b[0m\u001b[0m\n",
      "\u001b[1;32mD:\\ProgramData\\Anaconda3\\lib\\site-packages\\OpenGL\\platform\\baseplatform.py\u001b[0m in \u001b[0;36m__call__\u001b[1;34m(self, *args, **named)\u001b[0m\n\u001b[0;32m    405\u001b[0m             raise error.NullFunctionError(\n\u001b[0;32m    406\u001b[0m                 \"\"\"Attempt to call an undefined function %s, check for bool(%s) before calling\"\"\"%(\n\u001b[1;32m--> 407\u001b[1;33m                     \u001b[0mself\u001b[0m\u001b[1;33m.\u001b[0m\u001b[0m__name__\u001b[0m\u001b[1;33m,\u001b[0m \u001b[0mself\u001b[0m\u001b[1;33m.\u001b[0m\u001b[0m__name__\u001b[0m\u001b[1;33m,\u001b[0m\u001b[1;33m\u001b[0m\u001b[0m\n\u001b[0m\u001b[0;32m    408\u001b[0m                 )\n\u001b[0;32m    409\u001b[0m             )\n",
      "\u001b[1;31mNullFunctionError\u001b[0m: Attempt to call an undefined function glutInitDisplayMode, check for bool(glutInitDisplayMode) before calling"
     ]
    }
   ],
   "source": []
  },
  {
   "cell_type": "code",
   "execution_count": null,
   "metadata": {
    "collapsed": true
   },
   "outputs": [],
   "source": []
  }
 ],
 "metadata": {
  "kernelspec": {
   "display_name": "Python 3",
   "language": "python",
   "name": "python3"
  },
  "language_info": {
   "codemirror_mode": {
    "name": "ipython",
    "version": 3
   },
   "file_extension": ".py",
   "mimetype": "text/x-python",
   "name": "python",
   "nbconvert_exporter": "python",
   "pygments_lexer": "ipython3",
   "version": "3.6.2"
  }
 },
 "nbformat": 4,
 "nbformat_minor": 2
}
