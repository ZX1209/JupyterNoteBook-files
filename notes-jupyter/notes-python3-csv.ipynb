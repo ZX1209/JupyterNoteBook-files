{
 "cells": [
  {
   "cell_type": "code",
   "execution_count": 1,
   "metadata": {
    "collapsed": true
   },
   "outputs": [],
   "source": [
    "import csv\n",
    "from faker import Faker\n",
    "fake = Faker('zh_CN')"
   ]
  },
  {
   "cell_type": "code",
   "execution_count": 7,
   "metadata": {},
   "outputs": [],
   "source": [
    "csvFile=open(\"./test2.csv\",\"w\",newline='')\n",
    "try:\n",
    "    writer=csv.writer(csvFile)\n",
    "    writer.writerow(('id','题号','题目描述','正答','A','B','C','D'))\n",
    "    id=0;\n",
    "    for i in range(1,6):\n",
    "        for j in range(1,101):\n",
    "            writer.writerow((id,str(i)+'_'+str(j),fake.text(max_nb_chars=200),'A',fake.text(max_nb_chars=20),fake.text(max_nb_chars=20),fake.text(max_nb_chars=20),fake.text(max_nb_chars=20)));\n",
    "            id+=1;\n",
    "            \n",
    "finally:\n",
    "    csvFile.close()"
   ]
  },
  {
   "cell_type": "code",
   "execution_count": 8,
   "metadata": {},
   "outputs": [
    {
     "data": {
      "text/plain": [
       "'自己进行成为文件出现更新规定上海东西.'"
      ]
     },
     "execution_count": 8,
     "metadata": {},
     "output_type": "execute_result"
    }
   ],
   "source": [
    "fake.text(max_nb_chars=20)"
   ]
  },
  {
   "cell_type": "code",
   "execution_count": null,
   "metadata": {
    "collapsed": true
   },
   "outputs": [],
   "source": []
  }
 ],
 "metadata": {
  "kernelspec": {
   "display_name": "Python 3",
   "language": "python",
   "name": "python3"
  },
  "language_info": {
   "codemirror_mode": {
    "name": "ipython",
    "version": 3
   },
   "file_extension": ".py",
   "mimetype": "text/x-python",
   "name": "python",
   "nbconvert_exporter": "python",
   "pygments_lexer": "ipython3",
   "version": "3.6.2"
  }
 },
 "nbformat": 4,
 "nbformat_minor": 2
}
