{
 "cells": [
  {
   "cell_type": "raw",
   "metadata": {},
   "source": [
    "# setup.py\n",
    "from distutils.core import setup\n",
    "\n",
    "setup(\n",
    "    name='projectname',\n",
    "    version='1.0',\n",
    "    author='Your Name',\n",
    "    author_email='you@youraddress.com',\n",
    "    url='http://www.you.com/projectname',\n",
    "    packages=['projectname', 'projectname.utils'],\n",
    ")"
   ]
  },
  {
   "cell_type": "markdown",
   "metadata": {},
   "source": [
    "> setup.py  MANIFEST.in 在顶级目录中\n",
    "\n",
    "\n",
    "之后\n",
    "\n",
    "\n",
    "`% bash python3 setup.py sdist`"
   ]
  },
  {
   "cell_type": "code",
   "execution_count": 2,
   "metadata": {},
   "outputs": [
    {
     "name": "stdout",
     "output_type": "stream",
     "text": [
      "hello world!\n",
      "hello again\n",
      "i like typing this.\n",
      "this is fun\n",
      "yay!printing.\n",
      "i d much rather you not .\n",
      "i \"said\" do not touch this.\n"
     ]
    }
   ],
   "source": [
    "print('hello world!')\n",
    "print('hello again')\n",
    "print('i like typing this.')\n",
    "print('this is fun')\n",
    "print('yay!printing.')\n",
    "print('i d much rather you not .')\n",
    "print('i \"said\" do not touch this.')"
   ]
  },
  {
   "cell_type": "code",
   "execution_count": 4,
   "metadata": {},
   "outputs": [
    {
     "name": "stdout",
     "output_type": "stream",
     "text": [
      "type somethis\n"
     ]
    },
    {
     "data": {
      "text/plain": [
       "'this'"
      ]
     },
     "execution_count": 4,
     "metadata": {},
     "output_type": "execute_result"
    }
   ],
   "source": [
    "input('type some')"
   ]
  },
  {
   "cell_type": "code",
   "execution_count": 7,
   "metadata": {},
   "outputs": [
    {
     "name": "stdout",
     "output_type": "stream",
     "text": [
      "well come this is clara speakingyou own asistante\n"
     ]
    }
   ],
   "source": [
    "print(\"well come this is clara speakingyou own asistante\")"
   ]
  },
  {
   "cell_type": "code",
   "execution_count": null,
   "metadata": {
    "collapsed": true
   },
   "outputs": [],
   "source": []
  }
 ],
 "metadata": {
  "kernelspec": {
   "display_name": "Python 3",
   "language": "python",
   "name": "python3"
  },
  "language_info": {
   "codemirror_mode": {
    "name": "ipython",
    "version": 3
   },
   "file_extension": ".py",
   "mimetype": "text/x-python",
   "name": "python",
   "nbconvert_exporter": "python",
   "pygments_lexer": "ipython3",
   "version": "3.6.2"
  }
 },
 "nbformat": 4,
 "nbformat_minor": 2
}
