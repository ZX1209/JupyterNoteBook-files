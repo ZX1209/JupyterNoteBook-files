{
 "cells": [
  {
   "cell_type": "markdown",
   "metadata": {},
   "source": [
    "# python3 os 模块 笔记"
   ]
  },
  {
   "cell_type": "markdown",
   "metadata": {},
   "source": [
    "## 获取与改变当前目录\n",
    "\n",
    "> os.path.join() 用来构建可以跨平台的路径\n",
    "\n",
    "### 获取当前目录\n",
    "`os.getcwd()`\n",
    "\n",
    "### 改变当前目录\n",
    "`os.chdir()`  "
   ]
  },
  {
   "cell_type": "code",
   "execution_count": 1,
   "metadata": {
    "collapsed": true
   },
   "outputs": [],
   "source": [
    "import os"
   ]
  },
  {
   "cell_type": "code",
   "execution_count": 5,
   "metadata": {},
   "outputs": [
    {
     "data": {
      "text/plain": [
       "'C:\\\\Users\\\\14049\\\\notes-jupyter'"
      ]
     },
     "execution_count": 5,
     "metadata": {},
     "output_type": "execute_result"
    }
   ],
   "source": [
    "os.getcwd()"
   ]
  },
  {
   "cell_type": "code",
   "execution_count": 6,
   "metadata": {},
   "outputs": [
    {
     "data": {
      "text/plain": [
       "'C:\\\\Users\\\\14049'"
      ]
     },
     "execution_count": 6,
     "metadata": {},
     "output_type": "execute_result"
    }
   ],
   "source": [
    "os.chdir('..')\n",
    "os.getcwd()"
   ]
  },
  {
   "cell_type": "markdown",
   "metadata": {},
   "source": [
    "## 绝对路径与相对路径\n",
    "> 绝对路径 总是从根目录开始的\n",
    "\n",
    "> 相对路径 是相对于当前目录来构建的,其中有两个特殊符号\n",
    ">> - \".\" 表示当前目录\n",
    ">> - \"..\" 表示父目录\n",
    "\n",
    "将相对路径转换成绝对路径\n",
    "\n",
    "`os.path.abspath(path)`\n",
    "\n",
    "判断是否是绝对路径\n",
    "\n",
    "`os.path.isabs()`\n",
    "\n",
    "返回从start 到path 的相对路径\n",
    "\n",
    "`os.path.relpath(path.start)`\n",
    "\n",
    "\n",
    "\n"
   ]
  },
  {
   "cell_type": "code",
   "execution_count": 13,
   "metadata": {},
   "outputs": [
    {
     "name": "stdout",
     "output_type": "stream",
     "text": [
      "projects\\archive\n"
     ]
    }
   ],
   "source": [
    "os.chdir('D:')\n",
    "os.getcwd()\n",
    "os.path.relpath('D:\\Work_And_Study\\Projects',os.getcwd())"
   ]
  },
  {
   "cell_type": "code",
   "execution_count": 31,
   "metadata": {},
   "outputs": [
    {
     "data": {
      "text/plain": [
       "['D:']"
      ]
     },
     "execution_count": 31,
     "metadata": {},
     "output_type": "execute_result"
    }
   ],
   "source": [
    "path_sample = 'D:\\Work_And_Study\\Projects'\n",
    "os.path.basename(path_sample)\n",
    "os.path.dirname(path_sample)\n",
    "os.path.split(path_sample)\n",
    "\n",
    "path_sample.split(os.path.sep)"
   ]
  },
  {
   "cell_type": "markdown",
   "metadata": {},
   "source": [
    "## 查看文件大小和文件内容\n",
    "\n",
    "### 获取文件字节数\n",
    "`os.path.getsize()`\n",
    "\n",
    "### 获取子目录\n",
    "`os.listdir()`\n",
    "\n",
    "### 判断文件类型(file/dir),与有效性(exist)\n",
    "`os.path.isfile()`\n",
    "\n",
    "`os.path.isdir()`\n",
    "\n",
    "`os.path.islink()`\n",
    "\n",
    "`os.path.ismount()`\n",
    "\n",
    "`os.path.exists()`"
   ]
  },
  {
   "cell_type": "code",
   "execution_count": 38,
   "metadata": {},
   "outputs": [
    {
     "name": "stdout",
     "output_type": "stream",
     "text": [
      "(G-AREA)(Meru)める.mp4 : [file]\n",
      "2017神秘博士：2017圣诞特别篇HD720P中字.mp4 : [file]\n",
      "20180312-vedioclass-CS50 : [dir]\n",
      "20180312-vedioclass-头脑战争 : [dir]\n",
      "20708490EA1B82129B064A08255DDA3C44B6B741.torrent : [file]\n",
      "319A34F063C973BF613A641FBE16EF27280FE765.torrent : [file]\n",
      "349F11771D5910526DF7CCDBC5E2537C.wmv : [file]\n",
      "35B245F134B7BFB250CC62973008D69A.mp4 : [file]\n",
      "4147A5305F91DDF373FFCDBAF7A146B43F78AE68.torrent : [file]\n",
      "45F8E6AE153F719D58B2BE438B3CABEBC16B5E86.torrent : [file]\n",
      "4D36D05A9246FE106EF9BF89A1F4E56F.mp4 : [file]\n",
      "54DCA0477D74D88ED051A9CD62FE5359151E7823.torrent : [file]\n",
      "6D5DB5A57B35DC1860C5692606FCA28ECC89D746.torrent : [file]\n",
      "8688AA01BEC53FDB90D2B9CF972F454051BFCEDB.torrent : [file]\n",
      "873C56CE41929FDE53B5FBEEA2C7E5DE2EBB5436.torrent : [file]\n",
      "9A38C44001AC6784DAB121FDB19FE841AA4A5A56.torrent : [file]\n",
      "ACED8BB7AEB5AF3923468C214327993E.mp4 : [file]\n",
      "B537A10F60614B1355EA5C03BF9C27778B4D2243.torrent : [file]\n",
      "FSLV-002@ivtuan.mkv.bt.xltd : [file]\n",
      "SNIS-531.avi : [file]\n",
      "[ViPHD]BBC假如动物会摄影 BBC.Animals.with.Cameras.2018.S01.E01.WEB-DL.1080p.H265.AAC.CH-ViPHD.mp4 : [file]\n",
      "[ViPHD]BBC假如动物会摄影 BBC.Animals.with.Cameras.2018.S01.E02.WEB-DL.1080p.H265.AAC.CH-ViPHD.mp4 : [file]\n",
      "[ViPHD]BBC假如动物会摄影 BBC.Animals.with.Cameras.2018.S01.E03.WEB-DL.1080p.H265.AAC.CH-ViPHD.mp4 : [file]\n",
      "[天才瑞普利]The.Talented.Mr.Ripley.1999.BluRay.720p.x264.AAC-iSCG : [dir]\n",
      "[迅雷下载www.2tu.cc]僵尸世界大战.BD1024高清中英双字.rmvb : [file]\n",
      "[迅雷下载www.2tu.cc]放牛班的春天.BD中英双字1024高清.mkv : [file]\n",
      "[迅雷下载www.2tu.cc]无法触碰.BD1024超清中英双字.mkv : [file]\n",
      "大h狐l的故s.mp4 : [file]\n",
      "是，大臣.Yes,Minister.S01E01.1980.D5.MiniSDTLF.mkv : [file]\n",
      "是，大臣.Yes,Minister.S01E02.1980.D5.MiniSDTLF.mkv : [file]\n",
      "猫和老鼠.五十周年纪念版.国粤英三语￡圣城九洲客 : [dir]\n",
      "硅谷.Silicon.Valley.S02E04.中英字幕.HDTVrip.1024X576.mp4.emule.xltd : [file]\n",
      "硅谷.Silicon.Valley.S02E04.中英字幕.HDTVrip.1024X576.mp4.xlemule.cfg : [file]\n",
      "音乐之声BD国英四音轨中英双字1024高清【6v电影域名被盗,新地址www.6vhao.net】.mkv : [file]\n",
      "飘花电影piaohua.com银河护卫队BD1280高清中字.rmvb : [file]\n"
     ]
    }
   ],
   "source": [
    "par_dir='D:\\\\迅雷下载'\n",
    "tmp_dir_list=os.listdir(par_dir)\n",
    "\n",
    "for file_name in tmp_dir_list:\n",
    "    print(file_name,end=' : ')\n",
    "    if os.path.isfile(os.path.join(par_dir,file_name)):\n",
    "        print('[file]',end='')\n",
    "    elif os.path.isdir(os.path.join(par_dir,file_name)):\n",
    "        print('[dir]',end='')\n",
    "    elif os.path.islink(os.path.join(par_dir,file_name)):\n",
    "        print('[link]',end='')\n",
    "    elif os.path.ismount(os.path.join(par_dir,file_name)):\n",
    "        print('[mount]',end='')\n",
    "    else:\n",
    "        print('[en~~]')\n",
    "        \n",
    "    print()"
   ]
  },
  {
   "cell_type": "markdown",
   "metadata": {},
   "source": [
    "## 文件读写\n",
    "### 打开文件\n",
    "`open()`\n",
    "\n",
    "### 读写文件\n",
    "`.read()`\n",
    "\n",
    "`.readlines()`\n",
    "\n",
    "`.write()`\n",
    "\n",
    "### 关闭\n",
    "`.close()`"
   ]
  },
  {
   "cell_type": "markdown",
   "metadata": {},
   "source": [
    "## 用shelve 模块保存变量\n",
    "这个模块在指定(默认是当前)目录下创建一个二进制的文件来保存数据,(以字典的形式)\n",
    "\n",
    "读取和调用都和方便..算是一个局部变量吧..\n"
   ]
  },
  {
   "cell_type": "code",
   "execution_count": 41,
   "metadata": {
    "collapsed": true
   },
   "outputs": [],
   "source": [
    "import shelve\n",
    "shelf_file = shelve.open('my_shelve_data')\n",
    "shelf_test_list = ['this','is','a','shelve','file','test']\n",
    "shelf_file['test']=shelf_test_list\n",
    "shelf_file.close()"
   ]
  },
  {
   "cell_type": "code",
   "execution_count": 44,
   "metadata": {
    "collapsed": true
   },
   "outputs": [],
   "source": [
    "shelf_file = shelve.open('my_shelve_data')\n",
    "shelf_file['test']\n",
    "shelf_file.close()"
   ]
  },
  {
   "cell_type": "markdown",
   "metadata": {},
   "source": [
    "## shutil 模块(高级文件操作)\n",
    "### 复制文件和文件夹\n",
    "`copy`\n",
    "\n",
    "`copytree`\n",
    "\n",
    "### 文件与文件夹的移动与命名\n",
    "`move`\n",
    "\n",
    "### 永久删除文件和文件夹\n",
    "`os.unlink()`\n",
    "\n",
    "`os.rmdir()`\n",
    "\n",
    "`shutil.rmtree()`\n",
    "\n",
    "### send2trash 模块 安全地删除\n",
    "\n",
    "### 遍历文件树\n",
    "`os.walk`(生成器..)\n",
    "\n",
    "foldername subfolders filenames\n",
    "### zip file\n",
    "`zipfile.ZipFile()`\n",
    "\n",
    "`.namelist`\n",
    "\n",
    "`getinfo`\n",
    "\n",
    "`extractall()` 解压缩\n",
    "\n",
    "`.wirte()`\n",
    "\n",
    "`zipfile.ZIP_DEFLATED`\n",
    "\n",
    " "
   ]
  },
  {
   "cell_type": "code",
   "execution_count": 45,
   "metadata": {
    "collapsed": true
   },
   "outputs": [],
   "source": [
    "import shutil,os"
   ]
  },
  {
   "cell_type": "code",
   "execution_count": null,
   "metadata": {
    "collapsed": true
   },
   "outputs": [],
   "source": []
  }
 ],
 "metadata": {
  "kernelspec": {
   "display_name": "Python 3",
   "language": "python",
   "name": "python3"
  },
  "language_info": {
   "codemirror_mode": {
    "name": "ipython",
    "version": 3
   },
   "file_extension": ".py",
   "mimetype": "text/x-python",
   "name": "python",
   "nbconvert_exporter": "python",
   "pygments_lexer": "ipython3",
   "version": "3.6.2"
  },
  "toc": {
   "base_numbering": 1,
   "nav_menu": {},
   "number_sections": true,
   "sideBar": true,
   "skip_h1_title": false,
   "title_cell": "Table of Contents",
   "title_sidebar": "Contents",
   "toc_cell": false,
   "toc_position": {},
   "toc_section_display": true,
   "toc_window_display": true
  }
 },
 "nbformat": 4,
 "nbformat_minor": 2
}
