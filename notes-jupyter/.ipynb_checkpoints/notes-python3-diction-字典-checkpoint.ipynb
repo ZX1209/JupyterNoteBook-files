{
 "cells": [
  {
   "cell_type": "markdown",
   "metadata": {},
   "source": [
    "# Python3 字典\n",
    "字典是另一种可变容器模型，且可存储任意类型对象。\n",
    "\n",
    "字典的每个键值(key=>value)对用冒号(:)分割，每个对之间用逗号(,)分割，整个字典包括在花括号({})中 ,格式如下所示：\n",
    "```python\n",
    "d = {key1 : value1, key2 : value2 }\n",
    "键必须是唯一的，但值则不必。\n",
    "值可以取任何数据类型，但键必须是不可变的，如字符串，数字或元组。\n",
    "一个简单的字典实例：\n",
    "dict = {'Alice': '2341', 'Beth': '9102', 'Cecil': '3258'}\n",
    "也可如此创建字典：\n",
    "dict1 = { 'abc': 456 };\n",
    "dict2 = { 'abc': 123, 98.6: 37 };\n",
    "```"
   ]
  },
  {
   "cell_type": "code",
   "execution_count": null,
   "metadata": {
    "collapsed": true
   },
   "outputs": [],
   "source": []
  },
  {
   "cell_type": "markdown",
   "metadata": {},
   "source": [
    "## 访问字典里的值\n",
    "把相应的键放入到方括号中，如下实例:\n",
    "```python\n",
    "#!/usr/bin/python3\n",
    "\n",
    "dict = {'Name': 'Runoob', 'Age': 7, 'Class': 'First'}\n",
    "\n",
    "print (\"dict['Name']: \", dict['Name'])\n",
    "print (\"dict['Age']: \", dict['Age'])\n",
    "以上实例输出结果：\n",
    "\n",
    "dict['Name']:  Runoob\n",
    "dict['Age']:  7\n",
    "如果用字典里没有的键访问数据，会输出错误如下：\n",
    "\n",
    "#!/usr/bin/python3\n",
    " \n",
    "dict = {'Name': 'Runoob', 'Age': 7, 'Class': 'First'};\n",
    " \n",
    "print (\"dict['Alice']: \", dict['Alice'])\n",
    "以上实例输出结果：\n",
    "\n",
    "Traceback (most recent call last):\n",
    "  File \"test.py\", line 5, in <module>\n",
    "    print (\"dict['Alice']: \", dict['Alice'])\n",
    "KeyError: 'Alice'\n",
    "```"
   ]
  },
  {
   "cell_type": "markdown",
   "metadata": {},
   "source": [
    "## 修改字典\n",
    "向字典添加新内容的方法是增加新的键/值对，修改或删除已有键/值对如下实例:\n",
    "```python\n",
    "#!/usr/bin/python3\n",
    "\n",
    "dict = {'Name': 'Runoob', 'Age': 7, 'Class': 'First'}\n",
    "\n",
    "dict['Age'] = 8;               # 更新 Age\n",
    "dict['School'] = \"菜鸟教程\"  # 添加信息\n",
    "\n",
    "\n",
    "print (\"dict['Age']: \", dict['Age'])\n",
    "print (\"dict['School']: \", dict['School']) 以上实例输出结果：\n",
    "dict['Age']:  8\n",
    "dict['School']:  菜鸟教程\n",
    "```\n"
   ]
  },
  {
   "cell_type": "markdown",
   "metadata": {},
   "source": [
    "## 删除字典元素\n",
    "能删单一的元素也能清空字典，清空只需一项操作。\n",
    "\n",
    "显示删除一个字典用del命令，如下实例：\n",
    "```python\n",
    "#!/usr/bin/python3\n",
    "\n",
    "dict = {'Name': 'Runoob', 'Age': 7, 'Class': 'First'}\n",
    "\n",
    "del dict['Name'] # 删除键 'Name'\n",
    "dict.clear()     # 清空字典\n",
    "del dict         # 删除字典\n",
    "\n",
    "print (\"dict['Age']: \", dict['Age'])\n",
    "print (\"dict['School']: \", dict['School'])\n",
    "但这会引发一个异常，因为用执行 del 操作后字典不再存在：\n",
    "\n",
    "Traceback (most recent call last):\n",
    "  File \"test.py\", line 9, in <module>\n",
    "    print (\"dict['Age']: \", dict['Age'])\n",
    "TypeError: 'type' object is not subscriptable\n",
    "注：del() 方法后面也会讨论。\n",
    "```"
   ]
  },
  {
   "cell_type": "code",
   "execution_count": null,
   "metadata": {
    "collapsed": true
   },
   "outputs": [],
   "source": []
  }
 ],
 "metadata": {
  "kernelspec": {
   "display_name": "Python 3",
   "language": "python",
   "name": "python3"
  },
  "language_info": {
   "codemirror_mode": {
    "name": "ipython",
    "version": 3
   },
   "file_extension": ".py",
   "mimetype": "text/x-python",
   "name": "python",
   "nbconvert_exporter": "python",
   "pygments_lexer": "ipython3",
   "version": "3.6.2"
  },
  "toc": {
   "base_numbering": 1,
   "nav_menu": {},
   "number_sections": true,
   "sideBar": true,
   "skip_h1_title": false,
   "title_cell": "Table of Contents",
   "title_sidebar": "Contents",
   "toc_cell": false,
   "toc_position": {},
   "toc_section_display": true,
   "toc_window_display": true
  }
 },
 "nbformat": 4,
 "nbformat_minor": 2
}
