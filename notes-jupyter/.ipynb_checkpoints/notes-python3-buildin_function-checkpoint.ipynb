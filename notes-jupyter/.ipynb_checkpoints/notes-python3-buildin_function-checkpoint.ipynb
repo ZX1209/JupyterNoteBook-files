{
 "cells": [
  {
   "cell_type": "raw",
   "metadata": {},
   "source": [
    "Python3 内置函数\n",
    "注意：有些函数与 Python2.x 变化不大，会直接跳转到 Python2.x 教程下的内置函数说明，大家要注意下哈。\n",
    "\n",
    "内置函数\t\t\n",
    "abs()\tdict()\thelp()\tmin()\tsetattr()\n",
    "all()\tdir()\thex()\tnext()\tslice()\n",
    "any()\tdivmod()\tid()\tobject()\tsorted()\n",
    "ascii()\tenumerate()\tinput()\toct()\tstaticmethod()\n",
    "bin()\teval()\tint()\topen()\tstr()\n",
    "bool()\texec()\tisinstance()\tord()\tsum()\n",
    "bytearray()\tfilter()\tissubclass()\tpow()\tsuper()\n",
    "bytes()\tfloat()\titer()\tprint()\ttuple()\n",
    "callable()\tformat()\tlen()\tproperty()\ttype()\n",
    "chr()\tfrozenset()\tlist()\trange()\tvars()\n",
    "classmethod()\tgetattr()\tlocals()\trepr()\tzip()\n",
    "compile()\tglobals()\tmap()\treversed()\t__import__()\n",
    "complex()\thasattr()\tmax()\tround()\t \n",
    "delattr()\thash()\tmemoryview()\tset()\t "
   ]
  },
  {
   "cell_type": "markdown",
   "metadata": {},
   "source": [
    "1. abs()　　获取绝对值\n",
    "2. all()　　接受一个迭代器，如果迭代器的所有元素都为真，那么返回True，否则返回False\n",
    "3. any()　　接受一个迭代器，如果迭代器里有一个元素为真，那么返回True,否则返回False\n",
    "4. ascii()　　调用对象的__repr__()方法，获得该方法的返回值.\n",
    "5. bin(),　6. oct(),  7. hex()  　　三个函数功能为：将十进制数分别转换为2/8/16进制。\n",
    "8. bool()　　测试一个对象是True还是False.\n",
    "9. bytes()　　将一个字符串转换成字节类型\n",
    "10. str()　　将字符类型/数值类型等转换为字符串类型\n",
    "11. challable()　　判断对象是否可以被调用，能被调用的对象就是一个callables对象，比如函数和带有__call__()的实例\n",
    "12. char()，13. ord()　　查看十进制数对应的ASCII字符/查看某个ASCII对应的十进制数。\n",
    "14. classmethod()　　用来指定一个方法为类的方法，由类直接调用执行，只有一个cls参数,执行雷的方法时，自动将调用该方法的类赋值给cls.没有此参数指定的类的方法为实例方法。\n",
    "\n",
    "15. complie() 将字符串编译成python能识别或可以执行的代码，也可以将文字读成字符串再编译。\n",
    "16. complex() 创建一个值为real + imag * j的复数或者转化一个字符串或数为复数。如果第一个参数是字符串，则不需要指定第二个参数。\n",
    "17. delattr()　　删除对象的属性\n",
    "18. dict()　　创建数据字典\n",
    "\n",
    "19. dir()　　不带参数时返回当前范围内的变量，方法和定义的类型列表，带参数时返回参数的属性，方法列表\n",
    "20. divmod()　　分别取商和余数\n",
    "21. enumerate()　　返回一个可以枚举的对象，该对象的next()方法将返回一个元组。\n",
    "22. eval()　　将字符串str当成有效的表达式来求值并返回计算结果\n",
    "23. exec()　　执行字符串或complie方法编译过的字符串，没有返回值\n",
    "24. filter()　　过滤器，构造一个序列，等价于[ item for item in iterables if function(item)]，在函数中设定过滤条件，逐一循环迭代器中的元素，将返回值为True时的元素留下，形成一个filter类型数据。\n",
    "25. float()　　讲一个字符串或整数转换为浮点数。\n",
    "26. format()　　格式化输出字符串，format(value, format_spec)实质上是调用了value的__format__(format_spec)方法。\n",
    "\n",
    "27. frozenset()　　创建一个不可修改的集合。\n",
    "28. getattr()　　获取对象的属性\n",
    "29. globals()　　返回一个描述当前全局变量的字典\n",
    "30. hasattr() 判断对象object是否包含名为name的特性（hasattr是通过调用getattr(object，name)）是否抛出异常来实现的。\n",
    "31. hash()　　哈希值  如果对象object为哈希表类型，返回对象object的哈希值。哈希值为整数，在字典查找中，哈希值用于快递比价字典的键。\n",
    "32. help()　　返回对象的帮助文档\n",
    "33. id()　　返回对象的内存地址\n",
    "34. input()　　获取用户输入内容\n",
    "35. int()　　将一个字符串或数值转换为一个普通整数\n",
    "36. isinstance()　　检查对象是否是类的对象，返回True或False\n",
    "37. issubclass()　　检查一个类是否是另一个类的子类。返回True或False\n",
    "38. iter()　 返回一个iterator对象。该函数对于第一个参数的解析依赖于第二个参数。\n",
    "39. len()　　返回对象长度，参数可以是序列类型（字符串，元组或列表）或映射类型（如字典）\n",
    "\n",
    "40. list()　　列表构造函数\n",
    "41. locals()　　打印当前可用的局部变量的字典\n",
    "42. map() map(function, iterable,...) 对于参数iterable中的每个元素都应用fuction函数，并将结果作为列表返回。\n",
    "43. max()　　返回给定元素里最大值\n",
    "45. min()　　返回给定元素里最小值\n",
    "46. next()　　返回一个可迭代数据结构（如列表）中的下一项\n",
    "47. object()\n",
    "48. open()　　打开文件\n",
    "49. pow()　　幂函数\n",
    "50. print()　　输出函数\n",
    "51. property()\n",
    "52. range()　　根据需要生成一个指定范围的数字，可以提供你需要的控制来迭代指定的次数\n",
    "53. repr()　　将任意值转换为字符串，供计时器读取的形式\n",
    "54. reversed()　　　反转，逆序对象\n",
    "55. round()　　四舍五入\n",
    "56. set()    class set([iterable])  返回一个新的set对象，可以选择从iterable取得的元素，set是一个内置的类。\n",
    "57. setattr()　　与getattr()相对应，setattr(object,name,value) 参数是一个对象，一个字符串和一个任意值。字符串可以命名现有属性或新属性。如果对象允许，该函数将赋值给该属性。\n",
    "58. slice()　　切片功能,  slice(start, stop[, step])\n",
    "59. sorted()　　排序\n",
    "\n",
    "60. staticmethod()  在类中定义一个静态方法的函数，通常@staticmethod 下面接一个函数，如此使用\n",
    "\n",
    "61. str()　　字符串构造函数\n",
    "\n",
    "62. sum()　　求和\n",
    "\n",
    "63. super()　　调用父类的方法\n",
    "\n",
    "64. tuple()　　元组构造函数\n",
    "\n",
    "65. type()　　显示对象所属的类型\n",
    "\n",
    "66. vars()　vars([object])  使用__dict__属性返回模块，类，实例或任何其他对象的__dict__属性。\n",
    "\n",
    "67. zip()　　将对象逐一配对，相当于制作一个迭代器，用于聚合每个迭代的元素。zip(*iterables)\n",
    "68. __import__() 该函数由import 语句调用，它可以被替换（导入builtins模块和分配给builtins.__import__）来改变import语句的语义，但是并不建议如此使用。"
   ]
  },
  {
   "cell_type": "code",
   "execution_count": 2,
   "metadata": {},
   "outputs": [
    {
     "name": "stdout",
     "output_type": "stream",
     "text": [
      "0xa\n",
      "0o12\n",
      "0b1010\n"
     ]
    }
   ],
   "source": [
    "i= 10\n",
    "#十六进制表示\n",
    "print(hex(i))\n",
    "#八进制表示\n",
    "print(oct(i))\n",
    "#二进制表示\n",
    "print(bin(i))\n"
   ]
  },
  {
   "cell_type": "code",
   "execution_count": 9,
   "metadata": {},
   "outputs": [
    {
     "name": "stdout",
     "output_type": "stream",
     "text": [
      "1\n",
      "2\n",
      "3\n",
      "4\n",
      "5\n",
      "6\n",
      "7\n",
      "8\n",
      "9\n",
      "10\n"
     ]
    }
   ],
   "source": [
    "i = range(1,11)\n",
    "for t in i:\n",
    "    print(t)"
   ]
  },
  {
   "cell_type": "code",
   "execution_count": null,
   "metadata": {
    "collapsed": true
   },
   "outputs": [],
   "source": []
  },
  {
   "cell_type": "code",
   "execution_count": null,
   "metadata": {
    "collapsed": true
   },
   "outputs": [],
   "source": []
  }
 ],
 "metadata": {
  "kernelspec": {
   "display_name": "Python 3",
   "language": "python",
   "name": "python3"
  },
  "language_info": {
   "codemirror_mode": {
    "name": "ipython",
    "version": 3
   },
   "file_extension": ".py",
   "mimetype": "text/x-python",
   "name": "python",
   "nbconvert_exporter": "python",
   "pygments_lexer": "ipython3",
   "version": "3.6.2"
  },
  "toc": {
   "base_numbering": 1,
   "nav_menu": {},
   "number_sections": true,
   "sideBar": true,
   "skip_h1_title": false,
   "title_cell": "Table of Contents",
   "title_sidebar": "Contents",
   "toc_cell": false,
   "toc_position": {},
   "toc_section_display": true,
   "toc_window_display": true
  }
 },
 "nbformat": 4,
 "nbformat_minor": 2
}
