{
 "cells": [
  {
   "cell_type": "markdown",
   "metadata": {
    "collapsed": true
   },
   "source": [
    "# sympy 笔记"
   ]
  },
  {
   "cell_type": "code",
   "execution_count": 1,
   "metadata": {},
   "outputs": [],
   "source": [
    "# 导入sympy 库\n",
    "import sympy"
   ]
  },
  {
   "cell_type": "code",
   "execution_count": 3,
   "metadata": {},
   "outputs": [
    {
     "name": "stdout",
     "output_type": "stream",
     "text": [
      "x + y + z\n"
     ]
    }
   ],
   "source": [
    "# 引入符号表\n",
    "x = sympy.symbols('x')\n",
    "y,z = sympy.symbols('y z')\n",
    "print(x+y+z)"
   ]
  },
  {
   "cell_type": "code",
   "execution_count": 5,
   "metadata": {},
   "outputs": [],
   "source": [
    "sympy??"
   ]
  },
  {
   "cell_type": "markdown",
   "metadata": {
    "collapsed": true
   },
   "source": [
    "## 一些有用的函数\n",
    "*斜体*\n",
    "\n",
    "\n",
    "**粗体**\n",
    "\n",
    "\n",
    "\n",
    "`this is `\n",
    "\n",
    "\n",
    "\n",
    "\n",
    "```python\n",
    "import this\n",
    "import sy\n",
    "```\n",
    "\n",
    ">嗯注释吧\n",
    "\n",
    "[超链接](http://google.com \"togoogle\")\n",
    "\n",
    "1. list 1\n",
    "2. lsit2\n",
    "3. list4\n",
    "\n",
    "\n",
    "- list\n",
    "- list2\n",
    "\n",
    "|表头   |表头2   |\n",
    "|-------|--------:|\n",
    "|this   |that     |"
   ]
  },
  {
   "cell_type": "code",
   "execution_count": null,
   "metadata": {
    "collapsed": true
   },
   "outputs": [],
   "source": []
  }
 ],
 "metadata": {
  "kernelspec": {
   "display_name": "Python 3",
   "language": "python",
   "name": "python3"
  },
  "language_info": {
   "codemirror_mode": {
    "name": "ipython",
    "version": 3
   },
   "file_extension": ".py",
   "mimetype": "text/x-python",
   "name": "python",
   "nbconvert_exporter": "python",
   "pygments_lexer": "ipython3",
   "version": "3.6.2"
  },
  "toc": {
   "base_numbering": 1,
   "nav_menu": {},
   "number_sections": true,
   "sideBar": true,
   "skip_h1_title": false,
   "title_cell": "Table of Contents",
   "title_sidebar": "Contents",
   "toc_cell": false,
   "toc_position": {},
   "toc_section_display": true,
   "toc_window_display": true
  }
 },
 "nbformat": 4,
 "nbformat_minor": 2
}
