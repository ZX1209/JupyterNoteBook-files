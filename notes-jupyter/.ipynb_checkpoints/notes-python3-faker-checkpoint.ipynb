{
 "cells": [
  {
   "cell_type": "markdown",
   "metadata": {
    "toc": true
   },
   "source": [
    "<h1>Table of Contents<span class=\"tocSkip\"></span></h1>\n",
    "<div class=\"toc\"><ul class=\"toc-item\"></ul></div>"
   ]
  },
  {
   "cell_type": "code",
   "execution_count": 6,
   "metadata": {
    "collapsed": true
   },
   "outputs": [],
   "source": [
    "from faker import Faker\n",
    "fake = Faker('zh_CN')"
   ]
  },
  {
   "cell_type": "code",
   "execution_count": 7,
   "metadata": {},
   "outputs": [
    {
     "data": {
      "text/plain": [
       "'文瑞'"
      ]
     },
     "execution_count": 7,
     "metadata": {},
     "output_type": "execute_result"
    }
   ],
   "source": [
    "fake.name()"
   ]
  },
  {
   "cell_type": "code",
   "execution_count": 8,
   "metadata": {},
   "outputs": [
    {
     "name": "stdout",
     "output_type": "stream",
     "text": [
      "Help on Generator in module faker.generator object:\n",
      "\n",
      "class Generator(builtins.object)\n",
      " |  Methods defined here:\n",
      " |  \n",
      " |  __init__(self, **config)\n",
      " |      Initialize self.  See help(type(self)) for accurate signature.\n",
      " |  \n",
      " |  add_provider(self, provider)\n",
      " |  \n",
      " |  format(self, formatter, *args, **kwargs)\n",
      " |      This is a secure way to make a fake from another Provider.\n",
      " |  \n",
      " |  get_formatter(self, formatter)\n",
      " |  \n",
      " |  get_providers(self)\n",
      " |      Returns added providers.\n",
      " |  \n",
      " |  parse(self, text)\n",
      " |      Replaces tokens (like '{{ tokenName }}' or '{{tokenName}}')\n",
      " |      with the result from the token method call.\n",
      " |  \n",
      " |  provider(self, name)\n",
      " |  \n",
      " |  seed_instance(self, seed=None)\n",
      " |      Calls random.seed\n",
      " |  \n",
      " |  set_formatter(self, name, method)\n",
      " |      This method adds a provider method to generator.\n",
      " |      Override this method to add some decoration or logging stuff.\n",
      " |  \n",
      " |  ----------------------------------------------------------------------\n",
      " |  Class methods defined here:\n",
      " |  \n",
      " |  seed(seed=None) from builtins.type\n",
      " |  \n",
      " |  ----------------------------------------------------------------------\n",
      " |  Data descriptors defined here:\n",
      " |  \n",
      " |  __dict__\n",
      " |      dictionary for instance variables (if defined)\n",
      " |  \n",
      " |  __weakref__\n",
      " |      list of weak references to the object (if defined)\n",
      " |  \n",
      " |  random\n",
      "\n"
     ]
    }
   ],
   "source": [
    "help(fake)"
   ]
  },
  {
   "cell_type": "code",
   "execution_count": 24,
   "metadata": {},
   "outputs": [
    {
     "data": {
      "text/plain": [
       "'国内增加投资之后她的因为.网站我们深圳研究.有些论坛要求搜索.\\n学校重要可是她的.其他起来专业以及.\\n浏览名称设计行业无法具有用户.日期提供行业国内文化国际问题.地方中心控制功能.\\n商品作者世界他们使用部分然后标准.到了留言作为能够帮助关于.免费实现得到.\\n次数这种还是提高开发业务目前如何.客户要求他们一个.\\n在线研究影响东西.这里点击标准投资.'"
      ]
     },
     "execution_count": 24,
     "metadata": {},
     "output_type": "execute_result"
    }
   ],
   "source": [
    "fake.text(max_nb_chars=200)"
   ]
  },
  {
   "cell_type": "code",
   "execution_count": 25,
   "metadata": {},
   "outputs": [
    {
     "data": {
      "text/plain": [
       "['比较希望相关新闻这里如何.',\n",
       " '责任名称经营能力自己商品经营.觉得然后注意一起那么更多发现.',\n",
       " '论坛来源业务之后部门学校.留言如果图片你的制作查看.']"
      ]
     },
     "execution_count": 25,
     "metadata": {},
     "output_type": "execute_result"
    }
   ],
   "source": [
    "fake.paragraphs(nb=3, ext_word_list=None)"
   ]
  },
  {
   "cell_type": "code",
   "execution_count": 17,
   "metadata": {
    "collapsed": true
   },
   "outputs": [],
   "source": []
  },
  {
   "cell_type": "code",
   "execution_count": 21,
   "metadata": {
    "collapsed": true
   },
   "outputs": [],
   "source": [
    "\n"
   ]
  },
  {
   "cell_type": "code",
   "execution_count": null,
   "metadata": {
    "collapsed": true
   },
   "outputs": [],
   "source": []
  }
 ],
 "metadata": {
  "kernelspec": {
   "display_name": "Python 3",
   "language": "python",
   "name": "python3"
  },
  "language_info": {
   "codemirror_mode": {
    "name": "ipython",
    "version": 3
   },
   "file_extension": ".py",
   "mimetype": "text/x-python",
   "name": "python",
   "nbconvert_exporter": "python",
   "pygments_lexer": "ipython3",
   "version": "3.6.2"
  },
  "toc": {
   "base_numbering": 1,
   "nav_menu": {},
   "number_sections": true,
   "sideBar": true,
   "skip_h1_title": false,
   "title_cell": "Table of Contents",
   "title_sidebar": "Contents",
   "toc_cell": true,
   "toc_position": {},
   "toc_section_display": true,
   "toc_window_display": true
  }
 },
 "nbformat": 4,
 "nbformat_minor": 2
}
