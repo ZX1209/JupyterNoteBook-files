{
 "cells": [
  {
   "cell_type": "markdown",
   "metadata": {},
   "source": [
    "## 安装 导入...\n",
    "#sudo pip install sympy\n",
    "import sympy as sym\n",
    "\n",
    "## 初始化 输出(pretty)\n",
    "#sym.init_session()\n",
    "sym.init_printing()\n",
    "\n",
    "## 创建符号变量\n",
    "x, y, z, a, b, c = sym.symbols('x, y, z, a, b, c')\n",
    "\n",
    "## 基本操作\n",
    "#加 减 乘 次方\n",
    "\n",
    "## 除法\n",
    "## Rational\n",
    "\n",
    "## 带入求值\n",
    "## subs\n",
    "\n",
    "## 等于号/表达式相等\n",
    "## Eq  equals\n",
    "\n",
    "\n",
    "\n",
    "## 表达式化简/合并项\n",
    "## simplify\n",
    "\n",
    "## 表达式扩展\n",
    "## expand\n",
    "\n",
    "## 表达式提取\n",
    "## factor\n",
    "\n",
    "## 积分\n",
    "## integrate\n",
    "\n",
    "## 极限\n",
    "## limit\n",
    "\n",
    "## 等式求解\n",
    "## solve\n",
    "\n",
    "## 微分方程求解\n",
    "## Function & dsolve\n",
    "\n",
    "## 字符转表达式\n",
    "## sympify\n",
    "\n",
    "\n"
   ]
  },
  {
   "cell_type": "code",
   "execution_count": 3,
   "metadata": {},
   "outputs": [
    {
     "ename": "NameError",
     "evalue": "name 'random' is not defined",
     "output_type": "error",
     "traceback": [
      "\u001b[1;31m---------------------------------------------------------------------------\u001b[0m",
      "\u001b[1;31mNameError\u001b[0m                                 Traceback (most recent call last)",
      "\u001b[1;32m<ipython-input-3-347a394b3b57>\u001b[0m in \u001b[0;36m<module>\u001b[1;34m()\u001b[0m\n\u001b[1;32m----> 1\u001b[1;33m \u001b[0mrandom\u001b[0m\u001b[1;33m(\u001b[0m\u001b[1;33m)\u001b[0m\u001b[1;33m\u001b[0m\u001b[0m\n\u001b[0m",
      "\u001b[1;31mNameError\u001b[0m: name 'random' is not defined"
     ]
    }
   ],
   "source": []
  }
 ],
 "metadata": {
  "kernelspec": {
   "display_name": "Python 3",
   "language": "python",
   "name": "python3"
  },
  "language_info": {
   "codemirror_mode": {
    "name": "ipython",
    "version": 3
   },
   "file_extension": ".py",
   "mimetype": "text/x-python",
   "name": "python",
   "nbconvert_exporter": "python",
   "pygments_lexer": "ipython3",
   "version": "3.6.2"
  },
  "toc": {
   "base_numbering": 1,
   "nav_menu": {},
   "number_sections": true,
   "sideBar": true,
   "skip_h1_title": false,
   "title_cell": "Table of Contents",
   "title_sidebar": "Contents",
   "toc_cell": false,
   "toc_position": {},
   "toc_section_display": true,
   "toc_window_display": true
  }
 },
 "nbformat": 4,
 "nbformat_minor": 2
}
