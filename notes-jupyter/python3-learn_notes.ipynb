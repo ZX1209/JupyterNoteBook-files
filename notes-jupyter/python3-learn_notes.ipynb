{
 "cells": [
  {
   "cell_type": "markdown",
   "metadata": {},
   "source": [
    "# GaoLing's python3 notes\n",
    "## 查看python 版本\n",
    "`python -v`\n",
    "\n",
    "# 指定编码\n",
    "`# -*- coding: cp-1252 -*-`\n"
   ]
  },
  {
   "cell_type": "code",
   "execution_count": 2,
   "metadata": {},
   "outputs": [
    {
     "data": {
      "text/plain": [
       "['False',\n",
       " 'None',\n",
       " 'True',\n",
       " 'and',\n",
       " 'as',\n",
       " 'assert',\n",
       " 'break',\n",
       " 'class',\n",
       " 'continue',\n",
       " 'def',\n",
       " 'del',\n",
       " 'elif',\n",
       " 'else',\n",
       " 'except',\n",
       " 'finally',\n",
       " 'for',\n",
       " 'from',\n",
       " 'global',\n",
       " 'if',\n",
       " 'import',\n",
       " 'in',\n",
       " 'is',\n",
       " 'lambda',\n",
       " 'nonlocal',\n",
       " 'not',\n",
       " 'or',\n",
       " 'pass',\n",
       " 'raise',\n",
       " 'return',\n",
       " 'try',\n",
       " 'while',\n",
       " 'with',\n",
       " 'yield']"
      ]
     },
     "execution_count": 2,
     "metadata": {},
     "output_type": "execute_result"
    }
   ],
   "source": [
    "# python 保留字\n",
    "import keyword\n",
    "keyword.kwlist"
   ]
  },
  {
   "cell_type": "code",
   "execution_count": 5,
   "metadata": {},
   "outputs": [
    {
     "data": {
      "text/plain": [
       "'\\n也可以这样\\n'"
      ]
     },
     "execution_count": 5,
     "metadata": {},
     "output_type": "execute_result"
    }
   ],
   "source": [
    "#可以用 # 来单行注释\n",
    "\n",
    "'''\n",
    "也可以这样\n",
    "'''\n"
   ]
  },
  {
   "cell_type": "code",
   "execution_count": 8,
   "metadata": {
    "collapsed": true
   },
   "outputs": [],
   "source": [
    "#使用缩进来表示程序块\n",
    "#使用 \\ 来 实现多行语句\n",
    "#在 [],{}.(),的多行语句中不需要使用 \\ "
   ]
  },
  {
   "cell_type": "code",
   "execution_count": 9,
   "metadata": {},
   "outputs": [
    {
     "name": "stdout",
     "output_type": "stream",
     "text": [
      "这是提示输入文本hi\n"
     ]
    },
    {
     "data": {
      "text/plain": [
       "'hi'"
      ]
     },
     "execution_count": 9,
     "metadata": {},
     "output_type": "execute_result"
    }
   ],
   "source": [
    "input(\"这是提示输入文本\")"
   ]
  },
  {
   "cell_type": "code",
   "execution_count": 11,
   "metadata": {},
   "outputs": [
    {
     "name": "stdout",
     "output_type": "stream",
     "text": [
      "这是一个输入\n",
      "这是另一个输入\n",
      "这是不换行输出1不换行输出2\n",
      "格式化字符串??\n"
     ]
    }
   ],
   "source": [
    "#python 的 输出是默认换行的,,如果要实现不换行\n",
    "#需要在变量末尾加上 end=\"\"\n",
    "print(\"这是一个输入\")\n",
    "print(\"这是另一个输入\")\n",
    "\n",
    "print(\"这是不换行输出1\",end=\"\")\n",
    "print(\"不换行输出2\",end=\"\")\n",
    "\n",
    "print(\"\\n格式化字符串??\")\n"
   ]
  },
  {
   "cell_type": "code",
   "execution_count": null,
   "metadata": {
    "collapsed": true
   },
   "outputs": [],
   "source": [
    "#import model name\n",
    "#from model import part as some_name"
   ]
  },
  {
   "cell_type": "code",
   "execution_count": 12,
   "metadata": {},
   "outputs": [
    {
     "name": "stdout",
     "output_type": "stream",
     "text": [
      "Hello~~~\n"
     ]
    }
   ],
   "source": [
    "#函数定义\n",
    "def printHello():\n",
    "    print(\"Hello~~~\")\n",
    "    \n",
    "printHello()"
   ]
  },
  {
   "cell_type": "code",
   "execution_count": 17,
   "metadata": {},
   "outputs": [
    {
     "name": "stdout",
     "output_type": "stream",
     "text": [
      "is \n"
     ]
    }
   ],
   "source": [
    "word=\"this is a string\"\n",
    "\n",
    "#始序0 中 的[2,5) 范围\n",
    "print(word[2:5])\n",
    "\n",
    "#字符串不能改变\n",
    "#word[0]='s' 会引发错误"
   ]
  },
  {
   "cell_type": "code",
   "execution_count": 21,
   "metadata": {},
   "outputs": [
    {
     "name": "stdout",
     "output_type": "stream",
     "text": [
      "[12, 'this', 'changed', 'heool', 234]\n",
      "['changed', 'heool', 234]\n",
      "[12, 'this', 'changed', 'heool', 234, 'list2', 'nothing special']\n"
     ]
    }
   ],
   "source": [
    "#list init\n",
    "list = [12,\"this\",12.0,\"heool\",234]\n",
    "\n",
    "list[2]=\"changed\"\n",
    "print(list)\n",
    "\n",
    "print(list[2:])\n",
    "\n",
    "list2 = [\"list2\",\"nothing special\"]\n",
    "\n",
    "list3=list+list2\n",
    "\n",
    "print(list3)\n",
    "\n"
   ]
  },
  {
   "cell_type": "code",
   "execution_count": 22,
   "metadata": {
    "collapsed": true
   },
   "outputs": [],
   "source": [
    "#tuple\n",
    "tuple = (\"this \", 'is a tuple',12)\n",
    "\n",
    "#tuple 不能被改变"
   ]
  },
  {
   "cell_type": "code",
   "execution_count": 25,
   "metadata": {},
   "outputs": [
    {
     "name": "stdout",
     "output_type": "stream",
     "text": [
      "if in test ok\n",
      "{'Jim', 'Tom', 'Jack', 'Rose', 'Mary'}\n",
      "Rose 在集合中\n",
      "{'r', 'a', 'd', 'c', 'b'}\n",
      "{'b', 'r', 'd'}\n",
      "{'r', 'l', 'm', 'a', 'd', 'c', 'b', 'z'}\n",
      "{'c', 'a'}\n",
      "{'r', 'd', 'l', 'b', 'm', 'z'}\n"
     ]
    }
   ],
   "source": [
    "#set 创建无序不重复元素序列\n",
    "#空 序列要用set()..应为{}是创造空字典的...\n",
    "parame = {\"this\" , \"is\" ,\"a\",\"set\",12}\n",
    "\n",
    "if 12 in parame:\n",
    "    print(\"if in test ok\")\n",
    "else:\n",
    "    print(\"there must be something worng\")\n",
    "    \n",
    "    \n",
    "student = {'Tom', 'Jim', 'Mary', 'Tom', 'Jack', 'Rose'}\n",
    " \n",
    "print(student)   # 输出集合，重复的元素被自动去掉\n",
    " \n",
    "# 成员测试\n",
    "if('Rose' in student) :\n",
    "    print('Rose 在集合中')\n",
    "else :\n",
    "    print('Rose 不在集合中')\n",
    " \n",
    " \n",
    "# set可以进行集合运算\n",
    "a = set('abracadabra')\n",
    "b = set('alacazam')\n",
    " \n",
    "print(a)\n",
    " \n",
    "print(a - b)     # a和b的差集\n",
    " \n",
    "print(a | b)     # a和b的并集\n",
    " \n",
    "print(a & b)     # a和b的交集\n",
    " \n",
    "print(a ^ b)     # a和b中不同时存在的元素\n",
    "        "
   ]
  },
  {
   "cell_type": "code",
   "execution_count": 26,
   "metadata": {},
   "outputs": [
    {
     "name": "stdout",
     "output_type": "stream",
     "text": [
      "1 - 菜鸟教程\n",
      "2 - 菜鸟工具\n",
      "{'name': 'runoob', 'code': 1, 'site': 'www.runoob.com'}\n",
      "dict_keys(['name', 'code', 'site'])\n",
      "dict_values(['runoob', 1, 'www.runoob.com'])\n"
     ]
    }
   ],
   "source": [
    "dict = {}\n",
    "dict['one'] = \"1 - 菜鸟教程\"\n",
    "dict[2]     = \"2 - 菜鸟工具\"\n",
    " \n",
    "tinydict = {'name': 'runoob','code':1, 'site': 'www.runoob.com'}\n",
    " \n",
    " \n",
    "print (dict['one'])       # 输出键为 'one' 的值\n",
    "print (dict[2])           # 输出键为 2 的值\n",
    "print (tinydict)          # 输出完整的字典\n",
    "print (tinydict.keys())   # 输出所有键\n",
    "print (tinydict.values()) # 输出所有值"
   ]
  },
  {
   "cell_type": "code",
   "execution_count": 27,
   "metadata": {},
   "outputs": [
    {
     "data": {
      "text/plain": [
       "'\\n函数\\t描述\\nint(x [,base])\\n\\n将x转换为一个整数\\n\\nfloat(x)\\n\\n将x转换到一个浮点数\\n\\ncomplex(real [,imag])\\n\\n创建一个复数\\n\\nstr(x)\\n\\n将对象 x 转换为字符串\\n\\nrepr(x)\\n\\n将对象 x 转换为表达式字符串\\n\\neval(str)\\n\\n用来计算在字符串中的有效Python表达式,并返回一个对象\\n\\ntuple(s)\\n\\n将序列 s 转换为一个元组\\n\\nlist(s)\\n\\n将序列 s 转换为一个列表\\n\\nset(s)\\n\\n转换为可变集合\\n\\ndict(d)\\n\\n创建一个字典。d 必须是一个序列 (key,value)元组。\\n\\nfrozenset(s)\\n\\n转换为不可变集合\\n\\nchr(x)\\n\\n将一个整数转换为一个字符\\n\\nord(x)\\n\\n将一个字符转换为它的整数值\\n\\nhex(x)\\n\\n将一个整数转换为一个十六进制字符串\\n\\noct(x)\\n\\n将一个整数转换为一个八进制字符串\\n'"
      ]
     },
     "execution_count": 27,
     "metadata": {},
     "output_type": "execute_result"
    }
   ],
   "source": [
    "#python3 数据转换\n",
    "\n",
    "'''\n",
    "函数\t描述\n",
    "\n",
    "\n",
    "int(x [,base])\n",
    "\n",
    "将x转换为一个整数\n",
    "\n",
    "float(x)\n",
    "\n",
    "将x转换到一个浮点数\n",
    "\n",
    "complex(real [,imag])\n",
    "\n",
    "创建一个复数\n",
    "\n",
    "str(x)\n",
    "\n",
    "将对象 x 转换为字符串\n",
    "\n",
    "repr(x)\n",
    "\n",
    "将对象 x 转换为表达式字符串\n",
    "\n",
    "eval(str)\n",
    "\n",
    "用来计算在字符串中的有效Python表达式,并返回一个对象\n",
    "\n",
    "tuple(s)\n",
    "\n",
    "将序列 s 转换为一个元组\n",
    "\n",
    "list(s)\n",
    "\n",
    "将序列 s 转换为一个列表\n",
    "\n",
    "set(s)\n",
    "\n",
    "转换为可变集合\n",
    "\n",
    "dict(d)\n",
    "\n",
    "创建一个字典。d 必须是一个序列 (key,value)元组。\n",
    "\n",
    "frozenset(s)\n",
    "\n",
    "转换为不可变集合\n",
    "\n",
    "chr(x)\n",
    "\n",
    "将一个整数转换为一个字符\n",
    "\n",
    "ord(x)\n",
    "\n",
    "将一个字符转换为它的整数值\n",
    "\n",
    "hex(x)\n",
    "\n",
    "将一个整数转换为一个十六进制字符串\n",
    "\n",
    "oct(x)\n",
    "\n",
    "将一个整数转换为一个八进制字符串\n",
    "'''"
   ]
  },
  {
   "cell_type": "code",
   "execution_count": 28,
   "metadata": {},
   "outputs": [
    {
     "data": {
      "text/plain": [
       "'\\nPython算术运算符\\n以下假设变量a为10，变量b为21：\\n\\n运算符\\t描述\\t实例\\n+\\t加 - 两个对象相加\\ta + b 输出结果 31\\n-\\t减 - 得到负数或是一个数减去另一个数\\ta - b 输出结果 -11\\n*\\t乘 - 两个数相乘或是返回一个被重复若干次的字符串\\ta * b 输出结果 210\\n/\\t除 - x 除以 y\\tb / a 输出结果 2.1\\n%\\t取模 - 返回除法的余数\\tb % a 输出结果 1\\n**\\t幂 - 返回x的y次幂\\ta**b 为10的21次方\\n//\\t取整除 - 返回商的整数部分\\t9//2 输出结果 4 , 9.0//2.0 输出结果 4.0\\n'"
      ]
     },
     "execution_count": 28,
     "metadata": {},
     "output_type": "execute_result"
    }
   ],
   "source": [
    "'''\n",
    "Python算术运算符\n",
    "以下假设变量a为10，变量b为21：\n",
    "\n",
    "运算符\t描述\t实例\n",
    "+\t加 - 两个对象相加\ta + b 输出结果 31\n",
    "-\t减 - 得到负数或是一个数减去另一个数\ta - b 输出结果 -11\n",
    "*\t乘 - 两个数相乘或是返回一个被重复若干次的字符串\ta * b 输出结果 210\n",
    "/\t除 - x 除以 y\tb / a 输出结果 2.1\n",
    "%\t取模 - 返回除法的余数\tb % a 输出结果 1\n",
    "**\t幂 - 返回x的y次幂\ta**b 为10的21次方\n",
    "//\t取整除 - 返回商的整数部分\t9//2 输出结果 4 , 9.0//2.0 输出结果 4.0\n",
    "\n",
    "python 比较运算符同C/C++\n",
    "\n",
    "Python赋值运算符\n",
    "以下假设变量a为10，变量b为20：\n",
    "\n",
    "运算符\t描述\t实例\n",
    "=\t简单的赋值运算符\tc = a + b 将 a + b 的运算结果赋值为 c\n",
    "+=\t加法赋值运算符\tc += a 等效于 c = c + a\n",
    "-=\t减法赋值运算符\tc -= a 等效于 c = c - a\n",
    "*=\t乘法赋值运算符\tc *= a 等效于 c = c * a\n",
    "/=\t除法赋值运算符\tc /= a 等效于 c = c / a\n",
    "%=\t取模赋值运算符\tc %= a 等效于 c = c % a\n",
    "**=\t幂赋值运算符\tc **= a 等效于 c = c ** a\n",
    "//=\t取整除赋值运算符\tc //= a 等效于 c = c // a\n",
    "\n",
    "&\t按位与运算符：参与运算的两个值,如果两个相应位都为1,则该位的结果为1,否则为0\t(a & b) 输出结果 12 ，二进制解释： 0000 1100\n",
    "|\t按位或运算符：只要对应的二个二进位有一个为1时，结果位就为1。\t(a | b) 输出结果 61 ，二进制解释： 0011 1101\n",
    "^\t按位异或运算符：当两对应的二进位相异时，结果为1\t(a ^ b) 输出结果 49 ，二进制解释： 0011 0001\n",
    "~\t按位取反运算符：对数据的每个二进制位取反,即把1变为0,把0变为1。~x 类似于 -x-1\t(~a ) 输出结果 -61 ，二进制解释： 1100 0011， 在一个有符号二进制数的补码形式。\n",
    "<<\t左移动运算符：运算数的各二进位全部左移若干位，由\"<<\"右边的数指定移动的位数，高位丢弃，低位补0。\ta << 2 输出结果 240 ，二进制解释： 1111 0000\n",
    ">>\t右移动运算符：把\">>\"左边的运算数的各二进位全部右移若干位，\">>\"右边的数指定移动的位数\ta >> 2 输出结果 15 ，二进制解释： 0000 1111\n",
    "'''"
   ]
  },
  {
   "cell_type": "code",
   "execution_count": 29,
   "metadata": {},
   "outputs": [
    {
     "name": "stdout",
     "output_type": "stream",
     "text": [
      "this is the if true test case\n",
      "10>5\n"
     ]
    }
   ],
   "source": [
    "if True:\n",
    "    print(\"this is the if true test case\")\n",
    "else:\n",
    "    print(\"this will not be run\")\n",
    "    \n",
    "x =  10;\n",
    "\n",
    "if 10>5:\n",
    "    print(\"10>5\")\n",
    "elif 10<5:\n",
    "    print(\"10<5\")\n",
    "else:\n",
    "    print(\"10==5\")\n",
    "    \n"
   ]
  },
  {
   "cell_type": "code",
   "execution_count": null,
   "metadata": {
    "collapsed": true
   },
   "outputs": [],
   "source": [
    "'''\n",
    "数学函数\n",
    "函数\t返回值 ( 描述 )\n",
    "abs(x)\t返回数字的绝对值，如abs(-10) 返回 10\n",
    "ceil(x)\t返回数字的上入整数，如math.ceil(4.1) 返回 5\n",
    "cmp(x, y)\n",
    "\n",
    "如果 x < y 返回 -1, 如果 x == y 返回 0, 如果 x > y 返回 1。 Python 3 已废弃 。使用 使用 (x>y)-(x<y) 替换。\n",
    "exp(x)\t返回e的x次幂(ex),如math.exp(1) 返回2.718281828459045\n",
    "fabs(x)\t返回数字的绝对值，如math.fabs(-10) 返回10.0\n",
    "floor(x)\t返回数字的下舍整数，如math.floor(4.9)返回 4\n",
    "log(x)\t如math.log(math.e)返回1.0,math.log(100,10)返回2.0\n",
    "log10(x)\t返回以10为基数的x的对数，如math.log10(100)返回 2.0\n",
    "max(x1, x2,...)\t返回给定参数的最大值，参数可以为序列。\n",
    "min(x1, x2,...)\t返回给定参数的最小值，参数可以为序列。\n",
    "modf(x)\t返回x的整数部分与小数部分，两部分的数值符号与x相同，整数部分以浮点型表示。\n",
    "pow(x, y)\tx**y 运算后的值。\n",
    "round(x [,n])\t返回浮点数x的四舍五入值，如给出n值，则代表舍入到小数点后的位数。\n",
    "sqrt(x)\t返回数字x的平方根。\n",
    "'''"
   ]
  },
  {
   "cell_type": "code",
   "execution_count": 31,
   "metadata": {},
   "outputs": [
    {
     "data": {
      "text/plain": [
       "4"
      ]
     },
     "execution_count": 31,
     "metadata": {},
     "output_type": "execute_result"
    }
   ],
   "source": [
    "import random\n",
    "random.choice([1,2,3,4,5,65])"
   ]
  },
  {
   "cell_type": "code",
   "execution_count": 32,
   "metadata": {},
   "outputs": [
    {
     "name": "stdout",
     "output_type": "stream",
     "text": [
      "0\n",
      "1\n",
      "2\n",
      "3\n",
      "4\n",
      "5\n",
      "6\n",
      "7\n",
      "8\n",
      "9\n"
     ]
    }
   ],
   "source": [
    "for i in range(0,10):\n",
    "    print(i)\n",
    "    \n",
    "    "
   ]
  },
  {
   "cell_type": "markdown",
   "metadata": {},
   "source": [
    "# this  is a heading test"
   ]
  },
  {
   "cell_type": "code",
   "execution_count": 35,
   "metadata": {},
   "outputs": [
    {
     "name": "stdout",
     "output_type": "stream",
     "text": [
      "Fri Apr  6 15:56:35 2018\n"
     ]
    }
   ],
   "source": [
    "import time\n",
    "localtime = time.asctime( time.localtime(time.time()) )\n",
    "print (localtime)"
   ]
  },
  {
   "cell_type": "code",
   "execution_count": null,
   "metadata": {
    "collapsed": true
   },
   "outputs": [],
   "source": []
  },
  {
   "cell_type": "code",
   "execution_count": null,
   "metadata": {
    "collapsed": true
   },
   "outputs": [],
   "source": []
  },
  {
   "cell_type": "code",
   "execution_count": null,
   "metadata": {
    "collapsed": true
   },
   "outputs": [],
   "source": []
  },
  {
   "cell_type": "code",
   "execution_count": null,
   "metadata": {
    "collapsed": true
   },
   "outputs": [],
   "source": []
  },
  {
   "cell_type": "code",
   "execution_count": null,
   "metadata": {
    "collapsed": true
   },
   "outputs": [],
   "source": []
  }
 ],
 "metadata": {
  "kernelspec": {
   "display_name": "Python 3",
   "language": "python",
   "name": "python3"
  },
  "language_info": {
   "codemirror_mode": {
    "name": "ipython",
    "version": 3
   },
   "file_extension": ".py",
   "mimetype": "text/x-python",
   "name": "python",
   "nbconvert_exporter": "python",
   "pygments_lexer": "ipython3",
   "version": "3.6.2"
  }
 },
 "nbformat": 4,
 "nbformat_minor": 2
}
