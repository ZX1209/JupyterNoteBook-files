{
 "cells": [
  {
   "cell_type": "markdown",
   "metadata": {},
   "source": [
    "1. 在同一幅图上创建f =1/（1 + x2） 和g = ex3两条曲线图。\n",
    "2. 曲线f 用红色; 曲线g 用蓝色。\n",
    "3. 区间[0 , 1 ]用等间距的30 个数据点。"
   ]
  },
  {
   "cell_type": "code",
   "execution_count": 1,
   "metadata": {
    "ExecuteTime": {
     "end_time": "2018-10-11T08:19:24.711179Z",
     "start_time": "2018-10-11T08:19:24.544932Z"
    }
   },
   "outputs": [],
   "source": [
    "import matplotlib.pyplot as plt\n",
    "import numpy as np"
   ]
  },
  {
   "cell_type": "code",
   "execution_count": 2,
   "metadata": {
    "ExecuteTime": {
     "end_time": "2018-10-11T08:20:32.023222Z",
     "start_time": "2018-10-11T08:20:32.019747Z"
    }
   },
   "outputs": [],
   "source": [
    "x = np.linspace(0,1,30)"
   ]
  },
  {
   "cell_type": "code",
   "execution_count": 5,
   "metadata": {
    "ExecuteTime": {
     "end_time": "2018-10-11T08:20:52.444369Z",
     "start_time": "2018-10-11T08:20:52.440898Z"
    }
   },
   "outputs": [],
   "source": [
    "f = 1/(1+x**2)"
   ]
  },
  {
   "cell_type": "code",
   "execution_count": 6,
   "metadata": {
    "ExecuteTime": {
     "end_time": "2018-10-11T08:21:08.543570Z",
     "start_time": "2018-10-11T08:21:08.540098Z"
    }
   },
   "outputs": [],
   "source": [
    "g = np.e**(x**3)"
   ]
  },
  {
   "cell_type": "code",
   "execution_count": 7,
   "metadata": {
    "ExecuteTime": {
     "end_time": "2018-10-11T08:21:09.577620Z",
     "start_time": "2018-10-11T08:21:09.573097Z"
    }
   },
   "outputs": [
    {
     "data": {
      "text/plain": [
       "array([1.        , 1.000041  , 1.00032807, 1.00110767, 1.00262758,\n",
       "       1.00513842, 1.00889579, 1.01416308, 1.02121498, 1.03034173,\n",
       "       1.04185428, 1.0560904 , 1.07342193, 1.09426357, 1.11908315,\n",
       "       1.14841423, 1.18287104, 1.22316685, 1.27013627, 1.32476269,\n",
       "       1.3882122 , 1.46187574, 1.54742192, 1.64686329, 1.76264039,\n",
       "       1.89772855, 2.05577469, 2.24127334, 2.45979473, 2.71828183])"
      ]
     },
     "execution_count": 7,
     "metadata": {},
     "output_type": "execute_result"
    }
   ],
   "source": [
    "g"
   ]
  },
  {
   "cell_type": "code",
   "execution_count": 9,
   "metadata": {
    "ExecuteTime": {
     "end_time": "2018-10-11T08:22:10.002095Z",
     "start_time": "2018-10-11T08:22:09.867184Z"
    }
   },
   "outputs": [
    {
     "data": {
      "image/png": "[encoded data removed]",
      "text/plain": [
       "<Figure size 432x288 with 2 Axes>"
      ]
     },
     "metadata": {
      "needs_background": "light"
     },
     "output_type": "display_data"
    }
   ],
   "source": [
    "plt.subplot(211)\n",
    "plt.plot(x,f,'r')\n",
    "\n",
    "plt.subplot(212)\n",
    "plt.plot(x,g,'b')\n",
    "\n",
    "plt.show()"
   ]
  },
  {
   "cell_type": "code",
   "execution_count": null,
   "metadata": {},
   "outputs": [],
   "source": []
  }
 ],
 "metadata": {
  "kernelspec": {
   "display_name": "Python 3",
   "language": "python",
   "name": "python3"
  },
  "language_info": {
   "codemirror_mode": {
    "name": "ipython",
    "version": 3
   },
   "file_extension": ".py",
   "mimetype": "text/x-python",
   "name": "python",
   "nbconvert_exporter": "python",
   "pygments_lexer": "ipython3",
   "version": "3.7.0"
  }
 },
 "nbformat": 4,
 "nbformat_minor": 2
}
