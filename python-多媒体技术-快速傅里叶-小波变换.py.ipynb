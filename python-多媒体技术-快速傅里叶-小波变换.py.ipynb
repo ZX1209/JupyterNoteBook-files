{
 "cells": [
  {
   "cell_type": "code",
   "execution_count": 1,
   "metadata": {
    "ExecuteTime": {
     "end_time": "2018-12-16T05:38:55.943266Z",
     "start_time": "2018-12-16T05:38:53.208881Z"
    }
   },
   "outputs": [],
   "source": [
    "import numpy as np\n",
    "import matplotlib.pyplot as plt\n",
    "from PIL import Image\n",
    "import os\n",
    "import cv2"
   ]
  },
  {
   "cell_type": "code",
   "execution_count": 2,
   "metadata": {
    "ExecuteTime": {
     "end_time": "2018-12-16T05:38:56.119763Z",
     "start_time": "2018-12-16T05:38:55.945229Z"
    }
   },
   "outputs": [
    {
     "name": "stdout",
     "output_type": "stream",
     "text": [
      "Using matplotlib backend: TkAgg\n"
     ]
    }
   ],
   "source": [
    "%matplotlib"
   ]
  },
  {
   "cell_type": "code",
   "execution_count": 3,
   "metadata": {
    "ExecuteTime": {
     "end_time": "2018-12-16T05:38:56.129736Z",
     "start_time": "2018-12-16T05:38:56.121757Z"
    }
   },
   "outputs": [
    {
     "data": {
      "text/plain": [
       "('C:\\\\Users\\\\14049\\\\WordAndStudy\\\\Projects\\\\JupyterNoteBook',\n",
       " None,\n",
       " 'C:\\\\Users\\\\14049\\\\WordAndStudy\\\\Projects\\\\学校\\\\大三上\\\\数字图像处理\\\\数字图像处理实验材料\\\\测试图像')"
      ]
     },
     "execution_count": 3,
     "metadata": {},
     "output_type": "execute_result"
    }
   ],
   "source": [
    "os.getcwd(),os.chdir(r'C:\\Users\\14049\\WordAndStudy\\Projects\\学校\\大三上\\数字图像处理\\数字图像处理实验材料\\测试图像'),os.getcwd()"
   ]
  },
  {
   "cell_type": "code",
   "execution_count": 4,
   "metadata": {
    "ExecuteTime": {
     "end_time": "2018-12-16T05:38:56.580529Z",
     "start_time": "2018-12-16T05:38:56.562578Z"
    }
   },
   "outputs": [],
   "source": [
    "img = cv2.imread(r'lena.bmp',0)"
   ]
  },
  {
   "cell_type": "code",
   "execution_count": 10,
   "metadata": {
    "ExecuteTime": {
     "end_time": "2018-12-16T05:39:32.660207Z",
     "start_time": "2018-12-16T05:39:32.531018Z"
    }
   },
   "outputs": [],
   "source": [
    "f = np.fft.fft2(img) # 快速傅里叶变换算法得到频率分布  \n",
    "fshift = np.fft.fftshift(f) # 默认结果中心点位置是在左上角，转移到中间位置\n",
    " \n",
    "fimg = np.log(np.abs(fshift)) # fft 结果是复数，求绝对值结果才是振幅\n",
    " \n",
    "# 展示结果\n",
    "plt.subplot(121), plt.imshow(img, 'gray'), plt.title('Original')  \n",
    "plt.subplot(122), plt.imshow(fimg, 'gray'), plt.title('fft-log')  \n",
    "plt.show()"
   ]
  },
  {
   "cell_type": "code",
   "execution_count": 8,
   "metadata": {
    "ExecuteTime": {
     "end_time": "2018-12-16T05:39:23.615086Z",
     "start_time": "2018-12-16T05:39:23.488780Z"
    }
   },
   "outputs": [
    {
     "data": {
      "text/plain": [
       "(<matplotlib.axes._subplots.AxesSubplot at 0x22287e56be0>,\n",
       " <matplotlib.image.AxesImage at 0x22288197dd8>,\n",
       " Text(0.5,1,'center'))"
      ]
     },
     "execution_count": 8,
     "metadata": {},
     "output_type": "execute_result"
    }
   ],
   "source": [
    "ph_f = np.angle(f)\n",
    "ph_fshift = np.angle(fshift)\n",
    "\n",
    "plt.subplot(121),plt.imshow(ph_f,'gray'),plt.title('original')\n",
    "plt.subplot(122),plt.imshow(ph_fshift,'gray'),plt.title('center')"
   ]
  },
  {
   "cell_type": "code",
   "execution_count": 9,
   "metadata": {
    "ExecuteTime": {
     "end_time": "2018-12-16T05:39:26.742452Z",
     "start_time": "2018-12-16T05:39:26.626725Z"
    }
   },
   "outputs": [
    {
     "data": {
      "text/plain": [
       "(<matplotlib.image.AxesImage at 0x22288212358>, Text(0.5,1,'img back'))"
      ]
     },
     "execution_count": 9,
     "metadata": {},
     "output_type": "execute_result"
    }
   ],
   "source": [
    "# 逆变换\n",
    "f1shift = np.fft.ifftshift(fshift)\n",
    "img_back = np.fft.ifft2(f1shift)\n",
    "#出来的是复数，无法显示\n",
    "img_back = np.abs(img_back)\n",
    "plt.imshow(img_back,'gray'),plt.title('img back')"
   ]
  },
  {
   "cell_type": "code",
   "execution_count": null,
   "metadata": {},
   "outputs": [],
   "source": []
  }
 ],
 "metadata": {
  "kernelspec": {
   "display_name": "Python 3",
   "language": "python",
   "name": "python3"
  },
  "language_info": {
   "codemirror_mode": {
    "name": "ipython",
    "version": 3
   },
   "file_extension": ".py",
   "mimetype": "text/x-python",
   "name": "python",
   "nbconvert_exporter": "python",
   "pygments_lexer": "ipython3",
   "version": "3.7.0"
  }
 },
 "nbformat": 4,
 "nbformat_minor": 2
}
