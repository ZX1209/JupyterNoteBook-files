{
 "cells": [
  {
   "cell_type": "code",
   "execution_count": 198,
   "metadata": {
    "ExecuteTime": {
     "end_time": "2018-09-10T05:57:32.043284Z",
     "start_time": "2018-09-10T05:57:31.883574Z"
    }
   },
   "outputs": [],
   "source": [
    "import os\n",
    "from PIL import Image"
   ]
  },
  {
   "cell_type": "code",
   "execution_count": 199,
   "metadata": {
    "ExecuteTime": {
     "end_time": "2018-09-10T05:57:32.405363Z",
     "start_time": "2018-09-10T05:57:32.392468Z"
    }
   },
   "outputs": [
    {
     "data": {
      "text/plain": [
       "'C:\\\\Users\\\\14049\\\\WordAndStudy\\\\Projects\\\\学校\\\\大三上\\\\数字图像处理'"
      ]
     },
     "execution_count": 199,
     "metadata": {},
     "output_type": "execute_result"
    }
   ],
   "source": [
    "os.getcwd()"
   ]
  },
  {
   "cell_type": "code",
   "execution_count": 200,
   "metadata": {
    "ExecuteTime": {
     "end_time": "2018-09-10T05:57:33.464878Z",
     "start_time": "2018-09-10T05:57:33.459859Z"
    }
   },
   "outputs": [],
   "source": [
    "os.chdir(r'C:\\Users\\14049\\WordAndStudy\\Projects\\学校\\大三上\\数字图像处理')"
   ]
  },
  {
   "cell_type": "code",
   "execution_count": 201,
   "metadata": {
    "ExecuteTime": {
     "end_time": "2018-09-10T05:57:34.095411Z",
     "start_time": "2018-09-10T05:57:34.079561Z"
    }
   },
   "outputs": [
    {
     "data": {
      "text/plain": [
       "'C:\\\\Users\\\\14049\\\\WordAndStudy\\\\Projects\\\\学校\\\\大三上\\\\数字图像处理'"
      ]
     },
     "execution_count": 201,
     "metadata": {},
     "output_type": "execute_result"
    }
   ],
   "source": [
    "os.getcwd()"
   ]
  },
  {
   "cell_type": "code",
   "execution_count": 202,
   "metadata": {
    "ExecuteTime": {
     "end_time": "2018-09-10T05:57:34.670629Z",
     "start_time": "2018-09-10T05:57:34.649300Z"
    }
   },
   "outputs": [
    {
     "data": {
      "text/plain": [
       "['bmp', 'gif', 'jpg', 'png', 'webp']"
      ]
     },
     "execution_count": 202,
     "metadata": {},
     "output_type": "execute_result"
    }
   ],
   "source": [
    "os.listdir()"
   ]
  },
  {
   "cell_type": "code",
   "execution_count": 204,
   "metadata": {
    "ExecuteTime": {
     "end_time": "2018-09-10T05:58:07.171733Z",
     "start_time": "2018-09-10T05:58:06.940595Z"
    }
   },
   "outputs": [],
   "source": [
    "# pngFile = open(r'png/Triangle-PNG-Transparent-Image.png','rb')\n",
    "# gifFile = open(r'gif/giphy.gif','rb')\n",
    "bmpFile = Image.open(r'bmp/FLAG_B24.BMP')\n",
    "# jpgFile = open(r'jpg/olivier-guillard-176814-unsplash.jpg','rb')\n",
    "# webpFile = open(r'webp/200w.webp','rb')"
   ]
  },
  {
   "cell_type": "code",
   "execution_count": 205,
   "metadata": {
    "ExecuteTime": {
     "end_time": "2018-09-10T05:58:11.401413Z",
     "start_time": "2018-09-10T05:58:11.394967Z"
    }
   },
   "outputs": [
    {
     "name": "stdout",
     "output_type": "stream",
     "text": [
      "['BITFIELDS', 'COMPRESSIONS', 'JPEG', 'PNG', 'RAW', 'RLE4', 'RLE8', '_Image__transformer', '__array_interface__', '__class__', '__copy__', '__del__', '__delattr__', '__dict__', '__dir__', '__doc__', '__enter__', '__eq__', '__exit__', '__format__', '__ge__', '__getattribute__', '__getstate__', '__gt__', '__hash__', '__init__', '__init_subclass__', '__le__', '__lt__', '__module__', '__ne__', '__new__', '__reduce__', '__reduce_ex__', '__repr__', '__setattr__', '__setstate__', '__sizeof__', '__str__', '__subclasshook__', '__weakref__', '_bitmap', '_close_exclusive_fp_after_loading', '_copy', '_crop', '_dump', '_ensure_mutable', '_exclusive_fp', '_expand', '_min_frame', '_new', '_open', '_repr_png_', '_seek_check', 'alpha_composite', 'category', 'close', 'convert', 'copy', 'crop', 'decoderconfig', 'decodermaxblock', 'draft', 'effect_spread', 'filename', 'filter', 'format', 'format_description', 'fp', 'frombytes', 'fromstring', 'get_format_mimetype', 'getbands', 'getbbox', 'getchannel', 'getcolors', 'getdata', 'getextrema', 'getim', 'getpalette', 'getpixel', 'getprojection', 'height', 'histogram', 'im', 'info', 'load', 'load_end', 'load_prepare', 'mode', 'offset', 'palette', 'paste', 'point', 'putalpha', 'putdata', 'putpalette', 'putpixel', 'pyaccess', 'quantize', 'readonly', 'remap_palette', 'resize', 'rotate', 'save', 'seek', 'show', 'size', 'split', 'tell', 'thumbnail', 'tile', 'tobitmap', 'tobytes', 'toqimage', 'toqpixmap', 'tostring', 'transform', 'transpose', 'verify', 'width']\n"
     ]
    }
   ],
   "source": [
    "print(dir(bmpFile))"
   ]
  },
  {
   "cell_type": "code",
   "execution_count": 216,
   "metadata": {
    "ExecuteTime": {
     "end_time": "2018-09-10T06:01:22.092708Z",
     "start_time": "2018-09-10T06:01:18.343324Z"
    }
   },
   "outputs": [],
   "source": [
    "import matplotlib.pyplot as plt"
   ]
  },
  {
   "cell_type": "code",
   "execution_count": 217,
   "metadata": {
    "ExecuteTime": {
     "end_time": "2018-09-10T06:05:34.749603Z",
     "start_time": "2018-09-10T06:05:34.733735Z"
    }
   },
   "outputs": [
    {
     "data": {
      "text/plain": [
       "('BMP', (124, 124), 'RGB')"
      ]
     },
     "execution_count": 217,
     "metadata": {},
     "output_type": "execute_result"
    }
   ],
   "source": [
    "bmpFile.format, bmpFile.size, bmpFile.mode"
   ]
  },
  {
   "cell_type": "code",
   "execution_count": 218,
   "metadata": {
    "ExecuteTime": {
     "end_time": "2018-09-10T06:06:07.585018Z",
     "start_time": "2018-09-10T06:06:05.537986Z"
    }
   },
   "outputs": [],
   "source": [
    "bmpFile.show()"
   ]
  },
  {
   "cell_type": "code",
   "execution_count": 192,
   "metadata": {
    "ExecuteTime": {
     "end_time": "2018-09-10T05:45:07.584712Z",
     "start_time": "2018-09-10T05:45:07.578265Z"
    }
   },
   "outputs": [
    {
     "data": {
      "text/plain": [
       "b'\\x00\\x00'"
      ]
     },
     "execution_count": 192,
     "metadata": {},
     "output_type": "execute_result"
    }
   ],
   "source": []
  },
  {
   "cell_type": "code",
   "execution_count": 193,
   "metadata": {
    "ExecuteTime": {
     "end_time": "2018-09-10T05:45:08.462985Z",
     "start_time": "2018-09-10T05:45:08.449598Z"
    }
   },
   "outputs": [
    {
     "data": {
      "text/plain": [
       "b'6\\x00\\x00\\x00'"
      ]
     },
     "execution_count": 193,
     "metadata": {},
     "output_type": "execute_result"
    }
   ],
   "source": []
  },
  {
   "cell_type": "code",
   "execution_count": 196,
   "metadata": {
    "ExecuteTime": {
     "end_time": "2018-09-10T05:48:43.141018Z",
     "start_time": "2018-09-10T05:48:43.129044Z"
    }
   },
   "outputs": [
    {
     "data": {
      "text/plain": [
       "b'\\xf8\\x00\\x00\\xf8\\x00\\x00\\xf8\\x00\\x00\\xf8\\x00\\x00\\xf8\\x00\\x00\\xf8\\x00\\x00\\xf8\\x00\\x00\\xf8\\x00\\x00\\xf8\\x00\\x00\\xf8\\x00\\x00\\xf8\\x00\\x00\\xf8\\x00\\x00\\xf8\\x00\\x00\\xf8\\x00\\x00\\xf8\\x00\\x00\\xf8\\x00\\x00\\xf8\\x00\\x00\\xf8\\x00\\x00\\xf8\\x00'"
      ]
     },
     "execution_count": 196,
     "metadata": {},
     "output_type": "execute_result"
    }
   ],
   "source": [
    "bmpFile.read(56)"
   ]
  },
  {
   "cell_type": "code",
   "execution_count": 219,
   "metadata": {
    "ExecuteTime": {
     "end_time": "2018-09-10T11:02:28.731972Z",
     "start_time": "2018-09-10T11:02:28.711635Z"
    }
   },
   "outputs": [],
   "source": [
    "# pngFile.close()\n",
    "bmpFile.close()\n",
    "# gifFile.close()\n",
    "# jpgFile.close()\n",
    "# webpFile.close()"
   ]
  },
  {
   "cell_type": "code",
   "execution_count": null,
   "metadata": {
    "ExecuteTime": {
     "end_time": "2018-09-08T12:00:58.809457Z",
     "start_time": "2018-09-08T12:00:58.803505Z"
    }
   },
   "outputs": [],
   "source": []
  },
  {
   "cell_type": "code",
   "execution_count": 60,
   "metadata": {
    "ExecuteTime": {
     "end_time": "2018-09-08T12:01:05.028225Z",
     "start_time": "2018-09-08T12:01:05.022273Z"
    }
   },
   "outputs": [
    {
     "data": {
      "text/plain": [
       "80"
      ]
     },
     "execution_count": 60,
     "metadata": {},
     "output_type": "execute_result"
    }
   ],
   "source": []
  },
  {
   "cell_type": "code",
   "execution_count": 61,
   "metadata": {
    "ExecuteTime": {
     "end_time": "2018-09-08T12:01:05.356476Z",
     "start_time": "2018-09-08T12:01:05.351518Z"
    }
   },
   "outputs": [
    {
     "data": {
      "text/plain": [
       "'0x50'"
      ]
     },
     "execution_count": 61,
     "metadata": {},
     "output_type": "execute_result"
    }
   ],
   "source": []
  },
  {
   "cell_type": "code",
   "execution_count": 62,
   "metadata": {
    "ExecuteTime": {
     "end_time": "2018-09-08T12:01:05.837425Z",
     "start_time": "2018-09-08T12:01:05.833457Z"
    }
   },
   "outputs": [],
   "source": []
  },
  {
   "cell_type": "code",
   "execution_count": null,
   "metadata": {},
   "outputs": [],
   "source": []
  }
 ],
 "metadata": {
  "kernelspec": {
   "display_name": "Python 3",
   "language": "python",
   "name": "python3"
  },
  "language_info": {
   "codemirror_mode": {
    "name": "ipython",
    "version": 3
   },
   "file_extension": ".py",
   "mimetype": "text/x-python",
   "name": "python",
   "nbconvert_exporter": "python",
   "pygments_lexer": "ipython3",
   "version": "3.7.0"
  }
 },
 "nbformat": 4,
 "nbformat_minor": 2
}
