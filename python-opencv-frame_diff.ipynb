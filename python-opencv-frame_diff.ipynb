{
 "cells": [
  {
   "cell_type": "code",
   "execution_count": 1,
   "metadata": {
    "ExecuteTime": {
     "end_time": "2018-12-25T06:52:59.430796Z",
     "start_time": "2018-12-25T06:52:57.776159Z"
    }
   },
   "outputs": [],
   "source": [
    "import cv2\n",
    "import os\n",
    "import numpy as np"
   ]
  },
  {
   "cell_type": "code",
   "execution_count": 2,
   "metadata": {
    "ExecuteTime": {
     "end_time": "2018-12-25T06:53:27.756745Z",
     "start_time": "2018-12-25T06:53:27.739792Z"
    }
   },
   "outputs": [
    {
     "data": {
      "text/plain": [
       "('C:\\\\Users\\\\14049\\\\WordAndStudy\\\\Projects\\\\JupyterNoteBook',\n",
       " None,\n",
       " 'C:\\\\Users\\\\14049\\\\WordAndStudy\\\\Projects\\\\学校\\\\大三上\\\\多媒体技术\\\\课设')"
      ]
     },
     "execution_count": 2,
     "metadata": {},
     "output_type": "execute_result"
    }
   ],
   "source": [
    "os.getcwd(),os.chdir(r'C:\\Users\\14049\\WordAndStudy\\Projects\\学校\\大三上\\多媒体技术\\课设'),os.getcwd()"
   ]
  },
  {
   "cell_type": "code",
   "execution_count": 3,
   "metadata": {
    "ExecuteTime": {
     "end_time": "2018-12-25T06:54:10.902617Z",
     "start_time": "2018-12-25T06:54:10.896634Z"
    }
   },
   "outputs": [],
   "source": [
    "def cv2ShowImages(imgs):\n",
    "    for i,img in enumerate(imgs):\n",
    "        cv2.namedWindow(str(i),cv2.WINDOW_NORMAL)\n",
    "        cv2.imshow(str(i),img)\n",
    "    cv2.waitKey(0)\n",
    "    cv2.destroyAllWindows()"
   ]
  },
  {
   "cell_type": "markdown",
   "metadata": {},
   "source": [
    "# VideoCapture?\n",
    "```python\n",
    "import numpy as np\n",
    "import cv2\n",
    "\n",
    "cap = cv2.VideoCapture('vtest.avi')\n",
    "\n",
    "while(cap.isOpened()):\n",
    "    ret, frame = cap.read()\n",
    "\n",
    "    gray = cv2.cvtColor(frame, cv2.COLOR_BGR2GRAY)\n",
    "\n",
    "    cv2.imshow('frame',gray)\n",
    "    if cv2.waitKey(1) & 0xFF == ord('q'):\n",
    "        break\n",
    "\n",
    "cap.release()\n",
    "cv2.destroyAllWindows()\n",
    "```"
   ]
  },
  {
   "cell_type": "code",
   "execution_count": 33,
   "metadata": {
    "ExecuteTime": {
     "end_time": "2018-12-25T13:18:48.525298Z",
     "start_time": "2018-12-25T13:18:48.519748Z"
    }
   },
   "outputs": [],
   "source": [
    "cap = cv2.VideoCapture('video-h265.mkv')"
   ]
  },
  {
   "cell_type": "code",
   "execution_count": 34,
   "metadata": {
    "ExecuteTime": {
     "end_time": "2018-12-25T13:19:08.360495Z",
     "start_time": "2018-12-25T13:18:49.134104Z"
    }
   },
   "outputs": [],
   "source": [
    "frameCount = 0\n",
    "pre = None\n",
    "frame = None\n",
    "grayPre = None\n",
    "grayCur = None\n",
    "\n",
    "while(cap.isOpened()):\n",
    "    ret,frame = cap.read()\n",
    "    \n",
    "    if not ret:\n",
    "        break\n",
    "    \n",
    "    # 初始化\n",
    "    if frameCount ==0:\n",
    "        grayPre = cv2.cvtColor(frame, cv2.COLOR_BGR2GRAY)\n",
    "    \n",
    "    grayCur = cv2.cvtColor(frame, cv2.COLOR_BGR2GRAY)\n",
    "    \n",
    "    # diff\n",
    "    diff = cv2.absdiff(grayPre,grayCur)\n",
    "    _,thresDiff = cv2.threshold(diff,2,255,cv2.THRESH_BINARY)\n",
    "    \n",
    "    erodeKernel = cv2.getStructuringElement(cv2.MORPH_ELLIPSE, (18, 18));\n",
    "    # dilateKernel = cv2.getStructuringElement(cv2.MORPH_ELLIPSE, (18, 18));\n",
    "    \n",
    "    tmp = cv2.erode(thresDiff,erodeKernel)\n",
    "    # tmp = cv2.dilate(tmp,dilateKernel)\n",
    "    \n",
    "    \n",
    "    cv2.imshow(\"frame\",frame)\n",
    "    # cv2.imshow(\"diff\",diff) # diff 值太小不明显\n",
    "    cv2.imshow(\"thresdiff\",thresDiff)\n",
    "    cv2.imshow(\"Kernel\",Kernel)\n",
    "    cv2.imshow('tmp',tmp)\n",
    "    \n",
    "    # 更替\n",
    "    grayPre = grayCur.copy()\n",
    "    frameCount +=1\n",
    "    \n",
    "    if cv2.waitKey(1) & 0xFF == ord('q'):\n",
    "        break\n",
    "\n",
    "cap.release()\n",
    "cv2.destroyAllWindows()"
   ]
  },
  {
   "cell_type": "code",
   "execution_count": 9,
   "metadata": {
    "ExecuteTime": {
     "end_time": "2018-12-25T07:42:15.338255Z",
     "start_time": "2018-12-25T07:42:15.333495Z"
    }
   },
   "outputs": [],
   "source": [
    "cv2.threshold?"
   ]
  },
  {
   "cell_type": "code",
   "execution_count": 25,
   "metadata": {
    "ExecuteTime": {
     "end_time": "2018-12-25T08:32:25.312969Z",
     "start_time": "2018-12-25T08:32:25.301493Z"
    }
   },
   "outputs": [],
   "source": [
    "cap.release()"
   ]
  },
  {
   "cell_type": "code",
   "execution_count": 26,
   "metadata": {
    "ExecuteTime": {
     "end_time": "2018-12-25T08:32:25.568294Z",
     "start_time": "2018-12-25T08:32:25.474537Z"
    }
   },
   "outputs": [],
   "source": [
    "cv2.destroyAllWindows()"
   ]
  },
  {
   "cell_type": "markdown",
   "metadata": {},
   "source": [
    "# 积累"
   ]
  },
  {
   "cell_type": "code",
   "execution_count": null,
   "metadata": {},
   "outputs": [],
   "source": []
  }
 ],
 "metadata": {
  "kernelspec": {
   "display_name": "Python 3",
   "language": "python",
   "name": "python3"
  },
  "language_info": {
   "codemirror_mode": {
    "name": "ipython",
    "version": 3
   },
   "file_extension": ".py",
   "mimetype": "text/x-python",
   "name": "python",
   "nbconvert_exporter": "python",
   "pygments_lexer": "ipython3",
   "version": "3.7.0"
  }
 },
 "nbformat": 4,
 "nbformat_minor": 2
}
