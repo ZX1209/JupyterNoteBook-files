{
 "cells": [
  {
   "cell_type": "code",
   "execution_count": null,
   "metadata": {},
   "outputs": [],
   "source": [
    "# -*- coding: utf-8 -*-\n",
    "import pyaudio\n",
    "import wave\n",
    "import os\n",
    "os.chdir(r'C:\\Users\\14049\\AppData\\Roaming\\baidu\\BaiduNetdisk\\sounds')\n",
    "\n",
    "chunk = 1024\n",
    "\n",
    "wf = wave.open(r\"1.wav\", 'rb')\n",
    "\n",
    "p = pyaudio.PyAudio()\n",
    "\n",
    "# 打开声音输出流\n",
    "stream = p.open(format = p.get_format_from_width(wf.getsampwidth()),\n",
    "                channels = wf.getnchannels(),\n",
    "                rate = wf.getframerate(),\n",
    "                output = True)\n",
    "\n",
    "# 写声音输出流进行播放\n",
    "while True:\n",
    "    data = wf.readframes(chunk)\n",
    "    if data == \"\": break\n",
    "    stream.write(data)\n",
    "\n",
    "stream.close()\n",
    "p.terminate()"
   ]
  }
 ],
 "metadata": {
  "kernelspec": {
   "display_name": "Python 3",
   "language": "python",
   "name": "python3"
  },
  "language_info": {
   "codemirror_mode": {
    "name": "ipython",
    "version": 3
   },
   "file_extension": ".py",
   "mimetype": "text/x-python",
   "name": "python",
   "nbconvert_exporter": "python",
   "pygments_lexer": "ipython3",
   "version": "3.7.0"
  }
 },
 "nbformat": 4,
 "nbformat_minor": 2
}
