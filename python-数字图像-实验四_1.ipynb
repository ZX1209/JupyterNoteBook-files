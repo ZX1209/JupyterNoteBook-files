{
 "cells": [
  {
   "cell_type": "code",
   "execution_count": 1,
   "metadata": {
    "ExecuteTime": {
     "end_time": "2018-11-28T06:17:57.076459Z",
     "start_time": "2018-11-28T06:17:54.430462Z"
    }
   },
   "outputs": [],
   "source": [
    "import cv2\n",
    "import numpy as np\n",
    "import matplotlib.pyplot as plt\n",
    "import os"
   ]
  },
  {
   "cell_type": "code",
   "execution_count": 2,
   "metadata": {
    "ExecuteTime": {
     "end_time": "2018-11-28T06:17:57.265918Z",
     "start_time": "2018-11-28T06:17:57.078382Z"
    }
   },
   "outputs": [
    {
     "name": "stdout",
     "output_type": "stream",
     "text": [
      "Using matplotlib backend: TkAgg\n"
     ]
    }
   ],
   "source": [
    "%matplotlib"
   ]
  },
  {
   "cell_type": "code",
   "execution_count": 3,
   "metadata": {
    "ExecuteTime": {
     "end_time": "2018-11-28T06:17:57.278848Z",
     "start_time": "2018-11-28T06:17:57.267876Z"
    }
   },
   "outputs": [],
   "source": [
    "%config InlineBackend.figure_format = 'svg'"
   ]
  },
  {
   "cell_type": "code",
   "execution_count": 4,
   "metadata": {
    "ExecuteTime": {
     "end_time": "2018-11-28T06:17:57.832366Z",
     "start_time": "2018-11-28T06:17:57.825385Z"
    }
   },
   "outputs": [
    {
     "data": {
      "text/plain": [
       "('C:\\\\Users\\\\14049\\\\WordAndStudy\\\\Projects\\\\JupyterNoteBook',\n",
       " None,\n",
       " 'C:\\\\Users\\\\14049\\\\WordAndStudy\\\\Projects\\\\学校\\\\大三上\\\\数字图像处理\\\\数字图像处理实验材料\\\\测试图像')"
      ]
     },
     "execution_count": 4,
     "metadata": {},
     "output_type": "execute_result"
    }
   ],
   "source": [
    "os.getcwd(),os.chdir(r'C:\\Users\\14049\\WordAndStudy\\Projects\\学校\\大三上\\数字图像处理\\数字图像处理实验材料\\测试图像'),os.getcwd()"
   ]
  },
  {
   "cell_type": "code",
   "execution_count": 5,
   "metadata": {
    "ExecuteTime": {
     "end_time": "2018-11-28T06:17:57.890212Z",
     "start_time": "2018-11-28T06:17:57.886222Z"
    }
   },
   "outputs": [],
   "source": [
    "def cv2ShowImages(imgs):\n",
    "    for i,img in enumerate(imgs):\n",
    "        cv2.namedWindow(str(i),cv2.WINDOW_NORMAL)\n",
    "        cv2.imshow(str(i),img)\n",
    "    cv2.waitKey(0)\n",
    "    cv2.destroyAllWindows()"
   ]
  },
  {
   "cell_type": "markdown",
   "metadata": {},
   "source": [
    "# 彩色图像的颜色通道的值提高"
   ]
  },
  {
   "cell_type": "markdown",
   "metadata": {},
   "source": [
    "> 注意 np 数组溢出"
   ]
  },
  {
   "cell_type": "code",
   "execution_count": 6,
   "metadata": {
    "ExecuteTime": {
     "end_time": "2018-11-28T06:18:01.954346Z",
     "start_time": "2018-11-28T06:18:01.929415Z"
    }
   },
   "outputs": [],
   "source": [
    "cImg = cv2.imread(r'baboon.bmp')"
   ]
  },
  {
   "cell_type": "code",
   "execution_count": 7,
   "metadata": {
    "ExecuteTime": {
     "end_time": "2018-11-28T06:18:09.269787Z",
     "start_time": "2018-11-28T06:18:09.177065Z"
    }
   },
   "outputs": [],
   "source": [
    "cImgList2 = cImg.tolist()"
   ]
  },
  {
   "cell_type": "code",
   "execution_count": 8,
   "metadata": {
    "ExecuteTime": {
     "end_time": "2018-11-28T06:18:09.535083Z",
     "start_time": "2018-11-28T06:18:09.525111Z"
    }
   },
   "outputs": [],
   "source": [
    "tmpImg = cImg.astype('int32')+30"
   ]
  },
  {
   "cell_type": "code",
   "execution_count": 9,
   "metadata": {
    "ExecuteTime": {
     "end_time": "2018-11-28T06:18:09.953964Z",
     "start_time": "2018-11-28T06:18:09.939030Z"
    }
   },
   "outputs": [],
   "source": [
    "tmpImg = tmpImg.clip(0,255)"
   ]
  },
  {
   "cell_type": "code",
   "execution_count": 10,
   "metadata": {
    "ExecuteTime": {
     "end_time": "2018-11-28T06:18:10.466609Z",
     "start_time": "2018-11-28T06:18:10.461600Z"
    }
   },
   "outputs": [],
   "source": [
    "tmpImg = tmpImg.astype('uint8')"
   ]
  },
  {
   "cell_type": "code",
   "execution_count": null,
   "metadata": {},
   "outputs": [],
   "source": []
  },
  {
   "cell_type": "code",
   "execution_count": 11,
   "metadata": {
    "ExecuteTime": {
     "end_time": "2018-11-28T06:18:13.563308Z",
     "start_time": "2018-11-28T06:18:12.640775Z"
    }
   },
   "outputs": [],
   "source": [
    "rl = len(cImgList2)\n",
    "cl = len(cImgList2[0])\n",
    "\n",
    "bias = 30\n",
    "\n",
    "for ri in range(rl):\n",
    "    for ci in range(cl):\n",
    "        for i in range(3):\n",
    "            cImgList2[ri][ci][i] = max(0,min(cImgList2[ri][ci][i]+bias,255))\n"
   ]
  },
  {
   "cell_type": "code",
   "execution_count": 12,
   "metadata": {
    "ExecuteTime": {
     "end_time": "2018-11-28T06:18:15.177991Z",
     "start_time": "2018-11-28T06:18:15.083243Z"
    }
   },
   "outputs": [],
   "source": [
    "tmp1 = np.array(cImgList2,'uint8')"
   ]
  },
  {
   "cell_type": "code",
   "execution_count": 13,
   "metadata": {
    "ExecuteTime": {
     "end_time": "2018-11-28T06:20:15.435471Z",
     "start_time": "2018-11-28T06:18:16.850548Z"
    }
   },
   "outputs": [],
   "source": [
    "cv2ShowImages([cImg,np.array(cImgList2,'uint8'),tmpImg])"
   ]
  },
  {
   "cell_type": "code",
   "execution_count": 14,
   "metadata": {
    "ExecuteTime": {
     "end_time": "2018-11-28T06:20:19.787831Z",
     "start_time": "2018-11-28T06:20:19.780850Z"
    }
   },
   "outputs": [],
   "source": [
    "ans = tmp1 == tmpImg"
   ]
  },
  {
   "cell_type": "code",
   "execution_count": 15,
   "metadata": {
    "ExecuteTime": {
     "end_time": "2018-11-28T06:20:28.472612Z",
     "start_time": "2018-11-28T06:20:20.141886Z"
    }
   },
   "outputs": [],
   "source": [
    "CImg = cImg+30\n",
    "CImg = CImg.clip(1,255)\n",
    "cv2ShowImages([cImg,CImg.astype('uint8')])"
   ]
  },
  {
   "cell_type": "markdown",
   "metadata": {},
   "source": [
    "# 图像去饱和度"
   ]
  },
  {
   "cell_type": "code",
   "execution_count": 16,
   "metadata": {
    "ExecuteTime": {
     "end_time": "2018-11-28T06:21:15.384194Z",
     "start_time": "2018-11-28T06:21:15.263544Z"
    }
   },
   "outputs": [],
   "source": [
    "cImgList = cImg.tolist()\n",
    "dImg = cImgList.copy()"
   ]
  },
  {
   "cell_type": "code",
   "execution_count": 17,
   "metadata": {
    "ExecuteTime": {
     "end_time": "2018-11-28T06:21:15.842961Z",
     "start_time": "2018-11-28T06:21:15.838972Z"
    }
   },
   "outputs": [],
   "source": [
    "alpha_silder = 50\n",
    "alpha_slider_max = 100"
   ]
  },
  {
   "cell_type": "code",
   "execution_count": 18,
   "metadata": {
    "ExecuteTime": {
     "end_time": "2018-11-28T06:21:16.743641Z",
     "start_time": "2018-11-28T06:21:16.449340Z"
    }
   },
   "outputs": [],
   "source": [
    "rl = len(cImgList)\n",
    "cl = len(cImgList[0])\n",
    "\n",
    "alpha = alpha_silder/alpha_slider_max\n",
    "beta = 1-alpha\n",
    "for ri in range(rl):\n",
    "    for ci in range(cl):\n",
    "        b,g,r = cImgList[ri][ci]\n",
    "        y = 0.114*b+0.587*g+0.299*r\n",
    "        dImg[ri][ci] = [alpha*y+beta*b,alpha*y+beta*g,alpha*y+beta*r]\n"
   ]
  },
  {
   "cell_type": "code",
   "execution_count": 19,
   "metadata": {
    "ExecuteTime": {
     "end_time": "2018-11-28T06:21:37.659632Z",
     "start_time": "2018-11-28T06:21:17.350931Z"
    }
   },
   "outputs": [],
   "source": [
    "cv2ShowImages([cImg,np.array(dImg,'uint8')])"
   ]
  },
  {
   "cell_type": "markdown",
   "metadata": {},
   "source": [
    "# 动态改变 alpha (需要优化)"
   ]
  },
  {
   "cell_type": "code",
   "execution_count": 20,
   "metadata": {
    "ExecuteTime": {
     "end_time": "2018-11-28T06:22:19.220514Z",
     "start_time": "2018-11-28T06:21:50.136297Z"
    }
   },
   "outputs": [],
   "source": [
    "cv2.namedWindow('image')\n",
    "\n",
    "alpha = 0\n",
    "alpha_silder = 0\n",
    "alpha_slider_max = 100\n",
    "alpha_slider_min = 0\n",
    "\n",
    "def doNothing(no):\n",
    "    pass\n",
    "\n",
    "# 创建滑块,注册回调函数\n",
    "cv2.createTrackbar('Alpha','image',alpha_slider_min,alpha_slider_max,doNothing)\n",
    "\n",
    "alpha_silder = cv2.getTrackbarPos('Alpha','image')\n",
    "\n",
    "while True:\n",
    "    k = cv2.waitKey(1) & 0xFF\n",
    "    if k == 8:\n",
    "        break\n",
    "    alpha_silder = cv2.getTrackbarPos('Alpha','image')\n",
    "    dImg = cImg.tolist()\n",
    "    \n",
    "    alpha = alpha_silder/alpha_slider_max\n",
    "    beta = 1-alpha\n",
    "    for ri in range(rl):\n",
    "        for ci in range(cl):\n",
    "            b,g,r = cImg[ri,ci]\n",
    "            y = 0.114*b+0.587*g+0.299*r\n",
    "            dImg[ri][ci] = [alpha*y+beta*b,alpha*y+beta*g,alpha*y+beta*r]\n",
    "    cv2.imshow('image',np.array(dImg,'uint8'))\n",
    "\n",
    "        \n",
    "    \n",
    "cv2.destroyAllWindows()"
   ]
  },
  {
   "cell_type": "markdown",
   "metadata": {},
   "source": [
    "# HSV 各分量调整"
   ]
  },
  {
   "cell_type": "code",
   "execution_count": 21,
   "metadata": {
    "ExecuteTime": {
     "end_time": "2018-11-28T06:24:42.248112Z",
     "start_time": "2018-11-28T06:24:42.224208Z"
    }
   },
   "outputs": [],
   "source": [
    "hsvImg = cv2.cvtColor(cImg,cv2.COLOR_BGR2HSV)"
   ]
  },
  {
   "cell_type": "code",
   "execution_count": 22,
   "metadata": {
    "ExecuteTime": {
     "end_time": "2018-11-28T06:24:42.906393Z",
     "start_time": "2018-11-28T06:24:42.904358Z"
    }
   },
   "outputs": [],
   "source": [
    "# h,s,v = cv2.split(hsvImg)\n",
    "# cv2ShowImages([h,s,v])"
   ]
  },
  {
   "cell_type": "code",
   "execution_count": 25,
   "metadata": {
    "ExecuteTime": {
     "end_time": "2018-11-28T06:28:59.643933Z",
     "start_time": "2018-11-28T06:27:50.986498Z"
    }
   },
   "outputs": [],
   "source": [
    "# 有些许问题呢\n",
    "cv2.namedWindow('image')\n",
    "\n",
    "alpha = 0\n",
    "alpha_silder = 0\n",
    "\n",
    "alpha_slider_max = 100\n",
    "alpha_slider_min = 0\n",
    "\n",
    "def doNothing(no):\n",
    "    pass\n",
    "\n",
    "# 创建滑块,注册回调函数\n",
    "cv2.createTrackbar('h','image',alpha_slider_min,alpha_slider_max,doNothing)\n",
    "cv2.createTrackbar('s','image',alpha_slider_min,alpha_slider_max,doNothing)\n",
    "cv2.createTrackbar('v','image',alpha_slider_min,alpha_slider_max,doNothing)\n",
    "\n",
    "while True:\n",
    "    k = cv2.waitKey(1) & 0xFF\n",
    "    if k == 8:\n",
    "        break\n",
    "    hValue = cv2.getTrackbarPos('h','image')\n",
    "    sValue = cv2.getTrackbarPos('s','image')\n",
    "    vValue = cv2.getTrackbarPos('v','image')\n",
    "\n",
    "    h,s,v = cv2.split(hsvImg)\n",
    "    h=h/180\n",
    "    s=s/255\n",
    "    v=v/255\n",
    "    \n",
    "    \n",
    "    h = np.clip(h+(hValue-50)/50,0,1.0)\n",
    "    h*=180\n",
    "    h = h.astype('uint8')\n",
    "    \n",
    "    s=np.clip(s+(sValue-50)/50,0,1.0)\n",
    "    s*=255\n",
    "    s = s.astype('uint8')\n",
    "    \n",
    "    v=np.clip(v+(vValue-50)/50,0,1.0)\n",
    "    v*=255\n",
    "    v = v.astype('uint8')\n",
    "    \n",
    "    \n",
    "    dImg = cv2.merge((h,s,v))\n",
    "    dImg = cv2.cvtColor(dImg,cv2.COLOR_HSV2BGR)\n",
    "    \n",
    "    cv2.imshow('image',dImg)\n",
    "\n",
    "cv2.destroyAllWindows()"
   ]
  },
  {
   "cell_type": "code",
   "execution_count": null,
   "metadata": {},
   "outputs": [],
   "source": []
  }
 ],
 "metadata": {
  "kernelspec": {
   "display_name": "Python 3",
   "language": "python",
   "name": "python3"
  },
  "language_info": {
   "codemirror_mode": {
    "name": "ipython",
    "version": 3
   },
   "file_extension": ".py",
   "mimetype": "text/x-python",
   "name": "python",
   "nbconvert_exporter": "python",
   "pygments_lexer": "ipython3",
   "version": "3.7.0"
  }
 },
 "nbformat": 4,
 "nbformat_minor": 2
}
