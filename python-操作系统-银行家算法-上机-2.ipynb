{
 "cells": [
  {
   "cell_type": "code",
   "execution_count": 2,
   "metadata": {
    "ExecuteTime": {
     "end_time": "2018-10-18T01:10:22.209583Z",
     "start_time": "2018-10-18T01:10:22.204597Z"
    }
   },
   "outputs": [],
   "source": [
    "import threading\n",
    "import random\n",
    "import queue\n",
    "import time"
   ]
  },
  {
   "cell_type": "code",
   "execution_count": 3,
   "metadata": {
    "ExecuteTime": {
     "end_time": "2018-10-18T01:10:22.543690Z",
     "start_time": "2018-10-18T01:10:22.539703Z"
    }
   },
   "outputs": [],
   "source": [
    "random.seed(12392348)"
   ]
  },
  {
   "cell_type": "code",
   "execution_count": 4,
   "metadata": {
    "ExecuteTime": {
     "end_time": "2018-10-18T01:10:24.546334Z",
     "start_time": "2018-10-18T01:10:24.543343Z"
    }
   },
   "outputs": [],
   "source": [
    "askq = queue.Queue()"
   ]
  },
  {
   "cell_type": "code",
   "execution_count": null,
   "metadata": {},
   "outputs": [],
   "source": [
    "class Banker:\n",
    "    def __init__(self,asks=[]):\n",
    "        self.resource = (100,100,100,100)\n",
    "        self.asks = asks\n",
    "    \n",
    "    def work(self):\n",
    "        def isEnough(t1,t2):\n",
    "            i = 0\n",
    "            l = len(t1)\n",
    "            while i<l:\n",
    "                if t2[i]>t1[i]:\n",
    "                    return False\n",
    "            return True\n",
    "        \n",
    "        def add(t1,t2):\n",
    "            i = 0\n",
    "            l = len(t1)\n",
    "            tmpList = []\n",
    "            while i<l:\n",
    "                tmpList.append(t1[i]+t2[i])\n",
    "            return tuple(tmpList)\n",
    "        \n",
    "        while asks:\n",
    "            for ask in asks:\n",
    "                if isEnough(self.resource,ask):\n",
    "                    self.resource = add(self.resource,ask)\n",
    "                \n",
    "            \n",
    "        \n",
    "        \n",
    "        \n",
    "        \n",
    "\n",
    "        \n",
    "        "
   ]
  },
  {
   "cell_type": "code",
   "execution_count": 21,
   "metadata": {
    "ExecuteTime": {
     "end_time": "2018-10-18T00:46:25.345008Z",
     "start_time": "2018-10-18T00:46:25.338990Z"
    }
   },
   "outputs": [],
   "source": [
    "class Producer:\n",
    "    def produce(self,i):\n",
    "        for tmpi in range(i):\n",
    "                rint = random.randint(0,256)\n",
    "                q.put((tmpi,rint))\n",
    "                print(f\"{(tmpi,rint)} produced\")\n",
    "                time.sleep(random.randint(0,3))\n",
    "                \n",
    "            "
   ]
  },
  {
   "cell_type": "code",
   "execution_count": 22,
   "metadata": {
    "ExecuteTime": {
     "end_time": "2018-10-18T00:46:25.964017Z",
     "start_time": "2018-10-18T00:46:25.958334Z"
    }
   },
   "outputs": [],
   "source": [
    "class Consumer:\n",
    "    def __init__(self,id):\n",
    "        self.id = id\n",
    "    def do_task(self):\n",
    "        for i in range(10):\n",
    "            need_resource = tuple(random.randint(0,10) for tmpi in range(4))\n",
    "            self.ask_resources(need_resource)\n",
    "            time.sleep(random.randint(0,3))\n",
    "            self.return_resources(need_resource)\n",
    "            \n",
    "            time.sleep(random.randint(3,5))\n",
    "            \n",
    "            \n",
    "    \n",
    "    def ask_resources(self,resource):\n",
    "        \n",
    "            "
   ]
  },
  {
   "cell_type": "code",
   "execution_count": 23,
   "metadata": {
    "ExecuteTime": {
     "end_time": "2018-10-18T00:46:26.757199Z",
     "start_time": "2018-10-18T00:46:26.753209Z"
    }
   },
   "outputs": [],
   "source": [
    "producer = Producer()\n",
    "consumer = Consumer()"
   ]
  },
  {
   "cell_type": "code",
   "execution_count": 24,
   "metadata": {
    "ExecuteTime": {
     "end_time": "2018-10-18T00:46:27.405497Z",
     "start_time": "2018-10-18T00:46:27.396487Z"
    }
   },
   "outputs": [
    {
     "name": "stdout",
     "output_type": "stream",
     "text": [
      "(0, 107) produced\n",
      "(0, 107) consumed\n",
      "(1, 168) produced(1, 168) consumed\n",
      "\n",
      "(2, 213) produced(2, 213) consumed\n",
      "\n",
      "(3, 84) produced\n",
      "(3, 84) consumed\n",
      "(4, 115) produced\n",
      "(5, 82) produced(4, 115) consumed\n",
      "(6, 245) produced\n",
      "(7, 102) produced\n",
      "(8, 102) produced\n",
      "\n",
      "(5, 82) consumed\n",
      "(6, 245) consumed\n",
      "(9, 12) produced\n",
      "(7, 102) consumed\n",
      "(8, 102) consumed\n",
      "(10, 93) produced\n",
      "(9, 12) consumed\n",
      "(11, 67) produced\n",
      "(10, 93) consumed\n",
      "(12, 252) produced\n",
      "(11, 67) consumed\n",
      "(12, 252) consumed\n",
      "(13, 8) produced(13, 8) consumed\n",
      "\n",
      "(14, 154) produced\n",
      "(15, 131) produced\n",
      "(16, 185) produced\n",
      "(14, 154) consumed\n",
      "(17, 205) produced\n",
      "(15, 131) consumed\n",
      "(16, 185) consumed\n",
      "(17, 205) consumed\n",
      "(18, 50) produced\n",
      "(18, 50) consumed(19, 129) produced\n",
      "\n",
      "(19, 129) consumed\n"
     ]
    }
   ],
   "source": [
    "p = threading.Thread(target=producer.produce,args=(20,))\n",
    "c = threading.Thread(target=consumer.consume,args=(20,))\n",
    "\n",
    "p.start()\n",
    "c.start()"
   ]
  },
  {
   "cell_type": "code",
   "execution_count": null,
   "metadata": {
    "ExecuteTime": {
     "start_time": "2018-10-18T00:40:53.643Z"
    }
   },
   "outputs": [],
   "source": [
    "# q.join()\n",
    "# c.join()"
   ]
  },
  {
   "cell_type": "code",
   "execution_count": null,
   "metadata": {},
   "outputs": [],
   "source": []
  }
 ],
 "metadata": {
  "kernelspec": {
   "display_name": "Python 3",
   "language": "python",
   "name": "python3"
  },
  "language_info": {
   "codemirror_mode": {
    "name": "ipython",
    "version": 3
   },
   "file_extension": ".py",
   "mimetype": "text/x-python",
   "name": "python",
   "nbconvert_exporter": "python",
   "pygments_lexer": "ipython3",
   "version": "3.7.0"
  }
 },
 "nbformat": 4,
 "nbformat_minor": 2
}
