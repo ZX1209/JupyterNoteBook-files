{
 "cells": [
  {
   "cell_type": "code",
   "execution_count": 22,
   "metadata": {
    "ExecuteTime": {
     "end_time": "2018-09-12T13:08:46.608857Z",
     "start_time": "2018-09-12T13:08:46.601914Z"
    }
   },
   "outputs": [],
   "source": [
    "# 导入\n",
    "import requests\n",
    "from bs4 import BeautifulSoup\n",
    "import time\n",
    "import random"
   ]
  },
  {
   "cell_type": "code",
   "execution_count": 23,
   "metadata": {
    "ExecuteTime": {
     "end_time": "2018-09-12T13:08:47.184713Z",
     "start_time": "2018-09-12T13:08:47.177272Z"
    }
   },
   "outputs": [],
   "source": [
    "author = '阿尔贝·加缪'"
   ]
  },
  {
   "cell_type": "code",
   "execution_count": 24,
   "metadata": {
    "ExecuteTime": {
     "end_time": "2018-09-12T13:08:47.946870Z",
     "start_time": "2018-09-12T13:08:47.775663Z"
    }
   },
   "outputs": [],
   "source": [
    "html = requests.get('https://www.juzimi.com/writer/%E9%98%BF%E5%B0%94%E8%B4%9D%C2%B7%E5%8A%A0%E7%BC%AA?page=67')"
   ]
  },
  {
   "cell_type": "code",
   "execution_count": 25,
   "metadata": {
    "ExecuteTime": {
     "end_time": "2018-09-12T13:08:51.451399Z",
     "start_time": "2018-09-12T13:08:51.354680Z"
    }
   },
   "outputs": [],
   "source": [
    "soup = BeautifulSoup(html.text)"
   ]
  },
  {
   "cell_type": "code",
   "execution_count": 29,
   "metadata": {
    "ExecuteTime": {
     "end_time": "2018-09-12T13:09:46.939115Z",
     "start_time": "2018-09-12T13:09:46.930684Z"
    }
   },
   "outputs": [
    {
     "data": {
      "text/plain": [
       "[<a class=\"xlistju\" href=\"/ju/5046182\" title=\"查看本句\">这是一种真正的“无所谓”的哲学</a>,\n",
       " <a class=\"xlistju\" href=\"/ju/4966271\" title=\"查看本句\">我渐渐想起每一件家具，然后是家具上的每一样东西，每一样东西上的全部细节和细节本身，像是锈痕，裂缝，或者有缺口的边角，还有颜色和纹路。</a>,\n",
       " <a class=\"xlistju\" href=\"/ju/4943537\" title=\"查看本句\">欲求统一的精神与让这种精神失望的现实之间的对立是永恒的。</a>,\n",
       " <a class=\"xlistju\" href=\"/ju/4979849\" title=\"查看本句\">然而，人在与困难较量时进行一些自我判断是件好事，他能单独做到的。</a>,\n",
       " <a class=\"xlistju\" href=\"/ju/4835107\" title=\"查看本句\">只要稍有点想象就可体会到一个演员的命运意味着什么。他会适时地塑造并表演他的角色。同时，也会及时把握这些角色。他经历的生活越多，他就越能与这些生活脱离。应该在舞台上或世界上死去的时间就要来到。他已经经历的一切就在眼前。他看得一清二楚。他感觉到这种遭遇中令人心碎而又难以代替的东西。他现在知道并且能够死去。因此有些养老院是专门为老年戏剧演员而建的。</a>,\n",
       " <a class=\"xlistju\" href=\"/ju/4834931\" title=\"查看本句\">人们在欢乐中准备着教训：达到醉意的顶峰之后，肉体就有了觉醒。</a>,\n",
       " <a class=\"xlistju\" href=\"/ju/4835168\" title=\"查看本句\">如果悲剧结束时，人物死去或受到惩罚，那就有必要指出，受到惩罚的不是罪恶本身，而是人物否定平衡和紧张的那种盲目性。当然，这里是指理想悲剧的氛围。</a>,\n",
       " <a class=\"xlistju\" href=\"/ju/4799763\" title=\"查看本句\">“我受伤了，没什么大不了。你的丈夫。”几天后他便死去。护士写道:“这样更好。否则他不是变成瞎子就是变成疯子。他非常勇敢。”</a>,\n",
       " <a class=\"xlistju\" href=\"/ju/4888943\" title=\"查看本句\">他们体验了一切囚徒和流放者的悲惨遭遇，那就是生存于无益的回忆之中。他们无时无刻不在留恋着过去，而感觉到的不过是惆怅。</a>,\n",
       " <a class=\"xlistju\" href=\"/ju/4834921\" title=\"查看本句\">为爱情而死，是最虚荣不过的。我们应该做的是活着。</a>]"
      ]
     },
     "execution_count": 29,
     "metadata": {},
     "output_type": "execute_result"
    }
   ],
   "source": [
    "soup.select('div.views-field-phpcode-1 a[title=\"查看本句\"]' )"
   ]
  },
  {
   "cell_type": "code",
   "execution_count": 30,
   "metadata": {
    "ExecuteTime": {
     "end_time": "2018-09-12T13:18:21.637654Z",
     "start_time": "2018-09-12T13:10:59.530467Z"
    }
   },
   "outputs": [
    {
     "name": "stdout",
     "output_type": "stream",
     "text": [
      "不要走在我后面，因为我可能不会引路；不要走在我前面，因为我可能不会跟随；请走在我的身边，做我的朋友。n front of me, I may not follow. Just walk beside me and be my friend.” \n",
      "一切伟大的行动和思想，都有一个微不足道的开始。\n",
      "我们很少信任比我们好的人，宁肯避免与他们来往。相反，我们常对与我们相似、和我们有着共同弱点的人吐露心迹。我们并不希望改掉弱点，只希望受到怜悯与鼓励。\n",
      "重要的不是治愈，而是带着病痛活下去。\n",
      "“一个人只要学会了回忆，就再不会孤独，哪怕只在世上生活一日，你也能毫无困难地凭回忆在囚牢中独处百年。”\n",
      "当对幸福的憧憬过于急切，那痛苦就在人的心灵深处升起\n",
      "一切特立独行的人格都意味着强大。\n",
      "当我听某个人说话听烦了，想要摆脱他时，就装出欣然同意的样子。\n",
      "对未来的真正慷慨，是把一切都献给现在。\n",
      "真正的救赎，并不是厮杀后的胜利，而是能在苦难之中找到生的力量和心的安宁。\n",
      "在隆冬，我终于知道，我身上有一个不可战胜的夏天。\n",
      "没有对生活绝望，就不会爱生活。ve of life without despair about life.\n",
      "我已经没有时间去对我不感兴趣的事情再产生兴趣。\n",
      "而我的存在却如此真实离如此遥远\n",
      "如果你继续去寻找幸福是由什么组成的，那你永远不会找到幸福。如果你一直在找人生的意义，你永远不会生活。You will never be happy if you continue to search for what happiness consists of. You will never live if you are looking for the meaning of life. - Albert Camus\n",
      "不被爱只是不走运，而不会爱是种不幸\n",
      "除了没用的肉体自杀和精神逃避，第三种自杀的态度是坚持奋斗，对抗人生的荒谬。\n",
      "这个世界充斥着谎言和奴性，孤独的荒草到处疯长。无论我们每个人有怎样的弱点，作家职业的高贵永远植根在两种艰难的介入中：拒绝谎言，反抗逼迫。\n",
      "世上的罪恶差不多总是由愚昧无知造成的。没有见识的善良愿望会同罪恶带来同样多的损害。人总是好的比坏的多，实际问题并不在这里。但人的无知程度却有高低的差别，这就是所谓美德和邪恶的分野，而最无可救药的邪恶是这样的一种愚昧无知：自认为什么都知道，于是乎就认为有权杀人。杀人凶犯的灵魂是盲目的，如果没有真知灼见，也就没有真正的善良和崇高的仁爱。\n",
      "日子，过起来当然就长，但是拖拖拉拉，日复一日，年复一年，最后就混淆成了一片。每个日子都丧失了自己的名字。对我来说，只有“昨天”与“明天”这样的字，才具有一定的意义。\n",
      "忧伤者有两种忧伤的理由，要么他们无知识，要么他们抱希望。\n",
      "人生在世，永远也不该演戏作假。\n",
      "我感到兴趣的是:为所爱而生,为所爱而死. living and dying for what one loves.\n",
      "死亡是我们无法摆脱的，每个人都有自己的死。归根结底，太阳还是温暖着我们的身骨。\n",
      "“现在我面对着这个充满了星光与默示的夜，第一次向这个冷漠的世界敞开了我的心扉。我体验到这个世界如此像我，如此有爱融洽，觉得自己过去曾经是幸福的，现在依然是幸福的。” 从某种角度上说，默尔索在死亡直逼的苦难面前“大悟”了，他回归自我，完成了和这个冷漠世界的圆融统一。他明白了这个世界虚无的本质。 他意识到自己之前一切的方法，态度都是对的，都是这个世界本来的方式。在苦难之后，他发现了自己。\n",
      "在光亮中，世界始终是我们最初和最后的爱\n",
      "没有什么命运不可以用藐视来克服。destin qui ne se surmonte par le mépris.\n",
      "真正严肃地哲学问题只有一个，那就是自杀。 There is but one truly serious philosophical problem and that is suicide.\n",
      "通常情况下，选择献身艺术的人，都曾自视与众不同。然而他很快会发现，自己的艺术、自己的与众不同，往往就扎根在与所有人的相似中。\n",
      "过分重视高尚行为，结果反而会变成对罪恶间接而有力的褒扬。因为那样做会让人猜想，高尚行为如此可贵，只因它寥若晨星，所以狠心和冷漠才是人类行为更经常的动力。\n",
      "矛盾就在此，人拒绝现实世界，但又不愿意脱离它。事实上，人们依恋这个世界，他们中的绝大多数都不愿意离开这个世界。他们远非要忘记这个世界，相反，他们为不能足够地拥有这个世界而痛苦。这些奇怪的世界公民，他们流亡在自己的祖国。除了在瞬间即逝的圆满时刻中，整个现实对他们来说都是不完善的。他们的行为躲开他们而进入其他行为中，回过来以意外的面孔来审视他们，并且像坦塔罗斯的水一样向着尚不为人知的河口流去。\n",
      "只要我能拥抱世界，那拥抱得笨拙又有什么关系\n",
      "多少人犯下罪行仅仅因为不能忍受邪恶！\n",
      "当人迷途时，充满活力也是浪费自己的时间。 那些要背离世界的人，随他们去吧。我不抱怨，因为我看着我诞生。\n",
      "很多事情别想的那么糟糕，毕竟，还有阳光来温暖我们的骨头。\n",
      "因此，我们并不希望改掉我们的弱点，也不希望变得更好，只是希望在我们的道路上受到怜悯和鼓励。\n",
      "我的灵魂与我之间的距离如此遥远 而我的存在却如此真实。eply at one and the same time so detached from myself and so present in the world.\n",
      "我的灵魂与我之间的距离如此遥远 而我的存在却如此真实。eply at one and the same time so detached from myself and so present in the world.\n",
      "爱，可燃烧，或存在，但不会两者并存。\n",
      "真正的生活是在撕裂内部出现的。生活，就是撕裂本身。\n",
      "40\n"
     ]
    }
   ],
   "source": [
    "count = 0\n",
    "for i in range(0,72):\n",
    "    time.sleep(random.randint(2,10))\n",
    "    response = requests.get('https://www.juzimi.com/writer/阿尔贝·加缪?page='+str(i))\n",
    "    \n",
    "    if response.status_code == 200:\n",
    "        html = response.text\n",
    "        soup = BeautifulSoup(html,features=\"html.parser\")\n",
    "        quotes = soup.select('div.views-field-phpcode-1 a[title=\"查看本句\"]')\n",
    "\n",
    "        for quote in quotes:\n",
    "            print(quote.text)\n",
    "            count+=1\n",
    "\n",
    "print(count)"
   ]
  },
  {
   "cell_type": "code",
   "execution_count": 14,
   "metadata": {
    "ExecuteTime": {
     "end_time": "2018-09-12T03:45:54.430422Z",
     "start_time": "2018-09-12T03:45:54.211538Z"
    }
   },
   "outputs": [
    {
     "data": {
      "text/plain": [
       "['__attrs__',\n",
       " '__bool__',\n",
       " '__class__',\n",
       " '__delattr__',\n",
       " '__dict__',\n",
       " '__dir__',\n",
       " '__doc__',\n",
       " '__enter__',\n",
       " '__eq__',\n",
       " '__exit__',\n",
       " '__format__',\n",
       " '__ge__',\n",
       " '__getattribute__',\n",
       " '__getstate__',\n",
       " '__gt__',\n",
       " '__hash__',\n",
       " '__init__',\n",
       " '__init_subclass__',\n",
       " '__iter__',\n",
       " '__le__',\n",
       " '__lt__',\n",
       " '__module__',\n",
       " '__ne__',\n",
       " '__new__',\n",
       " '__nonzero__',\n",
       " '__reduce__',\n",
       " '__reduce_ex__',\n",
       " '__repr__',\n",
       " '__setattr__',\n",
       " '__setstate__',\n",
       " '__sizeof__',\n",
       " '__str__',\n",
       " '__subclasshook__',\n",
       " '__weakref__',\n",
       " '_content',\n",
       " '_content_consumed',\n",
       " '_next',\n",
       " 'apparent_encoding',\n",
       " 'close',\n",
       " 'connection',\n",
       " 'content',\n",
       " 'cookies',\n",
       " 'elapsed',\n",
       " 'encoding',\n",
       " 'headers',\n",
       " 'history',\n",
       " 'is_permanent_redirect',\n",
       " 'is_redirect',\n",
       " 'iter_content',\n",
       " 'iter_lines',\n",
       " 'json',\n",
       " 'links',\n",
       " 'next',\n",
       " 'ok',\n",
       " 'raise_for_status',\n",
       " 'raw',\n",
       " 'reason',\n",
       " 'request',\n",
       " 'status_code',\n",
       " 'text',\n",
       " 'url']"
      ]
     },
     "execution_count": 14,
     "metadata": {},
     "output_type": "execute_result"
    }
   ],
   "source": [
    "html = requests.get('https://www.baidu.com')\n",
    "dir(html)"
   ]
  },
  {
   "cell_type": "code",
   "execution_count": null,
   "metadata": {},
   "outputs": [],
   "source": []
  }
 ],
 "metadata": {
  "kernelspec": {
   "display_name": "Python 3",
   "language": "python",
   "name": "python3"
  },
  "language_info": {
   "codemirror_mode": {
    "name": "ipython",
    "version": 3
   },
   "file_extension": ".py",
   "mimetype": "text/x-python",
   "name": "python",
   "nbconvert_exporter": "python",
   "pygments_lexer": "ipython3",
   "version": "3.7.0"
  }
 },
 "nbformat": 4,
 "nbformat_minor": 2
}
