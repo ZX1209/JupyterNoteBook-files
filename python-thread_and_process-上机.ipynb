{
 "cells": [
  {
   "cell_type": "code",
   "execution_count": 15,
   "metadata": {
    "ExecuteTime": {
     "end_time": "2018-09-13T01:05:10.189006Z",
     "start_time": "2018-09-13T01:05:10.178096Z"
    }
   },
   "outputs": [],
   "source": [
    "import threading as td\n",
    "import multiprocessing as mp\n",
    "import time\n",
    "import os"
   ]
  },
  {
   "cell_type": "code",
   "execution_count": 2,
   "metadata": {
    "ExecuteTime": {
     "end_time": "2018-09-13T00:47:48.834436Z",
     "start_time": "2018-09-13T00:47:48.824929Z"
    }
   },
   "outputs": [],
   "source": [
    "def printit(func):\n",
    "    def wrapper(*args,**kw):\n",
    "        print(func(*args,**kw))\n",
    "    return wrapper"
   ]
  },
  {
   "cell_type": "code",
   "execution_count": 16,
   "metadata": {
    "ExecuteTime": {
     "end_time": "2018-09-13T01:05:11.890174Z",
     "start_time": "2018-09-13T01:05:11.880258Z"
    }
   },
   "outputs": [],
   "source": [
    "# sample function\n",
    "def isPrimer(n):\n",
    "    print(td.current_thread().name,n,'in process')\n",
    "    i = 2\n",
    "    if n % 6 != 1 and n % 6 != 5:\n",
    "        return 0\n",
    "\n",
    "    while i <= n**(1/2):\n",
    "        if n%i == 0 :\n",
    "            return 0\n",
    "        i += 1\n",
    "    \n",
    "    return 1"
   ]
  },
  {
   "cell_type": "code",
   "execution_count": 6,
   "metadata": {
    "ExecuteTime": {
     "end_time": "2018-09-13T00:51:33.617898Z",
     "start_time": "2018-09-13T00:51:33.607486Z"
    }
   },
   "outputs": [],
   "source": [
    "def thread_test(a):\n",
    "    print(td.current_thread().name,' start!')\n",
    "    \n",
    "    time.sleep(5)\n",
    "    \n",
    "    print(td.current_thread().name,' args: ',str(a))\n",
    "    \n",
    "    time.sleep(5)\n",
    "    \n",
    "    print(td.current_thread().name,' end!')"
   ]
  },
  {
   "cell_type": "code",
   "execution_count": 17,
   "metadata": {
    "ExecuteTime": {
     "end_time": "2018-09-13T01:05:15.203741Z",
     "start_time": "2018-09-13T01:05:15.186942Z"
    }
   },
   "outputs": [],
   "source": [
    "def process_test(a):\n",
    "    print(os.getpid(),' start!')\n",
    "    \n",
    "    time.sleep(5)\n",
    "    \n",
    "    print(os.getpid(),' args: ',str(a))\n",
    "    \n",
    "    time.sleep(5)\n",
    "    \n",
    "    print(os.getpid().name,' end!')"
   ]
  },
  {
   "cell_type": "code",
   "execution_count": 8,
   "metadata": {
    "ExecuteTime": {
     "end_time": "2018-09-13T00:51:35.125511Z",
     "start_time": "2018-09-13T00:51:35.117541Z"
    }
   },
   "outputs": [],
   "source": [
    "threads = []\n",
    "processes = []"
   ]
  },
  {
   "cell_type": "code",
   "execution_count": null,
   "metadata": {
    "ExecuteTime": {
     "end_time": "2018-09-13T00:17:52.060680Z",
     "start_time": "2018-09-13T00:17:52.053152Z"
    }
   },
   "outputs": [],
   "source": []
  },
  {
   "cell_type": "code",
   "execution_count": 11,
   "metadata": {
    "ExecuteTime": {
     "end_time": "2018-09-13T00:52:37.575632Z",
     "start_time": "2018-09-13T00:52:27.412532Z"
    },
    "scrolled": true
   },
   "outputs": [
    {
     "name": "stdout",
     "output_type": "stream",
     "text": [
      "Thread-936  start!\n",
      "Thread-937Thread-938  start!\n",
      "  start!\n",
      "Thread-939  start!\n",
      "Thread-940  start!\n",
      "Thread-941  start!\n",
      "Thread-942Thread-943  start!\n",
      "  start!\n",
      "Thread-944  start!\n",
      "Thread-945  start!\n",
      "Thread-946 Thread-947 start! \n",
      " start!\n",
      "Thread-948  start!\n",
      "Thread-949Thread-950   start!\n",
      "Thread-951 start!  start!\n",
      "\n",
      "Thread-952  start!\n",
      "Thread-953  start!\n",
      "Thread-954  start!\n",
      "Thread-955  start!\n",
      "Thread-956 Thread-957  start!\n",
      " start!Thread-958\n",
      " Thread-959  start!\n",
      " start!\n",
      "Thread-960  start!\n",
      "Thread-961  start!\n",
      "Thread-962  start!\n",
      "Thread-963  start!\n",
      "Thread-964  start!\n",
      "Thread-965  start!\n",
      "Thread-936  args:  100\n",
      "Thread-938  args:  102\n",
      "Thread-937  args:  101\n",
      "Thread-939  args:  103\n",
      "Thread-940  args:  104\n",
      "Thread-941  args:  105\n",
      "Thread-943Thread-942  args:  107\n",
      "  args:  106\n",
      "Thread-944  args:  108\n",
      "Thread-945  args:  109\n",
      "Thread-947Thread-946  args:  111\n",
      "  args:  110\n",
      "Thread-948  args:  112\n",
      "Thread-950  args:  114\n",
      "Thread-951Thread-949  args:  115\n",
      "  args:  113\n",
      "Thread-952  args:  116\n",
      "Thread-953  args:  117\n",
      "Thread-954  args:  118\n",
      "Thread-955  args:  119\n",
      "Thread-957  args:  121\n",
      "Thread-956  args:  120\n",
      "Thread-959  args:  123\n",
      "Thread-958  args:  122\n",
      "Thread-960  args:  124\n",
      "Thread-961  args:  125\n",
      "Thread-962  args:  126\n",
      "Thread-963  args:  127\n",
      "Thread-964  args:  128\n",
      "Thread-965  args:  129\n",
      "Thread-936  end!\n",
      "Thread-938  end!\n",
      "Thread-937  end!\n",
      "Thread-939  end!\n",
      "Thread-940  end!\n",
      "Thread-941  end!\n",
      "Thread-942Thread-943  end!\n",
      "  end!\n",
      "Thread-944  end!\n",
      "Thread-945  end!\n",
      "Thread-947  end!\n",
      "Thread-946  end!\n",
      "Thread-948  end!\n",
      "Thread-950  end!\n",
      "Thread-951  end!\n",
      "Thread-949  end!\n",
      "Thread-952  end!\n",
      "Thread-953  end!\n",
      "Thread-954  end!\n",
      "Thread-955  end!\n",
      "Thread-957  end!\n",
      "Thread-956  end!\n",
      "Thread-959  end!\n",
      "Thread-958  end!\n",
      "Thread-960  end!\n",
      "Thread-961  end!\n",
      "Thread-962  end!\n",
      "Thread-963  end!\n",
      "Thread-964  end!\n",
      "Thread-965  end!\n"
     ]
    }
   ],
   "source": [
    "for i in range(100,130):\n",
    "    tmp = td.Thread(target=thread_test,args=(i,))\n",
    "    tmp.start()\n",
    "    threads.append(tmp)\n",
    "    \n",
    "for thread in threads:\n",
    "    thread.join()"
   ]
  },
  {
   "cell_type": "code",
   "execution_count": 19,
   "metadata": {
    "ExecuteTime": {
     "end_time": "2018-09-13T01:05:37.073149Z",
     "start_time": "2018-09-13T01:05:34.446069Z"
    }
   },
   "outputs": [],
   "source": [
    "for i in range(100,130):\n",
    "    tmp = mp.Process(target=process_test,args=(i,))\n",
    "    tmp.start()\n",
    "    processes.append(tmp)\n",
    "    \n",
    "for process in processes:\n",
    "    process.join()"
   ]
  },
  {
   "cell_type": "code",
   "execution_count": 20,
   "metadata": {
    "ExecuteTime": {
     "end_time": "2018-09-13T01:15:05.309898Z",
     "start_time": "2018-09-13T01:15:05.301465Z"
    }
   },
   "outputs": [],
   "source": [
    "def process_name_test(a):\n",
    "    print(mp.current_process().name,' start!')\n",
    "    \n",
    "    time.sleep(5)\n",
    "    \n",
    "    print(mp.current_process().name,' args: ',str(a))\n",
    "    \n",
    "    time.sleep(5)\n",
    "    \n",
    "    print(mp.current_process().name,' end!')"
   ]
  },
  {
   "cell_type": "code",
   "execution_count": 22,
   "metadata": {
    "ExecuteTime": {
     "end_time": "2018-09-13T01:20:41.473605Z",
     "start_time": "2018-09-13T01:20:41.465373Z"
    }
   },
   "outputs": [
    {
     "name": "stdout",
     "output_type": "stream",
     "text": [
      "['_Popen', '__class__', '__delattr__', '__dict__', '__dir__', '__doc__', '__eq__', '__format__', '__ge__', '__getattribute__', '__gt__', '__hash__', '__init__', '__init_subclass__', '__le__', '__lt__', '__module__', '__ne__', '__new__', '__reduce__', '__reduce_ex__', '__repr__', '__setattr__', '__sizeof__', '__slotnames__', '__str__', '__subclasshook__', '__weakref__', '_bootstrap', '_check_closed', '_start_method', 'authkey', 'close', 'daemon', 'exitcode', 'ident', 'is_alive', 'join', 'kill', 'name', 'pid', 'run', 'sentinel', 'start', 'terminate']\n"
     ]
    }
   ],
   "source": [
    "print(dir(mp.Process))"
   ]
  },
  {
   "cell_type": "code",
   "execution_count": null,
   "metadata": {},
   "outputs": [],
   "source": []
  }
 ],
 "metadata": {
  "kernelspec": {
   "display_name": "Python 3",
   "language": "python",
   "name": "python3"
  },
  "language_info": {
   "codemirror_mode": {
    "name": "ipython",
    "version": 3
   },
   "file_extension": ".py",
   "mimetype": "text/x-python",
   "name": "python",
   "nbconvert_exporter": "python",
   "pygments_lexer": "ipython3",
   "version": "3.7.0"
  }
 },
 "nbformat": 4,
 "nbformat_minor": 2
}
