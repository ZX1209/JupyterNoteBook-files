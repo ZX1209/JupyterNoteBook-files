{
 "cells": [
  {
   "cell_type": "code",
   "execution_count": 17,
   "metadata": {
    "ExecuteTime": {
     "end_time": "2018-10-16T12:17:31.958241Z",
     "start_time": "2018-10-16T12:17:31.953255Z"
    }
   },
   "outputs": [],
   "source": [
    "import os\n",
    "import cv2\n",
    "import matplotlib.pyplot as plt\n",
    "import numpy as np"
   ]
  },
  {
   "cell_type": "code",
   "execution_count": 18,
   "metadata": {
    "ExecuteTime": {
     "end_time": "2018-10-16T12:17:32.301324Z",
     "start_time": "2018-10-16T12:17:32.295343Z"
    }
   },
   "outputs": [
    {
     "data": {
      "text/plain": [
       "('C:\\\\Users\\\\14049\\\\WordAndStudy\\\\Projects\\\\学校\\\\大三上\\\\数字图像处理',\n",
       " None,\n",
       " 'C:\\\\Users\\\\14049\\\\WordAndStudy\\\\Projects\\\\学校\\\\大三上\\\\数字图像处理')"
      ]
     },
     "execution_count": 18,
     "metadata": {},
     "output_type": "execute_result"
    }
   ],
   "source": [
    "os.getcwd(),os.chdir(r'C:\\Users\\14049\\WordAndStudy\\Projects\\学校\\大三上\\数字图像处理'),os.getcwd()"
   ]
  },
  {
   "cell_type": "markdown",
   "metadata": {},
   "source": [
    "# 读入图像并显示"
   ]
  },
  {
   "cell_type": "code",
   "execution_count": 19,
   "metadata": {
    "ExecuteTime": {
     "end_time": "2018-10-16T12:17:35.320253Z",
     "start_time": "2018-10-16T12:17:33.759424Z"
    }
   },
   "outputs": [],
   "source": [
    "img = cv2.imread(r'./jpg/natasha-taylor-180782-unsplash.jpg')\n",
    "cv2.namedWindow('image',cv2.WINDOW_NORMAL)\n",
    "cv2.imshow('image',img)\n",
    "cv2.waitKey(0)\n",
    "cv2.destroyAllWindows()"
   ]
  },
  {
   "cell_type": "markdown",
   "metadata": {},
   "source": [
    "# 修改图像为灰度图并保存图像"
   ]
  },
  {
   "cell_type": "code",
   "execution_count": 20,
   "metadata": {
    "ExecuteTime": {
     "end_time": "2018-10-16T12:17:38.916633Z",
     "start_time": "2018-10-16T12:17:37.536352Z"
    }
   },
   "outputs": [],
   "source": [
    "gimg = cv2.cvtColor(img,cv2.COLOR_BGR2GRAY)\n",
    "cv2.namedWindow('image',cv2.WINDOW_NORMAL)\n",
    "cv2.imshow('image',gimg)\n",
    "cv2.waitKey(0)\n",
    "cv2.destroyAllWindows()"
   ]
  },
  {
   "cell_type": "code",
   "execution_count": 21,
   "metadata": {
    "ExecuteTime": {
     "end_time": "2018-10-16T12:17:40.240644Z",
     "start_time": "2018-10-16T12:17:40.001286Z"
    }
   },
   "outputs": [
    {
     "data": {
      "text/plain": [
       "True"
      ]
     },
     "execution_count": 21,
     "metadata": {},
     "output_type": "execute_result"
    }
   ],
   "source": [
    "cv2.imwrite('./jpg/gray-natasha-taylor-180782-unsplash.jpg',gimg)"
   ]
  },
  {
   "cell_type": "markdown",
   "metadata": {},
   "source": [
    "# 灰度图像 直方图与装箱直方图"
   ]
  },
  {
   "cell_type": "code",
   "execution_count": 22,
   "metadata": {
    "ExecuteTime": {
     "end_time": "2018-10-16T12:17:41.716697Z",
     "start_time": "2018-10-16T12:17:41.712708Z"
    }
   },
   "outputs": [],
   "source": [
    "# ：cv2.calcHist()\n",
    "# help(cv2.calcHist)\n",
    "# hist = cv2.calcHist([gimg],[0],None,[256],[0,256])\n",
    "# plt.plot(hist);plt.show()\n",
    "\n",
    "# plt.hist(gimg.ravel(),256,[0,256]); plt.show()"
   ]
  },
  {
   "cell_type": "code",
   "execution_count": 23,
   "metadata": {
    "ExecuteTime": {
     "end_time": "2018-10-16T12:17:43.162829Z",
     "start_time": "2018-10-16T12:17:42.655187Z"
    }
   },
   "outputs": [
    {
     "data": {
      "image/png": "[encoded data removed]",
      "text/plain": [
       "<Figure size 432x288 with 2 Axes>"
      ]
     },
     "metadata": {
      "needs_background": "light"
     },
     "output_type": "display_data"
    }
   ],
   "source": [
    "hist = cv2.calcHist([gimg],[0],None,[256],[0,256])\n",
    "hist.shape = 256\n",
    "histList = hist.tolist()\n",
    "\n",
    "histSize = 8\n",
    "tmpList = []\n",
    "for i in range(0,256,8):\n",
    "    tmpList.append(sum(histList[i:i+8]))\n",
    "\n",
    "index = np.arange(0,256)\n",
    "zindex = np.arange(0,256//8)\n",
    "\n",
    "plt.subplot(311)\n",
    "plt.bar(index,histList,width=1);\n",
    "plt.title(\"hist\")\n",
    "\n",
    "plt.subplot(313)\n",
    "plt.bar(zindex,tmpList,width=1);\n",
    "plt.title('zhist')\n",
    "\n",
    "plt.show()"
   ]
  },
  {
   "cell_type": "markdown",
   "metadata": {},
   "source": [
    "# 彩色图像 直方图与装箱直方图"
   ]
  },
  {
   "cell_type": "markdown",
   "metadata": {},
   "source": [
    "## 彩 直方图"
   ]
  },
  {
   "cell_type": "code",
   "execution_count": 24,
   "metadata": {
    "ExecuteTime": {
     "end_time": "2018-10-16T12:17:46.845857Z",
     "start_time": "2018-10-16T12:17:45.594205Z"
    }
   },
   "outputs": [
    {
     "data": {
      "image/png": "[encoded data removed]",
      "text/plain": [
       "<Figure size 432x288 with 1 Axes>"
      ]
     },
     "metadata": {
      "needs_background": "light"
     },
     "output_type": "display_data"
    }
   ],
   "source": [
    "color = ('b','g','r')\n",
    "for i,col in enumerate(color):\n",
    "    histr = cv2.calcHist([img],[i],None,[256],[0,256])\n",
    "    histr.shape = 256\n",
    "    plt.bar(index,histr,width=1,color=col);\n",
    "#     plt.plot(histr,color = col)\n",
    "    plt.xlim([0,256])\n",
    "plt.show()"
   ]
  },
  {
   "cell_type": "markdown",
   "metadata": {},
   "source": [
    "## 彩 装箱直方图"
   ]
  },
  {
   "cell_type": "code",
   "execution_count": 25,
   "metadata": {
    "ExecuteTime": {
     "end_time": "2018-10-16T12:17:48.460548Z",
     "start_time": "2018-10-16T12:17:48.210209Z"
    }
   },
   "outputs": [
    {
     "data": {
      "image/png": "[encoded data removed]",
      "text/plain": [
       "<Figure size 432x288 with 1 Axes>"
      ]
     },
     "metadata": {
      "needs_background": "light"
     },
     "output_type": "display_data"
    }
   ],
   "source": [
    "color = ('b','g','r')\n",
    "for i,col in enumerate(color):\n",
    "    histr = cv2.calcHist([img],[i],None,[256],[0,256])\n",
    "    histr.shape = 256\n",
    "    histList = histr.tolist()\n",
    "    \n",
    "    histSize = 8\n",
    "    tmpList = []\n",
    "    for i in range(0,256,8):\n",
    "        tmpList.append(sum(histList[i:i+8]))\n",
    "\n",
    "    plt.bar(zindex,tmpList,width=1,color=col);\n",
    "#     plt.plot(histr,color = col)\n",
    "    plt.xlim([0,256//histSize])\n",
    "plt.show()"
   ]
  },
  {
   "cell_type": "markdown",
   "metadata": {},
   "source": [
    "## 彩 累记直方图"
   ]
  },
  {
   "cell_type": "code",
   "execution_count": 26,
   "metadata": {
    "ExecuteTime": {
     "end_time": "2018-10-16T12:17:50.429273Z",
     "start_time": "2018-10-16T12:17:49.512728Z"
    }
   },
   "outputs": [
    {
     "data": {
      "image/png": "[encoded data removed]",
      "text/plain": [
       "<Figure size 432x288 with 1 Axes>"
      ]
     },
     "metadata": {
      "needs_background": "light"
     },
     "output_type": "display_data"
    }
   ],
   "source": [
    "color = ('b','g','r')\n",
    "for i,col in enumerate(color):\n",
    "    histr = cv2.calcHist([img],[i],None,[256],[0,256])\n",
    "    histr.shape = 256\n",
    "    histList = histr.tolist()\n",
    "    \n",
    "    for i in range(1,256):\n",
    "        histList[i] = histList[i] + histList[i-1]\n",
    "    \n",
    "    plt.bar(index,histList,width=1,color=col);\n",
    "#    plt.plot(histr,color = col)\n",
    "    plt.xlim([0,256])\n",
    "plt.show()"
   ]
  },
  {
   "cell_type": "code",
   "execution_count": null,
   "metadata": {},
   "outputs": [],
   "source": []
  },
  {
   "cell_type": "code",
   "execution_count": null,
   "metadata": {},
   "outputs": [],
   "source": []
  }
 ],
 "metadata": {
  "kernelspec": {
   "display_name": "Python 3",
   "language": "python",
   "name": "python3"
  },
  "language_info": {
   "codemirror_mode": {
    "name": "ipython",
    "version": 3
   },
   "file_extension": ".py",
   "mimetype": "text/x-python",
   "name": "python",
   "nbconvert_exporter": "python",
   "pygments_lexer": "ipython3",
   "version": "3.7.0"
  }
 },
 "nbformat": 4,
 "nbformat_minor": 2
}
