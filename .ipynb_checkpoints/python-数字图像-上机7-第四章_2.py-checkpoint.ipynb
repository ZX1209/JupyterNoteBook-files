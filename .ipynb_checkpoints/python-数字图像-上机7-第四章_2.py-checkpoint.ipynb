{
 "cells": [
  {
   "cell_type": "code",
   "execution_count": 1,
   "metadata": {
    "ExecuteTime": {
     "end_time": "2018-11-14T07:07:17.233936Z",
     "start_time": "2018-11-14T07:07:16.555641Z"
    }
   },
   "outputs": [],
   "source": [
    "import cv2\n",
    "import numpy as np\n",
    "import matplotlib.pyplot as plt\n",
    "import os"
   ]
  },
  {
   "cell_type": "code",
   "execution_count": 2,
   "metadata": {
    "ExecuteTime": {
     "end_time": "2018-11-14T07:07:17.531639Z",
     "start_time": "2018-11-14T07:07:17.236973Z"
    }
   },
   "outputs": [
    {
     "name": "stdout",
     "output_type": "stream",
     "text": [
      "Using matplotlib backend: TkAgg\n"
     ]
    }
   ],
   "source": [
    "%matplotlib"
   ]
  },
  {
   "cell_type": "code",
   "execution_count": 3,
   "metadata": {
    "ExecuteTime": {
     "end_time": "2018-11-14T07:07:18.335869Z",
     "start_time": "2018-11-14T07:07:18.310186Z"
    }
   },
   "outputs": [],
   "source": [
    "%config InlineBackend.figure_format = 'svg'"
   ]
  },
  {
   "cell_type": "code",
   "execution_count": 4,
   "metadata": {
    "ExecuteTime": {
     "end_time": "2018-11-14T07:07:18.408112Z",
     "start_time": "2018-11-14T07:07:18.399137Z"
    }
   },
   "outputs": [
    {
     "data": {
      "text/plain": [
       "('C:\\\\Users\\\\14049\\\\WordAndStudy\\\\Projects\\\\JupyterNoteBook',\n",
       " None,\n",
       " 'C:\\\\Users\\\\14049\\\\WordAndStudy\\\\Projects\\\\学校\\\\大三上\\\\数字图像处理\\\\数字图像处理实验材料\\\\测试图像')"
      ]
     },
     "execution_count": 4,
     "metadata": {},
     "output_type": "execute_result"
    }
   ],
   "source": [
    "os.getcwd(),os.chdir(r'C:\\Users\\14049\\WordAndStudy\\Projects\\学校\\大三上\\数字图像处理\\数字图像处理实验材料\\测试图像'),os.getcwd()"
   ]
  },
  {
   "cell_type": "code",
   "execution_count": 5,
   "metadata": {
    "ExecuteTime": {
     "end_time": "2018-11-14T07:07:28.480282Z",
     "start_time": "2018-11-14T07:07:28.470264Z"
    }
   },
   "outputs": [],
   "source": [
    "def cv2ShowImages(imgs):\n",
    "    for i,img in enumerate(imgs):\n",
    "        cv2.namedWindow(str(i),cv2.WINDOW_NORMAL)\n",
    "        cv2.imshow(str(i),img)\n",
    "    cv2.waitKey(0)\n",
    "    cv2.destroyAllWindows()"
   ]
  },
  {
   "cell_type": "markdown",
   "metadata": {},
   "source": [
    "# 灰度图像最大值和最小值滤波算法"
   ]
  },
  {
   "cell_type": "code",
   "execution_count": 6,
   "metadata": {
    "ExecuteTime": {
     "end_time": "2018-11-14T07:07:31.740880Z",
     "start_time": "2018-11-14T07:07:31.727916Z"
    }
   },
   "outputs": [],
   "source": [
    "img = cv2.imread(r'lena(slat pepper 0.05).bmp',0)"
   ]
  },
  {
   "cell_type": "code",
   "execution_count": 7,
   "metadata": {
    "ExecuteTime": {
     "end_time": "2018-11-14T07:07:32.765887Z",
     "start_time": "2018-11-14T07:07:32.754917Z"
    }
   },
   "outputs": [],
   "source": [
    "imgList = img.tolist()"
   ]
  },
  {
   "cell_type": "code",
   "execution_count": 8,
   "metadata": {
    "ExecuteTime": {
     "end_time": "2018-11-14T07:07:36.486507Z",
     "start_time": "2018-11-14T07:07:33.526730Z"
    }
   },
   "outputs": [],
   "source": [
    "rl = len(imgList)\n",
    "cl = len(imgList[0])\n",
    "dis = 3\n",
    "for ri in range(rl):\n",
    "    for ci in range(cl):\n",
    "        topBound = ri-dis if ri-dis>0 else 0\n",
    "        bottomBound = ri+dis if ri+dis<rl else rl-dis\n",
    "        leftBound = ci-dis if ci-dis>0 else 0\n",
    "        rightBound = ci+dis if ci+dis<cl else cl-dis\n",
    "        \n",
    "        imgList[ri][ci] = int(np.min(img[topBound:bottomBound+1,leftBound:rightBound+1]))\n",
    "\n",
    "# 数值类型!!!\n",
    "minImageArray = np.array(imgList,'uint8')"
   ]
  },
  {
   "cell_type": "code",
   "execution_count": 9,
   "metadata": {
    "ExecuteTime": {
     "end_time": "2018-11-14T07:07:40.171057Z",
     "start_time": "2018-11-14T07:07:36.541272Z"
    }
   },
   "outputs": [],
   "source": [
    "rl = len(imgList)\n",
    "cl = len(imgList[0])\n",
    "dis = 3\n",
    "for ri in range(rl):\n",
    "    for ci in range(cl):\n",
    "        topBound = ri-dis if ri-dis>0 else 0\n",
    "        bottomBound = ri+dis if ri+dis<rl else rl-dis\n",
    "        leftBound = ci-dis if ci-dis>0 else 0\n",
    "        rightBound = ci+dis if ci+dis<cl else cl-dis\n",
    "        \n",
    "        imgList[ri][ci] = int(np.max(img[topBound:bottomBound+1,leftBound:rightBound+1]))\n",
    "\n",
    "# 数值类型!!!\n",
    "maxImgArray = np.array(imgList,'uint8')"
   ]
  },
  {
   "cell_type": "code",
   "execution_count": 10,
   "metadata": {
    "ExecuteTime": {
     "end_time": "2018-11-14T07:08:10.279459Z",
     "start_time": "2018-11-14T07:07:40.227964Z"
    }
   },
   "outputs": [],
   "source": [
    "cv2ShowImages([img,minImageArray,maxImgArray])"
   ]
  },
  {
   "cell_type": "markdown",
   "metadata": {},
   "source": [
    "# 彩色图像 最大,最小值滤波"
   ]
  },
  {
   "cell_type": "code",
   "execution_count": 11,
   "metadata": {
    "ExecuteTime": {
     "end_time": "2018-11-14T07:08:12.088960Z",
     "start_time": "2018-11-14T07:08:12.067184Z"
    }
   },
   "outputs": [],
   "source": [
    "colorimg = cv2.imread(r'lena.jpg')"
   ]
  },
  {
   "cell_type": "code",
   "execution_count": 12,
   "metadata": {
    "ExecuteTime": {
     "end_time": "2018-11-14T07:08:12.710653Z",
     "start_time": "2018-11-14T07:08:12.697218Z"
    }
   },
   "outputs": [],
   "source": [
    "kernel  = np.ones((5,5),'uint8')\n",
    "dst1 = cv2.dilate(colorimg,kernel)"
   ]
  },
  {
   "cell_type": "code",
   "execution_count": 13,
   "metadata": {
    "ExecuteTime": {
     "end_time": "2018-11-14T07:08:13.588678Z",
     "start_time": "2018-11-14T07:08:13.572934Z"
    }
   },
   "outputs": [],
   "source": [
    "kernel  = np.ones((5,5),'uint8')\n",
    "dst2 = cv2.erode(colorimg,kernel)"
   ]
  },
  {
   "cell_type": "code",
   "execution_count": 14,
   "metadata": {
    "ExecuteTime": {
     "end_time": "2018-11-14T07:08:33.795746Z",
     "start_time": "2018-11-14T07:08:14.305444Z"
    }
   },
   "outputs": [],
   "source": [
    "cv2ShowImages([colorimg,dst1,dst2])"
   ]
  },
  {
   "cell_type": "markdown",
   "metadata": {},
   "source": [
    "# 滑块"
   ]
  },
  {
   "cell_type": "code",
   "execution_count": null,
   "metadata": {},
   "outputs": [],
   "source": [
    "\n",
    "# tmpimg = cv2.imread(r'lena.jpg')\n",
    "\n",
    "# cv2.namedWindow('image')\n",
    "\n",
    "# # 创建滑块,注册回调函数\n",
    "# cv2.createTrackbar('R','image',0,255,do_nothing)\n",
    "# cv2.createTrackbar('G','image',0,255,do_nothing)\n",
    "# cv2.createTrackbar('B','image',0,255,do_nothing)\n",
    "\n",
    "\n",
    "# r = cv2.getTrackbarPos('R','image')\n",
    "# g = cv2.getTrackbarPos('G','image')\n",
    "# b = cv2.getTrackbarPos('B','image')\n",
    "\n",
    "# while True:\n",
    "#     k = cv2.waitKey(1) & 0xFF\n",
    "#     if k == 8:\n",
    "#         break\n",
    "#     r = cv2.getTrackbarPos('R','image')\n",
    "#     g = cv2.getTrackbarPos('G','image')\n",
    "#     b = cv2.getTrackbarPos('B','image')\n",
    "    \n",
    "    \n",
    "\n",
    "        \n",
    "    \n",
    "\n",
    "\n",
    "# cv2.waitKey(0)\n",
    "# cv2.destroyAllWindows()"
   ]
  },
  {
   "cell_type": "code",
   "execution_count": 68,
   "metadata": {
    "ExecuteTime": {
     "end_time": "2018-11-12T07:12:31.165883Z",
     "start_time": "2018-11-12T07:12:31.156981Z"
    }
   },
   "outputs": [],
   "source": []
  },
  {
   "cell_type": "code",
   "execution_count": 69,
   "metadata": {
    "ExecuteTime": {
     "end_time": "2018-11-12T07:15:15.178710Z",
     "start_time": "2018-11-12T07:15:15.174498Z"
    }
   },
   "outputs": [],
   "source": []
  },
  {
   "cell_type": "code",
   "execution_count": null,
   "metadata": {},
   "outputs": [],
   "source": []
  }
 ],
 "metadata": {
  "kernelspec": {
   "display_name": "Python 3",
   "language": "python",
   "name": "python3"
  },
  "language_info": {
   "codemirror_mode": {
    "name": "ipython",
    "version": 3
   },
   "file_extension": ".py",
   "mimetype": "text/x-python",
   "name": "python",
   "nbconvert_exporter": "python",
   "pygments_lexer": "ipython3",
   "version": "3.7.0"
  }
 },
 "nbformat": 4,
 "nbformat_minor": 2
}
