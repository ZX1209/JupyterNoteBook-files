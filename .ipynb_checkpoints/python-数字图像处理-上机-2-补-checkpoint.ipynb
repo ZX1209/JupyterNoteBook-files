{
 "cells": [
  {
   "cell_type": "code",
   "execution_count": 1,
   "metadata": {
    "ExecuteTime": {
     "end_time": "2018-10-15T06:40:10.278047Z",
     "start_time": "2018-10-15T06:40:09.733332Z"
    }
   },
   "outputs": [],
   "source": [
    "import os\n",
    "import cv2\n",
    "import matplotlib.pyplot as plt\n",
    "import numpy as np"
   ]
  },
  {
   "cell_type": "code",
   "execution_count": 2,
   "metadata": {
    "ExecuteTime": {
     "end_time": "2018-10-15T06:40:10.533200Z",
     "start_time": "2018-10-15T06:40:10.526213Z"
    }
   },
   "outputs": [
    {
     "data": {
      "text/plain": [
       "('C:\\\\Users\\\\14049\\\\WordAndStudy\\\\Projects\\\\JupyterNoteBook',\n",
       " None,\n",
       " 'C:\\\\Users\\\\14049\\\\WordAndStudy\\\\Projects\\\\学校\\\\大三上\\\\数字图像处理')"
      ]
     },
     "execution_count": 2,
     "metadata": {},
     "output_type": "execute_result"
    }
   ],
   "source": [
    "os.getcwd(),os.chdir(r'C:\\Users\\14049\\WordAndStudy\\Projects\\学校\\大三上\\数字图像处理'),os.getcwd()"
   ]
  },
  {
   "cell_type": "markdown",
   "metadata": {},
   "source": [
    "# 读入灰度图像并计算累计直方图"
   ]
  },
  {
   "cell_type": "code",
   "execution_count": 3,
   "metadata": {
    "ExecuteTime": {
     "end_time": "2018-10-15T06:40:13.493447Z",
     "start_time": "2018-10-15T06:40:12.998599Z"
    }
   },
   "outputs": [],
   "source": [
    "gimg = cv2.imread(r'./jpg/gray-natasha-taylor-180782-unsplash.jpg')\n",
    "# opencv 计算直方图 \n",
    "hist = cv2.calcHist([gimg],[0],None,[256],[0,256])"
   ]
  },
  {
   "cell_type": "code",
   "execution_count": 4,
   "metadata": {
    "ExecuteTime": {
     "end_time": "2018-10-15T06:40:14.157503Z",
     "start_time": "2018-10-15T06:40:14.152514Z"
    },
    "scrolled": false
   },
   "outputs": [
    {
     "data": {
      "text/plain": [
       "(numpy.ndarray, numpy.ndarray, (256, 1))"
      ]
     },
     "execution_count": 4,
     "metadata": {},
     "output_type": "execute_result"
    }
   ],
   "source": [
    "type(gimg),type(hist),hist.shape"
   ]
  },
  {
   "cell_type": "code",
   "execution_count": 5,
   "metadata": {
    "ExecuteTime": {
     "end_time": "2018-10-15T06:40:16.459431Z",
     "start_time": "2018-10-15T06:40:16.452365Z"
    },
    "scrolled": true
   },
   "outputs": [
    {
     "data": {
      "text/plain": [
       "array([  311.,   320.,   475.,   762.,  1108.,  1701.,  2636.,  4825.,\n",
       "       14154., 70943.], dtype=float32)"
      ]
     },
     "execution_count": 5,
     "metadata": {},
     "output_type": "execute_result"
    }
   ],
   "source": [
    "hist.shape = 256\n",
    "hist[:10]"
   ]
  },
  {
   "cell_type": "code",
   "execution_count": 6,
   "metadata": {
    "ExecuteTime": {
     "end_time": "2018-10-15T06:40:17.601476Z",
     "start_time": "2018-10-15T06:40:17.596496Z"
    },
    "collapsed": true
   },
   "outputs": [
    {
     "data": {
      "text/plain": [
       "(list,\n",
       " [311.0,\n",
       "  320.0,\n",
       "  475.0,\n",
       "  762.0,\n",
       "  1108.0,\n",
       "  1701.0,\n",
       "  2636.0,\n",
       "  4825.0,\n",
       "  14154.0,\n",
       "  70943.0])"
      ]
     },
     "execution_count": 6,
     "metadata": {},
     "output_type": "execute_result"
    }
   ],
   "source": [
    "histList = hist.tolist()\n",
    "type(histList),histList[:10]"
   ]
  },
  {
   "cell_type": "code",
   "execution_count": 7,
   "metadata": {
    "ExecuteTime": {
     "end_time": "2018-10-15T06:40:19.298405Z",
     "start_time": "2018-10-15T06:40:19.292768Z"
    },
    "collapsed": true
   },
   "outputs": [
    {
     "data": {
      "text/plain": [
       "(array([  311.,   320.,   475.,   762.,  1108.,  1701.,  2636.,  4825.,\n",
       "        14154., 70943.], dtype=float32),\n",
       " [311.0,\n",
       "  631.0,\n",
       "  1106.0,\n",
       "  1868.0,\n",
       "  2976.0,\n",
       "  4677.0,\n",
       "  7313.0,\n",
       "  12138.0,\n",
       "  26292.0,\n",
       "  97235.0])"
      ]
     },
     "execution_count": 7,
     "metadata": {},
     "output_type": "execute_result"
    }
   ],
   "source": [
    "i = 1\n",
    "while i<256:\n",
    "    histList[i] = histList[i]+histList[i-1]\n",
    "    i+=1\n",
    "hist[:10],histList[:10]"
   ]
  },
  {
   "cell_type": "code",
   "execution_count": 21,
   "metadata": {
    "ExecuteTime": {
     "end_time": "2018-10-15T06:48:14.665088Z",
     "start_time": "2018-10-15T06:48:13.123452Z"
    }
   },
   "outputs": [
    {
     "data": {
      "image/png": "[encoded data removed]",
      "text/plain": [
       "<Figure size 432x288 with 2 Axes>"
      ]
     },
     "metadata": {
      "needs_background": "light"
     },
     "output_type": "display_data"
    }
   ],
   "source": [
    "index = np.arange(0,256)\n",
    "plt.subplot(311)\n",
    "plt.bar(index,hist,width=1);\n",
    "plt.title(\"hist\")\n",
    "plt.subplot(313)\n",
    "plt.bar(index,histList,width=1);\n",
    "plt.title('sumhist')\n",
    "plt.show()"
   ]
  },
  {
   "cell_type": "code",
   "execution_count": 22,
   "metadata": {
    "ExecuteTime": {
     "end_time": "2018-10-15T06:57:18.269851Z",
     "start_time": "2018-10-15T06:48:16.982848Z"
    }
   },
   "outputs": [],
   "source": [
    "cv2.namedWindow('image',cv2.WINDOW_NORMAL)\n",
    "cv2.imshow('image',gimg)\n",
    "cv2.waitKey(0)\n",
    "cv2.destroyAllWindows()"
   ]
  },
  {
   "cell_type": "markdown",
   "metadata": {},
   "source": [
    "# 装箱直方图"
   ]
  },
  {
   "cell_type": "code",
   "execution_count": 32,
   "metadata": {
    "ExecuteTime": {
     "end_time": "2018-10-15T07:03:10.343288Z",
     "start_time": "2018-10-15T07:03:10.339301Z"
    }
   },
   "outputs": [],
   "source": [
    "histList = hist.tolist() "
   ]
  },
  {
   "cell_type": "code",
   "execution_count": 37,
   "metadata": {
    "ExecuteTime": {
     "end_time": "2018-10-15T07:08:35.764585Z",
     "start_time": "2018-10-15T07:08:35.757605Z"
    },
    "collapsed": true
   },
   "outputs": [
    {
     "data": {
      "text/plain": [
       "([311.0,\n",
       "  320.0,\n",
       "  475.0,\n",
       "  762.0,\n",
       "  1108.0,\n",
       "  1701.0,\n",
       "  2636.0,\n",
       "  4825.0,\n",
       "  14154.0,\n",
       "  70943.0,\n",
       "  346592.0,\n",
       "  539657.0,\n",
       "  530757.0,\n",
       "  476113.0,\n",
       "  446749.0,\n",
       "  447606.0],\n",
       " [12138.0, 2872571.0],\n",
       " 256,\n",
       " 32)"
      ]
     },
     "execution_count": 37,
     "metadata": {},
     "output_type": "execute_result"
    }
   ],
   "source": [
    "histSize = 8\n",
    "tmpList = []\n",
    "\n",
    "for i in range(0,256,8):\n",
    "    tmpList.append(sum(histList[i:i+8]))\n",
    "\n",
    "histList[:16],tmpList[:2],len(histList),len(tmpList)"
   ]
  },
  {
   "cell_type": "markdown",
   "metadata": {},
   "source": [
    "# 装箱直方图"
   ]
  },
  {
   "cell_type": "code",
   "execution_count": 40,
   "metadata": {
    "ExecuteTime": {
     "end_time": "2018-10-15T07:09:23.775191Z",
     "start_time": "2018-10-15T07:09:22.606315Z"
    }
   },
   "outputs": [
    {
     "data": {
      "image/png": "[encoded data removed]",
      "text/plain": [
       "<Figure size 432x288 with 2 Axes>"
      ]
     },
     "metadata": {
      "needs_background": "light"
     },
     "output_type": "display_data"
    }
   ],
   "source": [
    "index = np.arange(0,256)\n",
    "zindex = np.arange(0,256//8)\n",
    "plt.subplot(311)\n",
    "plt.bar(index,histList,width=1);\n",
    "plt.title(\"hist\")\n",
    "plt.subplot(313)\n",
    "plt.bar(zindex,tmpList,width=1);\n",
    "plt.title('sumhist')\n",
    "plt.show()"
   ]
  },
  {
   "cell_type": "code",
   "execution_count": null,
   "metadata": {},
   "outputs": [],
   "source": []
  }
 ],
 "metadata": {
  "kernelspec": {
   "display_name": "Python 3",
   "language": "python",
   "name": "python3"
  },
  "language_info": {
   "codemirror_mode": {
    "name": "ipython",
    "version": 3
   },
   "file_extension": ".py",
   "mimetype": "text/x-python",
   "name": "python",
   "nbconvert_exporter": "python",
   "pygments_lexer": "ipython3",
   "version": "3.7.0"
  }
 },
 "nbformat": 4,
 "nbformat_minor": 2
}
