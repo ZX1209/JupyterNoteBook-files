{
 "cells": [
  {
   "cell_type": "code",
   "execution_count": 1,
   "metadata": {
    "ExecuteTime": {
     "end_time": "2018-10-18T08:52:26.333063Z",
     "start_time": "2018-10-18T08:52:25.813778Z"
    }
   },
   "outputs": [],
   "source": [
    "import matplotlib.pyplot as plt\n",
    "import numpy as np\n",
    "import os\n",
    "from PIL import Image"
   ]
  },
  {
   "cell_type": "code",
   "execution_count": 2,
   "metadata": {
    "ExecuteTime": {
     "end_time": "2018-10-18T08:52:26.870635Z",
     "start_time": "2018-10-18T08:52:26.861649Z"
    }
   },
   "outputs": [
    {
     "data": {
      "text/plain": [
       "('C:\\\\Users\\\\14049\\\\WordAndStudy\\\\Projects\\\\JupyterNoteBook',\n",
       " None,\n",
       " 'C:\\\\Users\\\\14049\\\\WordAndStudy\\\\Projects\\\\学校\\\\大三上\\\\数字图像处理')"
      ]
     },
     "execution_count": 2,
     "metadata": {},
     "output_type": "execute_result"
    }
   ],
   "source": [
    "os.getcwd(),os.chdir(r'C:\\Users\\14049\\WordAndStudy\\Projects\\学校\\大三上\\数字图像处理'),os.getcwd()"
   ]
  },
  {
   "cell_type": "markdown",
   "metadata": {},
   "source": [
    "# 读入 真彩色,二值,索引图像"
   ]
  },
  {
   "cell_type": "code",
   "execution_count": 3,
   "metadata": {
    "ExecuteTime": {
     "end_time": "2018-10-18T08:52:34.294789Z",
     "start_time": "2018-10-18T08:52:28.370614Z"
    }
   },
   "outputs": [],
   "source": [
    "jpgImage = Image.open(r'./jpg/olivier-guillard-176814-unsplash.jpg')\n",
    "jpgImage.show()\n",
    "\n",
    "oneImage = Image.open(r'./one-image.bmp')\n",
    "oneImage.show()\n",
    "\n",
    "grayImage = Image.open(r'./jpg/olivier-guillard-176814-unsplash-gray.jpg')\n",
    "grayImage.show()"
   ]
  },
  {
   "cell_type": "code",
   "execution_count": 4,
   "metadata": {
    "ExecuteTime": {
     "end_time": "2018-10-18T08:52:38.044400Z",
     "start_time": "2018-10-18T08:52:38.036764Z"
    }
   },
   "outputs": [
    {
     "data": {
      "text/plain": [
       "('JPEG',\n",
       " (5472, 3648),\n",
       " 'RGB',\n",
       " '|',\n",
       " 'BMP',\n",
       " (5472, 3648),\n",
       " '1',\n",
       " '|',\n",
       " 'JPEG',\n",
       " (5472, 3648),\n",
       " 'L')"
      ]
     },
     "execution_count": 4,
     "metadata": {},
     "output_type": "execute_result"
    }
   ],
   "source": [
    "jpgImage.format,jpgImage.size,jpgImage.mode,'|',oneImage.format,oneImage.size,oneImage.mode,'|',grayImage.format,grayImage.size,grayImage.mode"
   ]
  },
  {
   "cell_type": "markdown",
   "metadata": {},
   "source": [
    "# 格式转变"
   ]
  },
  {
   "cell_type": "code",
   "execution_count": 5,
   "metadata": {
    "ExecuteTime": {
     "end_time": "2018-10-18T08:52:48.042006Z",
     "start_time": "2018-10-18T08:52:44.373816Z"
    }
   },
   "outputs": [
    {
     "data": {
      "text/plain": [
       "(None, (5472, 3648), '1')"
      ]
     },
     "execution_count": 5,
     "metadata": {},
     "output_type": "execute_result"
    }
   ],
   "source": [
    "tmpone = jpgImage.convert('1')\n",
    "tmpone.show()\n",
    "tmpone.format,oneImage.size,oneImage.mode,"
   ]
  },
  {
   "cell_type": "markdown",
   "metadata": {},
   "source": [
    "# 保存"
   ]
  },
  {
   "cell_type": "code",
   "execution_count": 6,
   "metadata": {
    "ExecuteTime": {
     "end_time": "2018-10-18T08:52:50.888630Z",
     "start_time": "2018-10-18T08:52:50.836532Z"
    }
   },
   "outputs": [],
   "source": [
    "tmpone.save('one-image-tmp.bmp')"
   ]
  }
 ],
 "metadata": {
  "kernelspec": {
   "display_name": "Python 3",
   "language": "python",
   "name": "python3"
  },
  "language_info": {
   "codemirror_mode": {
    "name": "ipython",
    "version": 3
   },
   "file_extension": ".py",
   "mimetype": "text/x-python",
   "name": "python",
   "nbconvert_exporter": "python",
   "pygments_lexer": "ipython3",
   "version": "3.7.0"
  }
 },
 "nbformat": 4,
 "nbformat_minor": 2
}
