{
 "cells": [
  {
   "cell_type": "code",
   "execution_count": 1,
   "metadata": {
    "ExecuteTime": {
     "end_time": "2018-09-12T02:17:20.787790Z",
     "start_time": "2018-09-12T02:17:20.723698Z"
    }
   },
   "outputs": [
    {
     "data": {
      "text/plain": [
       "'\\n<body style=\"margin-bottom: 60px;\">\\n<div class=\"quote\" style=\"padding: 10px;margin-bottom: 30px;border: 1px solid #333333;border-radius: 5px;box-shadow: 2px 2px 3px #333333;\"itemscope=\"\" itemtype=\"http://schema.org/CreativeWork\">\\n<span class=\"text\" itemprop=\"text\">\\ntest quote\\n</span>\\n<span>by \\n<small class=\"author\" style=\"font-weight: bold;color: #3677E8;\"itemprop=\"author\">\\ntest author\\n</small>\\n</span>\\n</div>\\n</body>\\n'"
      ]
     },
     "execution_count": 1,
     "metadata": {},
     "output_type": "execute_result"
    }
   ],
   "source": [
    "# python-template-lab\n",
    "from string import Template\n",
    "\n",
    "# mailto:list[str]\n",
    "\n",
    "quoteTemplate = \"\"\"\n",
    "<body style=\"margin-bottom: 60px;\">\n",
    "<div class=\"quote\" style=\"padding: 10px;margin-bottom: 30px;border: 1px solid #333333;border-radius: 5px;box-shadow: 2px 2px 3px #333333;\"itemscope=\"\" itemtype=\"http://schema.org/CreativeWork\">\n",
    "<span class=\"text\" itemprop=\"text\">\n",
    "$quote\n",
    "</span>\n",
    "<span>by \n",
    "<small class=\"author\" style=\"font-weight: bold;color: #3677E8;\"itemprop=\"author\">\n",
    "$author\n",
    "</small>\n",
    "</span>\n",
    "</div>\n",
    "</body>\n",
    "\"\"\"\n",
    "\n",
    "s = Template(quoteTemplate)\n",
    "s.substitute(quote='test quote',author='test author')"
   ]
  },
  {
   "cell_type": "code",
   "execution_count": 2,
   "metadata": {
    "ExecuteTime": {
     "end_time": "2018-09-12T02:17:29.145395Z",
     "start_time": "2018-09-12T02:17:29.128037Z"
    }
   },
   "outputs": [
    {
     "data": {
      "text/plain": [
       "string.Template"
      ]
     },
     "execution_count": 2,
     "metadata": {},
     "output_type": "execute_result"
    }
   ],
   "source": [
    "type(s)"
   ]
  },
  {
   "cell_type": "code",
   "execution_count": 3,
   "metadata": {
    "ExecuteTime": {
     "end_time": "2018-09-12T02:17:32.237802Z",
     "start_time": "2018-09-12T02:17:32.228378Z"
    }
   },
   "outputs": [
    {
     "data": {
      "text/plain": [
       "['__class__',\n",
       " '__delattr__',\n",
       " '__dict__',\n",
       " '__dir__',\n",
       " '__doc__',\n",
       " '__eq__',\n",
       " '__format__',\n",
       " '__ge__',\n",
       " '__getattribute__',\n",
       " '__gt__',\n",
       " '__hash__',\n",
       " '__init__',\n",
       " '__init_subclass__',\n",
       " '__le__',\n",
       " '__lt__',\n",
       " '__module__',\n",
       " '__ne__',\n",
       " '__new__',\n",
       " '__reduce__',\n",
       " '__reduce_ex__',\n",
       " '__repr__',\n",
       " '__setattr__',\n",
       " '__sizeof__',\n",
       " '__str__',\n",
       " '__subclasshook__',\n",
       " '__weakref__',\n",
       " '_invalid',\n",
       " 'braceidpattern',\n",
       " 'delimiter',\n",
       " 'flags',\n",
       " 'idpattern',\n",
       " 'pattern',\n",
       " 'safe_substitute',\n",
       " 'substitute',\n",
       " 'template']"
      ]
     },
     "execution_count": 3,
     "metadata": {},
     "output_type": "execute_result"
    }
   ],
   "source": [
    "dir(s)"
   ]
  },
  {
   "cell_type": "code",
   "execution_count": 7,
   "metadata": {
    "ExecuteTime": {
     "end_time": "2018-09-12T02:19:40.108010Z",
     "start_time": "2018-09-12T02:19:40.097597Z"
    }
   },
   "outputs": [],
   "source": [
    "# 一次性输出??\n",
    "subsits = s.substitute(quote='test quote',author='test author')"
   ]
  },
  {
   "cell_type": "code",
   "execution_count": null,
   "metadata": {},
   "outputs": [],
   "source": []
  }
 ],
 "metadata": {
  "kernelspec": {
   "display_name": "Python 3",
   "language": "python",
   "name": "python3"
  },
  "language_info": {
   "codemirror_mode": {
    "name": "ipython",
    "version": 3
   },
   "file_extension": ".py",
   "mimetype": "text/x-python",
   "name": "python",
   "nbconvert_exporter": "python",
   "pygments_lexer": "ipython3",
   "version": "3.7.0"
  }
 },
 "nbformat": 4,
 "nbformat_minor": 2
}
