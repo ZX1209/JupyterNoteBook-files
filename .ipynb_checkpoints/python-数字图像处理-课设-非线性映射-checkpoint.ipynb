{
 "cells": [
  {
   "cell_type": "code",
   "execution_count": 1,
   "metadata": {
    "ExecuteTime": {
     "end_time": "2018-12-17T02:08:13.160100Z",
     "start_time": "2018-12-17T02:08:12.846824Z"
    }
   },
   "outputs": [],
   "source": [
    "import cv2\n",
    "import numpy as np\n",
    "import matplotlib.pyplot as plt\n",
    "import os"
   ]
  },
  {
   "cell_type": "code",
   "execution_count": 2,
   "metadata": {
    "ExecuteTime": {
     "end_time": "2018-12-17T02:08:13.660225Z",
     "start_time": "2018-12-17T02:08:13.605372Z"
    }
   },
   "outputs": [
    {
     "name": "stdout",
     "output_type": "stream",
     "text": [
      "Using matplotlib backend: TkAgg\n"
     ]
    }
   ],
   "source": [
    "%matplotlib"
   ]
  },
  {
   "cell_type": "code",
   "execution_count": 3,
   "metadata": {
    "ExecuteTime": {
     "end_time": "2018-12-17T02:08:14.289678Z",
     "start_time": "2018-12-17T02:08:14.275683Z"
    }
   },
   "outputs": [],
   "source": [
    "%config InlineBackend.figure_format = 'svg'"
   ]
  },
  {
   "cell_type": "code",
   "execution_count": 4,
   "metadata": {
    "ExecuteTime": {
     "end_time": "2018-12-17T02:08:14.907925Z",
     "start_time": "2018-12-17T02:08:14.896957Z"
    }
   },
   "outputs": [
    {
     "data": {
      "text/plain": [
       "('C:\\\\Users\\\\14049\\\\WordAndStudy\\\\Projects\\\\JupyterNoteBook',\n",
       " None,\n",
       " 'C:\\\\Users\\\\14049\\\\WordAndStudy\\\\Projects\\\\学校\\\\大三上\\\\数字图像处理\\\\课设\\\\素材')"
      ]
     },
     "execution_count": 4,
     "metadata": {},
     "output_type": "execute_result"
    }
   ],
   "source": [
    "os.getcwd(),os.chdir(r'C:\\Users\\14049\\WordAndStudy\\Projects\\学校\\大三上\\数字图像处理\\课设\\素材'),os.getcwd()"
   ]
  },
  {
   "cell_type": "code",
   "execution_count": 5,
   "metadata": {
    "ExecuteTime": {
     "end_time": "2018-12-17T02:08:15.718813Z",
     "start_time": "2018-12-17T02:08:15.715790Z"
    }
   },
   "outputs": [],
   "source": [
    "def cv2ShowImages(imgs):\n",
    "    for i,img in enumerate(imgs):\n",
    "        cv2.namedWindow(str(i),cv2.WINDOW_NORMAL)\n",
    "        cv2.imshow(str(i),img)\n",
    "    cv2.waitKey(0)\n",
    "    cv2.destroyAllWindows()"
   ]
  },
  {
   "cell_type": "markdown",
   "metadata": {},
   "source": [
    "# 扭曲变换"
   ]
  },
  {
   "cell_type": "code",
   "execution_count": 20,
   "metadata": {
    "ExecuteTime": {
     "end_time": "2018-12-17T02:25:09.320990Z",
     "start_time": "2018-12-17T02:25:09.314009Z"
    }
   },
   "outputs": [],
   "source": [
    "img = cv2.imread(r'FLAG_B24.BMP')"
   ]
  },
  {
   "cell_type": "code",
   "execution_count": 21,
   "metadata": {
    "ExecuteTime": {
     "end_time": "2018-12-17T02:25:11.521018Z",
     "start_time": "2018-12-17T02:25:09.826638Z"
    }
   },
   "outputs": [],
   "source": [
    "cv2ShowImages([img])"
   ]
  },
  {
   "cell_type": "code",
   "execution_count": 22,
   "metadata": {
    "ExecuteTime": {
     "end_time": "2018-12-17T02:25:13.621408Z",
     "start_time": "2018-12-17T02:25:13.616424Z"
    }
   },
   "outputs": [],
   "source": [
    "rows,cols,channels = img.shape"
   ]
  },
  {
   "cell_type": "code",
   "execution_count": 45,
   "metadata": {
    "ExecuteTime": {
     "end_time": "2018-12-17T03:04:44.911140Z",
     "start_time": "2018-12-17T03:04:44.723624Z"
    }
   },
   "outputs": [],
   "source": [
    "img_x = np.zeros((rows,cols),np.float32)\n",
    "img_y = np.zeros((rows,cols),np.float32)\n",
    "\n",
    "xc = cols//2\n",
    "yc = rows//2\n",
    "alpha = 1\n",
    "rmax = (xc**2+yc**2)**(0.5)\n",
    "# 坐标映射\n",
    "for ty in range(rows):\n",
    "    for tx in range(cols):\n",
    "        dx = tx-xc\n",
    "        dy = ty-yc\n",
    "        r = (dx**2+dy**2)**(0.5)\n",
    "        beta = np.arctan2(dy,dx)+alpha*((rmax-r)/rmax)\n",
    "        img_x[ty,tx] = xc+r*np.cos(beta) if r<=rmax else tx\n",
    "        img_y[ty,tx] = yc+r*np.sin(beta) if r<=rmax else ty\n",
    "        \n",
    "\n",
    "dst = cv2.remap(img,img_x,img_y,cv2.INTER_LINEAR)"
   ]
  },
  {
   "cell_type": "code",
   "execution_count": 46,
   "metadata": {
    "ExecuteTime": {
     "end_time": "2018-12-17T03:04:51.206565Z",
     "start_time": "2018-12-17T03:04:45.415348Z"
    }
   },
   "outputs": [],
   "source": [
    "cv2ShowImages([img,dst])"
   ]
  },
  {
   "cell_type": "markdown",
   "metadata": {},
   "source": [
    "# 波动变换 "
   ]
  },
  {
   "cell_type": "code",
   "execution_count": 49,
   "metadata": {
    "ExecuteTime": {
     "end_time": "2018-12-17T03:06:34.617648Z",
     "start_time": "2018-12-17T03:06:34.610664Z"
    }
   },
   "outputs": [],
   "source": [
    "rows,cols,channels = img.shape"
   ]
  },
  {
   "cell_type": "code",
   "execution_count": 63,
   "metadata": {
    "ExecuteTime": {
     "end_time": "2018-12-17T03:10:13.989745Z",
     "start_time": "2018-12-17T03:10:13.886562Z"
    }
   },
   "outputs": [],
   "source": [
    "img_x = np.zeros((rows,cols),np.float32)\n",
    "img_y = np.zeros((rows,cols),np.float32)\n",
    "\n",
    "ax = 3\n",
    "ay =  3\n",
    "fx =  50\n",
    "fy =  50\n",
    "\n",
    "# 坐标映射\n",
    "for ty in range(rows):\n",
    "    for tx in range(cols):\n",
    "        img_x[ty,tx] = tx + ax*np.sin((2*np.pi*ty)/fx)\n",
    "        img_y[ty,tx] = ty + ay*np.sin((2*np.pi*tx)/fy)\n",
    "        \n",
    "dst = cv2.remap(img,img_x,img_y,cv2.INTER_LINEAR)"
   ]
  },
  {
   "cell_type": "code",
   "execution_count": 64,
   "metadata": {
    "ExecuteTime": {
     "end_time": "2018-12-17T03:10:19.518827Z",
     "start_time": "2018-12-17T03:10:14.896930Z"
    }
   },
   "outputs": [],
   "source": [
    "cv2ShowImages([img,dst])"
   ]
  },
  {
   "cell_type": "markdown",
   "metadata": {},
   "source": [
    "# 球形变换"
   ]
  },
  {
   "cell_type": "code",
   "execution_count": 65,
   "metadata": {
    "ExecuteTime": {
     "end_time": "2018-12-17T03:10:41.014109Z",
     "start_time": "2018-12-17T03:10:41.010121Z"
    }
   },
   "outputs": [],
   "source": [
    "rows,cols,channels = img.shape"
   ]
  },
  {
   "cell_type": "code",
   "execution_count": 122,
   "metadata": {
    "ExecuteTime": {
     "end_time": "2018-12-17T03:25:36.575899Z",
     "start_time": "2018-12-17T03:25:36.470479Z"
    }
   },
   "outputs": [],
   "source": [
    "img_x = np.zeros((rows,cols),np.float32)\n",
    "img_y = np.zeros((rows,cols),np.float32)\n",
    "\n",
    "\n",
    "p = 5\n",
    "xc = cols//2\n",
    "yc = rows//2\n",
    "# rmax = (xc**2+yc**2)**(0.5)\n",
    "rmax = 10\n",
    "\n",
    "# 坐标映射\n",
    "for ty in range(rows):\n",
    "    for tx in range(cols):\n",
    "        dx = tx-xc\n",
    "        dy = ty-yc\n",
    "        r = (dx**2+dy**2)**(0.5)\n",
    "        z = (rmax**2-r**2)**(0.5)\n",
    "        \n",
    "        if r<rmax:\n",
    "            betax = (1-1/p)*np.arcsin(dx/((dx**2+z**2)**(0.5)))\n",
    "            betay = (1-1/p)*np.arcsin(dy/((dy**2+z**2)**(0.5)))\n",
    "\n",
    "            img_y[ty,tx] = ty - z*np.tan(betay)\n",
    "            img_x[ty,tx] = tx - z*np.tan(betax)\n",
    "        else:\n",
    "            img_y[ty,tx] = ty \n",
    "            img_x[ty,tx] = tx\n",
    "            \n",
    "        \n",
    "        \n",
    "\n",
    "        \n",
    "dst = cv2.remap(img,img_x,img_y,cv2.INTER_LINEAR)"
   ]
  },
  {
   "cell_type": "code",
   "execution_count": 123,
   "metadata": {
    "ExecuteTime": {
     "end_time": "2018-12-17T03:25:38.361093Z",
     "start_time": "2018-12-17T03:25:36.981739Z"
    }
   },
   "outputs": [],
   "source": [
    "cv2ShowImages([img,dst])"
   ]
  },
  {
   "cell_type": "markdown",
   "metadata": {},
   "source": [
    "# 效率改进"
   ]
  },
  {
   "cell_type": "code",
   "execution_count": 129,
   "metadata": {
    "ExecuteTime": {
     "end_time": "2018-12-17T06:25:45.893219Z",
     "start_time": "2018-12-17T06:25:45.881198Z"
    }
   },
   "outputs": [
    {
     "name": "stderr",
     "output_type": "stream",
     "text": [
      "c:\\python37\\lib\\site-packages\\ipykernel_launcher.py:19: RuntimeWarning: invalid value encountered in sqrt\n",
      "c:\\python37\\lib\\site-packages\\ipykernel_launcher.py:22: RuntimeWarning: invalid value encountered in true_divide\n",
      "c:\\python37\\lib\\site-packages\\ipykernel_launcher.py:23: RuntimeWarning: invalid value encountered in true_divide\n"
     ]
    }
   ],
   "source": [
    "img_x = np.zeros((rows,cols),np.float32)\n",
    "img_y = np.zeros((rows,cols),np.float32)\n",
    "\n",
    "xr = np.arange(cols)\n",
    "yr = np.arange(rows)\n",
    "\n",
    "tx ,ty = np.meshgrid(xr,yr)\n",
    "\n",
    "p = 5\n",
    "xc = cols//2\n",
    "yc = rows//2\n",
    "# rmax = (xc**2+yc**2)**(0.5)\n",
    "rmax = 10\n",
    "\n",
    "# 坐标映射\n",
    "dx = tx-xc\n",
    "dy = ty-yc\n",
    "r = (dx**2+dy**2)**(0.5)\n",
    "z = (rmax**2-r**2)**(0.5)\n",
    "\n",
    "\n",
    "betax = (1-1/p)*np.arcsin(dx/((dx**2+z**2)**(0.5)))\n",
    "betay = (1-1/p)*np.arcsin(dy/((dy**2+z**2)**(0.5)))\n",
    "\n",
    "\n",
    "img_y = ty -np.nan_to_num( z*np.tan(betay))\n",
    "img_x = tx -np.nan_to_num(z*np.tan(betax))\n",
    "\n",
    "dst = cv2.remap(img,img_x.astype('float32'),img_y.astype('float32'),cv2.INTER_LINEAR)"
   ]
  },
  {
   "cell_type": "code",
   "execution_count": 130,
   "metadata": {
    "ExecuteTime": {
     "end_time": "2018-12-17T06:25:49.664064Z",
     "start_time": "2018-12-17T06:25:47.958669Z"
    }
   },
   "outputs": [],
   "source": [
    "cv2ShowImages([img,dst])"
   ]
  },
  {
   "cell_type": "code",
   "execution_count": null,
   "metadata": {},
   "outputs": [],
   "source": []
  }
 ],
 "metadata": {
  "kernelspec": {
   "display_name": "Python 3",
   "language": "python",
   "name": "python3"
  },
  "language_info": {
   "codemirror_mode": {
    "name": "ipython",
    "version": 3
   },
   "file_extension": ".py",
   "mimetype": "text/x-python",
   "name": "python",
   "nbconvert_exporter": "python",
   "pygments_lexer": "ipython3",
   "version": "3.7.0"
  }
 },
 "nbformat": 4,
 "nbformat_minor": 2
}
