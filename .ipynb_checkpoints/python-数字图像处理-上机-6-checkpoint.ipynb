{
 "cells": [
  {
   "cell_type": "code",
   "execution_count": 1,
   "metadata": {
    "ExecuteTime": {
     "end_time": "2018-11-14T07:04:00.582975Z",
     "start_time": "2018-11-14T07:03:55.784734Z"
    }
   },
   "outputs": [],
   "source": [
    "import cv2\n",
    "import numpy as np\n",
    "import matplotlib.pyplot as plt\n",
    "import os"
   ]
  },
  {
   "cell_type": "code",
   "execution_count": 2,
   "metadata": {
    "ExecuteTime": {
     "end_time": "2018-11-14T07:04:00.606913Z",
     "start_time": "2018-11-14T07:04:00.589967Z"
    }
   },
   "outputs": [
    {
     "data": {
      "text/plain": [
       "('C:\\\\Users\\\\14049\\\\WordAndStudy\\\\Projects\\\\JupyterNoteBook',\n",
       " None,\n",
       " 'C:\\\\Users\\\\14049\\\\WordAndStudy\\\\Projects\\\\学校\\\\大三上\\\\数字图像处理\\\\数字图像处理实验材料\\\\测试图像')"
      ]
     },
     "execution_count": 2,
     "metadata": {},
     "output_type": "execute_result"
    }
   ],
   "source": [
    "os.getcwd(),os.chdir(r'C:\\Users\\14049\\WordAndStudy\\Projects\\学校\\大三上\\数字图像处理\\数字图像处理实验材料\\测试图像'),os.getcwd()"
   ]
  },
  {
   "cell_type": "code",
   "execution_count": 3,
   "metadata": {
    "ExecuteTime": {
     "end_time": "2018-11-14T07:04:00.841665Z",
     "start_time": "2018-11-14T07:04:00.612897Z"
    }
   },
   "outputs": [],
   "source": [
    "lenaImage = cv2.imread(r'lena.jpg')"
   ]
  },
  {
   "cell_type": "code",
   "execution_count": 4,
   "metadata": {
    "ExecuteTime": {
     "end_time": "2018-11-14T07:04:01.033833Z",
     "start_time": "2018-11-14T07:04:00.845691Z"
    }
   },
   "outputs": [],
   "source": [
    "def cv2ShowImages(imgs):\n",
    "    for i,img in enumerate(imgs):\n",
    "        cv2.imshow(str(i),img)\n",
    "    cv2.waitKey(0)\n",
    "    cv2.destroyAllWindows()"
   ]
  },
  {
   "cell_type": "markdown",
   "metadata": {},
   "source": [
    "# opencv 箱式滤波,中值滤波,高斯滤波"
   ]
  },
  {
   "cell_type": "code",
   "execution_count": 5,
   "metadata": {
    "ExecuteTime": {
     "end_time": "2018-11-14T07:04:04.787274Z",
     "start_time": "2018-11-14T07:04:04.749042Z"
    }
   },
   "outputs": [],
   "source": [
    "# blur—图像均值平滑滤波\n",
    "# blur(src, ksize, dst=None, anchor=None, borderType=None)\n",
    "blurImages = np.hstack(\n",
    "    [cv2.blur(lenaImage, (3,3)),\n",
    "    cv2.blur(lenaImage, (7,7)),\n",
    "    cv2.blur(lenaImage, (9,9))]\n",
    ")"
   ]
  },
  {
   "cell_type": "code",
   "execution_count": 6,
   "metadata": {
    "ExecuteTime": {
     "end_time": "2018-11-14T07:04:05.599925Z",
     "start_time": "2018-11-14T07:04:05.544529Z"
    }
   },
   "outputs": [],
   "source": [
    "# GaussianBlur—图像高斯平滑滤波\n",
    "# GaussianBlur(src, ksize, sigmaX, dst=None, sigmaY=None, borderType=None)\n",
    "GblurImages = np.hstack(\n",
    "    [cv2.GaussianBlur(lenaImage, (3,3), 0),\n",
    "     cv2.GaussianBlur(lenaImage, (7,7), 0),\n",
    "     cv2.GaussianBlur(lenaImage, (9,9), 0)\n",
    "    ]\n",
    ")"
   ]
  },
  {
   "cell_type": "code",
   "execution_count": 7,
   "metadata": {
    "ExecuteTime": {
     "end_time": "2018-11-14T07:04:08.828645Z",
     "start_time": "2018-11-14T07:04:08.661478Z"
    }
   },
   "outputs": [],
   "source": [
    "# medianBlur—图像中值滤波\n",
    "# 函数原型：medianBlur(src, ksize, dst=None)\n",
    "MblurImags = np.hstack(\n",
    "    [cv2.medianBlur(lenaImage, 3),\n",
    "     cv2.medianBlur(lenaImage, 7),\n",
    "     cv2.medianBlur(lenaImage, 9)\n",
    "    ]\n",
    ")"
   ]
  },
  {
   "cell_type": "code",
   "execution_count": 8,
   "metadata": {
    "ExecuteTime": {
     "end_time": "2018-11-14T07:05:29.737506Z",
     "start_time": "2018-11-14T07:04:10.452248Z"
    }
   },
   "outputs": [],
   "source": [
    "cv2ShowImages([lenaImage,blurImages,GblurImages,MblurImags])"
   ]
  },
  {
   "cell_type": "code",
   "execution_count": 9,
   "metadata": {
    "ExecuteTime": {
     "end_time": "2018-11-14T07:05:55.899169Z",
     "start_time": "2018-11-14T07:05:33.100184Z"
    }
   },
   "outputs": [],
   "source": [
    "#中值滤波\n",
    "blurred = np.hstack([cv2.medianBlur(lenaImage,3),\n",
    "                     cv2.medianBlur(lenaImage,5),\n",
    "                     cv2.medianBlur(lenaImage,7)\n",
    "                     ])\n",
    "\n",
    "cv2.imshow(\"Original\",lenaImage)\n",
    "\n",
    "cv2.imshow(\"Median\",blurred)\n",
    "cv2.waitKey(0)\n",
    "cv2.destroyAllWindows()"
   ]
  },
  {
   "cell_type": "markdown",
   "metadata": {},
   "source": [
    "# 自定义高斯滤波函数,实现高斯滤波算法"
   ]
  },
  {
   "cell_type": "code",
   "execution_count": null,
   "metadata": {
    "ExecuteTime": {
     "end_time": "2018-11-05T06:23:58.817473Z",
     "start_time": "2018-11-05T06:23:58.803511Z"
    }
   },
   "outputs": [],
   "source": []
  },
  {
   "cell_type": "code",
   "execution_count": 10,
   "metadata": {
    "ExecuteTime": {
     "end_time": "2018-11-14T07:06:14.806407Z",
     "start_time": "2018-11-14T07:05:58.229443Z"
    }
   },
   "outputs": [],
   "source": [
    "guessKernel = np.array([\n",
    "        [0,1,2,1,0],\n",
    "        [1,3,5,3,1],\n",
    "        [2,5,9,5,2],\n",
    "        [1,3,5,3,1],\n",
    "        [0,1,2,1,0]],dtype='float32')/57\n",
    "\n",
    "cImage = cv2.filter2D(lenaImage,-1,guessKernel)\n",
    "\n",
    "cv2ShowImages([lenaImage,cImage])"
   ]
  },
  {
   "cell_type": "code",
   "execution_count": 11,
   "metadata": {
    "ExecuteTime": {
     "end_time": "2018-11-14T07:06:29.099375Z",
     "start_time": "2018-11-14T07:06:15.479993Z"
    }
   },
   "outputs": [],
   "source": [
    "hKernel = np.array([1,1,1,1,1,1,1,1,1],dtype='float32')/9\n",
    "sKernel = np.array([\n",
    "    [1],\n",
    "    [1],\n",
    "    [1],\n",
    "    [1],\n",
    "    [1],\n",
    "    [1],\n",
    "    [1]],dtype='float32')/7\n",
    "\n",
    "hImage = cv2.filter2D(lenaImage,-1,hKernel)\n",
    "sImage = cv2.filter2D(hImage,-1,sKernel)\n",
    "\n",
    "fImage = cv2.filter2D(lenaImage,-1,sKernel*hKernel)\n",
    "cv2ShowImages([lenaImage,hImage,sImage,fImage])"
   ]
  },
  {
   "cell_type": "code",
   "execution_count": 12,
   "metadata": {
    "ExecuteTime": {
     "end_time": "2018-11-14T07:07:14.174986Z",
     "start_time": "2018-11-14T07:06:35.862487Z"
    }
   },
   "outputs": [],
   "source": [
    "customKernel = np.array([\n",
    "        [1,2,3,2,1],\n",
    "        [2,5,6,5,2],\n",
    "        [3,6,8,6,3],\n",
    "         [2,5,6,5,2],\n",
    "        [1,2,3,2,1]],dtype='float32')\n",
    "customKernel = customKernel/np.sum(customKernel)\n",
    "\n",
    "cImage = cv2.filter2D(lenaImage,-1,customKernel)\n",
    "\n",
    "cv2ShowImages([lenaImage,cImage])"
   ]
  },
  {
   "cell_type": "code",
   "execution_count": null,
   "metadata": {},
   "outputs": [],
   "source": []
  }
 ],
 "metadata": {
  "kernelspec": {
   "display_name": "Python 3",
   "language": "python",
   "name": "python3"
  },
  "language_info": {
   "codemirror_mode": {
    "name": "ipython",
    "version": 3
   },
   "file_extension": ".py",
   "mimetype": "text/x-python",
   "name": "python",
   "nbconvert_exporter": "python",
   "pygments_lexer": "ipython3",
   "version": "3.7.0"
  }
 },
 "nbformat": 4,
 "nbformat_minor": 2
}
