{
 "cells": [
  {
   "cell_type": "code",
   "execution_count": 121,
   "metadata": {
    "ExecuteTime": {
     "end_time": "2018-09-20T08:56:09.472893Z",
     "start_time": "2018-09-20T08:56:09.468905Z"
    }
   },
   "outputs": [],
   "source": [
    "# import\n",
    "import os\n",
    "import wave\n",
    "import pylab as plt\n",
    "import numpy as np"
   ]
  },
  {
   "cell_type": "code",
   "execution_count": 122,
   "metadata": {
    "ExecuteTime": {
     "end_time": "2018-09-20T08:56:09.971564Z",
     "start_time": "2018-09-20T08:56:09.966573Z"
    }
   },
   "outputs": [],
   "source": [
    "# pre\n",
    "os.chdir(r'C:\\Users\\14049\\WordAndStudy\\Projects\\学校\\大三上\\多媒体技术\\多媒体-实验二\\多媒体-素材-实验二')"
   ]
  },
  {
   "cell_type": "code",
   "execution_count": 123,
   "metadata": {
    "ExecuteTime": {
     "end_time": "2018-09-20T08:56:10.364509Z",
     "start_time": "2018-09-20T08:56:10.359523Z"
    }
   },
   "outputs": [
    {
     "data": {
      "text/plain": [
       "['1.wav',\n",
       " 'natasha-taylor-180782-unsplash.jpg',\n",
       " 'olivier-guillard-176814-unsplash.jpg',\n",
       " 'Sticker.mp4',\n",
       " 'translate2bmp.bmp']"
      ]
     },
     "execution_count": 123,
     "metadata": {},
     "output_type": "execute_result"
    }
   ],
   "source": [
    "os.listdir()"
   ]
  },
  {
   "cell_type": "markdown",
   "metadata": {
    "ExecuteTime": {
     "end_time": "2018-09-20T08:01:19.548765Z",
     "start_time": "2018-09-20T08:01:19.545770Z"
    }
   },
   "source": [
    "# 声音读取并绘制波形图"
   ]
  },
  {
   "cell_type": "code",
   "execution_count": 124,
   "metadata": {
    "ExecuteTime": {
     "end_time": "2018-09-20T08:56:15.557628Z",
     "start_time": "2018-09-20T08:56:12.804986Z"
    }
   },
   "outputs": [
    {
     "data": {
      "text/plain": [
       "0"
      ]
     },
     "execution_count": 124,
     "metadata": {},
     "output_type": "execute_result"
    }
   ],
   "source": [
    "# os 播放\n",
    "os.system(r'1.wav')"
   ]
  },
  {
   "cell_type": "code",
   "execution_count": 125,
   "metadata": {
    "ExecuteTime": {
     "end_time": "2018-09-20T08:56:23.327859Z",
     "start_time": "2018-09-20T08:56:23.321877Z"
    }
   },
   "outputs": [
    {
     "name": "stdout",
     "output_type": "stream",
     "text": [
      "2 1 32000 19646 NONE not compressed\n"
     ]
    }
   ],
   "source": [
    "# wave 读取,信息\n",
    "wavFile = wave.open(r'1.wav')\n",
    "f = wavFile\n",
    "params = f.getparams()\n",
    "(nchannels, sampwidth, framerate, nframes, comptype, compname) = params\n",
    "print(nchannels, sampwidth, framerate, nframes, comptype, compname)"
   ]
  },
  {
   "cell_type": "code",
   "execution_count": 126,
   "metadata": {
    "ExecuteTime": {
     "end_time": "2018-09-20T08:56:24.000063Z",
     "start_time": "2018-09-20T08:56:23.995076Z"
    }
   },
   "outputs": [
    {
     "data": {
      "text/plain": [
       "(39292, bytes, int)"
      ]
     },
     "execution_count": 126,
     "metadata": {},
     "output_type": "execute_result"
    }
   ],
   "source": [
    "# 原始数据读取\n",
    "str_data = f.readframes(nframes)\n",
    "len(str_data),type(str_data),type(str_data[0])"
   ]
  },
  {
   "cell_type": "code",
   "execution_count": 127,
   "metadata": {
    "ExecuteTime": {
     "end_time": "2018-09-20T08:56:24.575525Z",
     "start_time": "2018-09-20T08:56:24.566549Z"
    }
   },
   "outputs": [
    {
     "data": {
      "text/plain": [
       "(39292,)"
      ]
     },
     "execution_count": 127,
     "metadata": {},
     "output_type": "execute_result"
    }
   ],
   "source": [
    "# 数据转换\n",
    "wave_data = np.array(list(str_data),dtype=np.int16)\n",
    "wave_data.shape"
   ]
  },
  {
   "cell_type": "code",
   "execution_count": 128,
   "metadata": {
    "ExecuteTime": {
     "end_time": "2018-09-20T08:56:25.182902Z",
     "start_time": "2018-09-20T08:56:25.175921Z"
    }
   },
   "outputs": [
    {
     "data": {
      "text/plain": [
       "(2, 19646)"
      ]
     },
     "execution_count": 128,
     "metadata": {},
     "output_type": "execute_result"
    }
   ],
   "source": [
    "# 数据形态转换\n",
    "wave_data.shape = -1,2\n",
    "wave_data = wave_data.T\n",
    "wave_data.shape"
   ]
  },
  {
   "cell_type": "code",
   "execution_count": 129,
   "metadata": {
    "ExecuteTime": {
     "end_time": "2018-09-20T08:56:25.772329Z",
     "start_time": "2018-09-20T08:56:25.763350Z"
    }
   },
   "outputs": [
    {
     "data": {
      "text/plain": [
       "(19646,)"
      ]
     },
     "execution_count": 129,
     "metadata": {},
     "output_type": "execute_result"
    }
   ],
   "source": [
    "# 时间数据 绘制\n",
    "time = np.arange(0, nframes) * (1.0 / framerate)\n",
    "time.shape"
   ]
  },
  {
   "cell_type": "code",
   "execution_count": 130,
   "metadata": {
    "ExecuteTime": {
     "end_time": "2018-09-20T08:56:26.841499Z",
     "start_time": "2018-09-20T08:56:26.686885Z"
    }
   },
   "outputs": [
    {
     "data": {
      "image/png": "[encoded data removed]",
      "text/plain": [
       "<Figure size 432x288 with 2 Axes>"
      ]
     },
     "metadata": {
      "needs_background": "light"
     },
     "output_type": "display_data"
    }
   ],
   "source": [
    "# 绘制波形\n",
    "plt.subplot(211)\n",
    "plt.plot(time,wave_data[0], c=\"g\")\n",
    "plt.xlabel(\"time (seconds)\")\n",
    "plt.subplot(212)\n",
    "plt.plot(time,wave_data[1], c=\"r\")\n",
    "plt.xlabel(\"time (seconds)\")\n",
    "plt.show()"
   ]
  },
  {
   "cell_type": "markdown",
   "metadata": {},
   "source": [
    "# 播放视频"
   ]
  },
  {
   "cell_type": "code",
   "execution_count": 131,
   "metadata": {
    "ExecuteTime": {
     "end_time": "2018-09-20T08:56:29.324830Z",
     "start_time": "2018-09-20T08:56:28.616723Z"
    }
   },
   "outputs": [
    {
     "data": {
      "text/plain": [
       "0"
      ]
     },
     "execution_count": 131,
     "metadata": {},
     "output_type": "execute_result"
    }
   ],
   "source": [
    "os.system(r'Sticker.mp4')"
   ]
  },
  {
   "cell_type": "markdown",
   "metadata": {},
   "source": [
    "# 图片格式"
   ]
  },
  {
   "cell_type": "code",
   "execution_count": 132,
   "metadata": {
    "ExecuteTime": {
     "end_time": "2018-09-20T08:56:34.274617Z",
     "start_time": "2018-09-20T08:56:34.270627Z"
    }
   },
   "outputs": [],
   "source": [
    "from PIL import Image"
   ]
  },
  {
   "cell_type": "code",
   "execution_count": 133,
   "metadata": {
    "ExecuteTime": {
     "end_time": "2018-09-20T08:56:37.081115Z",
     "start_time": "2018-09-20T08:56:34.952810Z"
    }
   },
   "outputs": [],
   "source": [
    "jpgFile = Image.open( r'natasha-taylor-180782-unsplash.jpg')\n",
    "jpgFile.show()\n"
   ]
  },
  {
   "cell_type": "code",
   "execution_count": 134,
   "metadata": {
    "ExecuteTime": {
     "end_time": "2018-09-20T08:56:37.250663Z",
     "start_time": "2018-09-20T08:56:37.085105Z"
    }
   },
   "outputs": [],
   "source": [
    "jpgFile.save(r'translate2bmp.bmp')"
   ]
  },
  {
   "cell_type": "code",
   "execution_count": 135,
   "metadata": {
    "ExecuteTime": {
     "end_time": "2018-09-20T08:56:39.362019Z",
     "start_time": "2018-09-20T08:56:38.632968Z"
    }
   },
   "outputs": [
    {
     "data": {
      "text/plain": [
       "0"
      ]
     },
     "execution_count": 135,
     "metadata": {},
     "output_type": "execute_result"
    }
   ],
   "source": [
    "os.system(r'translate2bmp.bmp')"
   ]
  },
  {
   "cell_type": "code",
   "execution_count": 136,
   "metadata": {
    "ExecuteTime": {
     "end_time": "2018-09-20T08:56:41.476369Z",
     "start_time": "2018-09-20T08:56:41.446450Z"
    }
   },
   "outputs": [],
   "source": [
    "jpgFile.close()"
   ]
  },
  {
   "cell_type": "markdown",
   "metadata": {},
   "source": [
    "# 读入视频文件并播放"
   ]
  },
  {
   "cell_type": "code",
   "execution_count": null,
   "metadata": {},
   "outputs": [],
   "source": [
    "os.system(r'Sticker.mp4')"
   ]
  }
 ],
 "metadata": {
  "kernelspec": {
   "display_name": "Python 3",
   "language": "python",
   "name": "python3"
  },
  "language_info": {
   "codemirror_mode": {
    "name": "ipython",
    "version": 3
   },
   "file_extension": ".py",
   "mimetype": "text/x-python",
   "name": "python",
   "nbconvert_exporter": "python",
   "pygments_lexer": "ipython3",
   "version": "3.7.0"
  }
 },
 "nbformat": 4,
 "nbformat_minor": 2
}
