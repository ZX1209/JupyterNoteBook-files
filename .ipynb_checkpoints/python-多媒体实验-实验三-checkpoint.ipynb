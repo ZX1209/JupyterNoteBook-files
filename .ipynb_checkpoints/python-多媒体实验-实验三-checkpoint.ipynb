{
 "cells": [
  {
   "cell_type": "code",
   "execution_count": 9,
   "metadata": {
    "ExecuteTime": {
     "end_time": "2018-09-27T07:34:31.230967Z",
     "start_time": "2018-09-27T07:34:28.751002Z"
    }
   },
   "outputs": [],
   "source": [
    "import matplotlib.pyplot as plt\n",
    "import numpy as np"
   ]
  },
  {
   "cell_type": "code",
   "execution_count": 10,
   "metadata": {
    "ExecuteTime": {
     "end_time": "2018-09-27T07:34:31.241031Z",
     "start_time": "2018-09-27T07:34:31.233955Z"
    }
   },
   "outputs": [],
   "source": [
    "x = np.linspace(0,1,30)"
   ]
  },
  {
   "cell_type": "code",
   "execution_count": 11,
   "metadata": {
    "ExecuteTime": {
     "end_time": "2018-09-27T07:34:31.266865Z",
     "start_time": "2018-09-27T07:34:31.246921Z"
    }
   },
   "outputs": [],
   "source": [
    "f = 1/(1+x)"
   ]
  },
  {
   "cell_type": "code",
   "execution_count": 12,
   "metadata": {
    "ExecuteTime": {
     "end_time": "2018-09-27T07:34:31.286812Z",
     "start_time": "2018-09-27T07:34:31.270859Z"
    }
   },
   "outputs": [],
   "source": [
    "g = np.e**x"
   ]
  },
  {
   "cell_type": "code",
   "execution_count": 24,
   "metadata": {
    "ExecuteTime": {
     "end_time": "2018-09-27T07:42:37.825169Z",
     "start_time": "2018-09-27T07:42:36.602375Z"
    }
   },
   "outputs": [
    {
     "name": "stdout",
     "output_type": "stream",
     "text": [
      "Using matplotlib backend: TkAgg\n"
     ]
    }
   ],
   "source": [
    "# %matplotlib\n",
    "fl, = plt.plot(x,f,'r*',label='f func')\n",
    "gl, = plt.plot(x,g,'b*',label = 'g func')\n",
    "plt.legend(handles=[fl,gl])\n",
    "plt.show()"
   ]
  },
  {
   "cell_type": "code",
   "execution_count": null,
   "metadata": {},
   "outputs": [],
   "source": []
  }
 ],
 "metadata": {
  "kernelspec": {
   "display_name": "Python 3",
   "language": "python",
   "name": "python3"
  },
  "language_info": {
   "codemirror_mode": {
    "name": "ipython",
    "version": 3
   },
   "file_extension": ".py",
   "mimetype": "text/x-python",
   "name": "python",
   "nbconvert_exporter": "python",
   "pygments_lexer": "ipython3",
   "version": "3.7.0"
  }
 },
 "nbformat": 4,
 "nbformat_minor": 2
}
