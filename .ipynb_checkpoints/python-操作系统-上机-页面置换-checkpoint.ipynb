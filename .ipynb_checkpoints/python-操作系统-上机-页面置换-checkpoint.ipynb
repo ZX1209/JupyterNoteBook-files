{
 "cells": [
  {
   "cell_type": "code",
   "execution_count": 1,
   "metadata": {
    "ExecuteTime": {
     "end_time": "2018-11-01T00:20:31.278642Z",
     "start_time": "2018-11-01T00:20:31.274155Z"
    }
   },
   "outputs": [],
   "source": [
    "asks = [1,2,3,4,2,1,2,3,5,2,3,7,6]"
   ]
  },
  {
   "cell_type": "code",
   "execution_count": 14,
   "metadata": {
    "ExecuteTime": {
     "end_time": "2018-11-01T00:26:54.842515Z",
     "start_time": "2018-11-01T00:26:54.838561Z"
    }
   },
   "outputs": [],
   "source": [
    "pages = []\n",
    "limit = 3"
   ]
  },
  {
   "cell_type": "code",
   "execution_count": 15,
   "metadata": {
    "ExecuteTime": {
     "end_time": "2018-11-01T00:26:55.253043Z",
     "start_time": "2018-11-01T00:26:55.243947Z"
    }
   },
   "outputs": [
    {
     "name": "stdout",
     "output_type": "stream",
     "text": [
      "bottom-> [1] <-top   *\n",
      "bottom-> [1, 2] <-top   *\n",
      "bottom-> [1, 2, 3] <-top   *\n",
      "bottom-> [2, 3, 4] <-top   *\n",
      "bottom-> [2, 3, 4] <-top \n",
      "bottom-> [3, 4, 1] <-top   *\n",
      "bottom-> [4, 1, 2] <-top   *\n",
      "bottom-> [1, 2, 3] <-top   *\n",
      "bottom-> [2, 3, 5] <-top   *\n",
      "bottom-> [2, 3, 5] <-top \n",
      "bottom-> [2, 3, 5] <-top \n",
      "bottom-> [3, 5, 7] <-top   *\n",
      "bottom-> [5, 7, 6] <-top   *\n"
     ]
    }
   ],
   "source": [
    "for ask in asks:\n",
    "    isstop = 0\n",
    "    \n",
    "    if ask not in pages:\n",
    "        if len(pages)>=limit:\n",
    "            pages.pop(0)\n",
    "        isstop = 1\n",
    "        pages.append(ask)\n",
    "\n",
    "    print('bottom->',pages,'<-top','  *'*isstop)"
   ]
  },
  {
   "cell_type": "code",
   "execution_count": null,
   "metadata": {},
   "outputs": [],
   "source": []
  }
 ],
 "metadata": {
  "kernelspec": {
   "display_name": "Python 3",
   "language": "python",
   "name": "python3"
  },
  "language_info": {
   "codemirror_mode": {
    "name": "ipython",
    "version": 3
   },
   "file_extension": ".py",
   "mimetype": "text/x-python",
   "name": "python",
   "nbconvert_exporter": "python",
   "pygments_lexer": "ipython3",
   "version": "3.7.0"
  }
 },
 "nbformat": 4,
 "nbformat_minor": 2
}
