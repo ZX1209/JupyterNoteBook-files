{
 "cells": [
  {
   "cell_type": "code",
   "execution_count": 1,
   "metadata": {
    "ExecuteTime": {
     "end_time": "2018-09-19T10:51:42.262603Z",
     "start_time": "2018-09-19T10:51:38.771192Z"
    }
   },
   "outputs": [],
   "source": [
    "import os\n",
    "from PIL import Image\n",
    "from matplotlib import pyplot as plt\n",
    "import numpy as np"
   ]
  },
  {
   "cell_type": "code",
   "execution_count": 2,
   "metadata": {
    "ExecuteTime": {
     "end_time": "2018-09-19T10:51:42.282609Z",
     "start_time": "2018-09-19T10:51:42.268689Z"
    }
   },
   "outputs": [
    {
     "data": {
      "text/plain": [
       "'C:\\\\Users\\\\14049\\\\WordAndStudy\\\\Projects\\\\JupyterNoteBook'"
      ]
     },
     "execution_count": 2,
     "metadata": {},
     "output_type": "execute_result"
    }
   ],
   "source": [
    "os.getcwd()"
   ]
  },
  {
   "cell_type": "code",
   "execution_count": 3,
   "metadata": {
    "ExecuteTime": {
     "end_time": "2018-09-19T10:51:42.307455Z",
     "start_time": "2018-09-19T10:51:42.287687Z"
    }
   },
   "outputs": [],
   "source": [
    "os.chdir(r'C:\\Users\\14049\\WordAndStudy\\Projects\\学校\\大三上\\数字图像处理')"
   ]
  },
  {
   "cell_type": "code",
   "execution_count": 4,
   "metadata": {
    "ExecuteTime": {
     "end_time": "2018-09-19T10:51:42.327665Z",
     "start_time": "2018-09-19T10:51:42.314337Z"
    }
   },
   "outputs": [
    {
     "data": {
      "text/plain": [
       "'C:\\\\Users\\\\14049\\\\WordAndStudy\\\\Projects\\\\学校\\\\大三上\\\\数字图像处理'"
      ]
     },
     "execution_count": 4,
     "metadata": {},
     "output_type": "execute_result"
    }
   ],
   "source": [
    "os.getcwd()"
   ]
  },
  {
   "cell_type": "code",
   "execution_count": 5,
   "metadata": {
    "ExecuteTime": {
     "end_time": "2018-09-19T10:51:42.354821Z",
     "start_time": "2018-09-19T10:51:42.333645Z"
    }
   },
   "outputs": [
    {
     "data": {
      "text/plain": [
       "['bmp', 'gif', 'jpg', 'png', 'webp']"
      ]
     },
     "execution_count": 5,
     "metadata": {},
     "output_type": "execute_result"
    }
   ],
   "source": [
    "os.listdir()"
   ]
  },
  {
   "cell_type": "code",
   "execution_count": 95,
   "metadata": {
    "ExecuteTime": {
     "end_time": "2018-09-19T11:14:13.427907Z",
     "start_time": "2018-09-19T11:14:13.415716Z"
    }
   },
   "outputs": [],
   "source": [
    "# pngFile = open(r'png/Triangle-PNG-Transparent-Image.png','rb')\n",
    "# gifFile = open(r'gif/giphy.gif','rb')\n",
    "bmpFile = Image.open(r'bmp/FLAG_B24.BMP')\n",
    "# jpgFile = open(r'jpg/olivier-guillard-176814-unsplash.jpg','rb')\n",
    "# webpFile = open(r'webp/200w.webp','rb')"
   ]
  },
  {
   "cell_type": "code",
   "execution_count": 104,
   "metadata": {
    "ExecuteTime": {
     "end_time": "2018-09-19T11:21:03.313148Z",
     "start_time": "2018-09-19T11:21:03.305148Z"
    }
   },
   "outputs": [],
   "source": [
    "bmpdata = np.array(bmpFile)"
   ]
  },
  {
   "cell_type": "code",
   "execution_count": 105,
   "metadata": {
    "ExecuteTime": {
     "end_time": "2018-09-19T11:21:03.629146Z",
     "start_time": "2018-09-19T11:21:03.621164Z"
    }
   },
   "outputs": [
    {
     "data": {
      "text/plain": [
       "(124, 124, 3)"
      ]
     },
     "execution_count": 105,
     "metadata": {},
     "output_type": "execute_result"
    }
   ],
   "source": [
    "bmpdata.shape"
   ]
  },
  {
   "cell_type": "code",
   "execution_count": null,
   "metadata": {},
   "outputs": [],
   "source": [
    "plt.imshow(bmpdata)"
   ]
  },
  {
   "cell_type": "code",
   "execution_count": 69,
   "metadata": {
    "ExecuteTime": {
     "end_time": "2018-09-19T11:04:04.658385Z",
     "start_time": "2018-09-19T11:04:04.005105Z"
    }
   },
   "outputs": [],
   "source": [
    "# use list\n",
    "# bmplist = list(bmpdata)\n",
    "# for i in range(1,123):\n",
    "#     for  j in range(1,123):\n",
    "#         bmplist[i][j][0] = 2* bmplist[i-1][j][0] -2*bmplist[i+1][j][0]\n",
    "#         bmplist[i][j][1] = 2* bmplist[i-1][j][1] -2*bmplist[i+1][j][1]\n",
    "#         bmplist[i][j][2] = 2* bmplist[i-1][j][2] -2*bmplist[i+1][j][2]"
   ]
  },
  {
   "cell_type": "code",
   "execution_count": 87,
   "metadata": {
    "ExecuteTime": {
     "end_time": "2018-09-19T11:12:43.816464Z",
     "start_time": "2018-09-19T11:12:42.907846Z"
    }
   },
   "outputs": [],
   "source": [
    "# use ndarray\n",
    "for i in range(1,123):\n",
    "    for j  in range(1,123):\n",
    "        bmpdata[i,j,0] = np.sum(bmpdata[i-1:i+2,j-1:j+2,0])*(1/9)\n",
    "        bmpdata[i,j,1] = np.sum(bmpdata[i-1:i+2,j-1:j+2,1])*(1/9)\n",
    "        bmpdata[i,j,2] = np.sum(bmpdata[i-1:i+2,j-1:j+2,2])*(1/9)\n"
   ]
  },
  {
   "cell_type": "code",
   "execution_count": 102,
   "metadata": {
    "ExecuteTime": {
     "end_time": "2018-09-19T11:14:50.983449Z",
     "start_time": "2018-09-19T11:14:50.705720Z"
    }
   },
   "outputs": [],
   "source": [
    "# one axis\n",
    "for i in range(1,123):\n",
    "    for j  in range(1,123):\n",
    "        bmpdata[i,j,0] = np.sum(bmpdata[i-1:i+2,j-1:j+2,0])*(1/9)\n"
   ]
  },
  {
   "cell_type": "code",
   "execution_count": 106,
   "metadata": {
    "ExecuteTime": {
     "end_time": "2018-09-19T11:21:06.993173Z",
     "start_time": "2018-09-19T11:21:06.985174Z"
    }
   },
   "outputs": [],
   "source": [
    "# one axis\n",
    "for i in range(10,113):\n",
    "    for j  in range(10,113):\n",
    "        bmpdata[i,j,0] = bmpdata[i,j-9,0]\n"
   ]
  },
  {
   "cell_type": "code",
   "execution_count": 107,
   "metadata": {
    "ExecuteTime": {
     "end_time": "2018-09-19T11:21:07.687222Z",
     "start_time": "2018-09-19T11:21:07.579220Z"
    }
   },
   "outputs": [
    {
     "data": {
      "text/plain": [
       "<matplotlib.image.AxesImage at 0x2a7c9349e10>"
      ]
     },
     "execution_count": 107,
     "metadata": {},
     "output_type": "execute_result"
    },
    {
     "data": {
      "image/png": "[encoded data removed]",
      "text/plain": [
       "<Figure size 432x288 with 1 Axes>"
      ]
     },
     "metadata": {
      "needs_background": "light"
     },
     "output_type": "display_data"
    }
   ],
   "source": [
    "plt.imshow(bmpdata)"
   ]
  },
  {
   "cell_type": "code",
   "execution_count": 94,
   "metadata": {
    "ExecuteTime": {
     "end_time": "2018-09-19T11:14:09.055263Z",
     "start_time": "2018-09-19T11:14:09.045342Z"
    }
   },
   "outputs": [],
   "source": [
    "# pngFile.close()\n",
    "bmpFile.close()\n",
    "# gifFile.close()\n",
    "# jpgFile.close()\n",
    "# webpFile.close()"
   ]
  }
 ],
 "metadata": {
  "kernelspec": {
   "display_name": "Python 3",
   "language": "python",
   "name": "python3"
  },
  "language_info": {
   "codemirror_mode": {
    "name": "ipython",
    "version": 3
   },
   "file_extension": ".py",
   "mimetype": "text/x-python",
   "name": "python",
   "nbconvert_exporter": "python",
   "pygments_lexer": "ipython3",
   "version": "3.7.0"
  }
 },
 "nbformat": 4,
 "nbformat_minor": 2
}
