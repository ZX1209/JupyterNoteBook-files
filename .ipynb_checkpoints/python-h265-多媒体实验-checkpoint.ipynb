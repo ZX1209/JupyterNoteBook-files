{
 "cells": [
  {
   "cell_type": "code",
   "execution_count": 1,
   "metadata": {
    "ExecuteTime": {
     "end_time": "2018-10-11T07:39:24.423474Z",
     "start_time": "2018-10-11T07:39:24.093622Z"
    }
   },
   "outputs": [],
   "source": [
    "import matplotlib.pyplot as plt\n",
    "import numpy as np\n",
    "import os"
   ]
  },
  {
   "cell_type": "code",
   "execution_count": 2,
   "metadata": {
    "ExecuteTime": {
     "end_time": "2018-10-11T07:39:24.505074Z",
     "start_time": "2018-10-11T07:39:24.496145Z"
    }
   },
   "outputs": [
    {
     "data": {
      "text/plain": [
       "('C:\\\\Users\\\\14049\\\\WordAndStudy\\\\Projects\\\\JupyterNoteBook',\n",
       " None,\n",
       " 'C:\\\\Users\\\\14049\\\\WordAndStudy\\\\Projects\\\\学校\\\\大三上\\\\多媒体技术')"
      ]
     },
     "execution_count": 2,
     "metadata": {},
     "output_type": "execute_result"
    }
   ],
   "source": [
    "os.getcwd(),os.chdir(r'C:\\Users\\14049\\WordAndStudy\\Projects\\学校\\大三上\\多媒体技术'),os.getcwd()"
   ]
  },
  {
   "cell_type": "code",
   "execution_count": 3,
   "metadata": {
    "ExecuteTime": {
     "end_time": "2018-10-11T07:39:25.203443Z",
     "start_time": "2018-10-11T07:39:25.199971Z"
    }
   },
   "outputs": [],
   "source": [
    "h265File = open(r'video-h265.mkv','rb')"
   ]
  },
  {
   "cell_type": "code",
   "execution_count": 4,
   "metadata": {
    "ExecuteTime": {
     "end_time": "2018-10-11T07:39:26.041906Z",
     "start_time": "2018-10-11T07:39:26.035460Z"
    }
   },
   "outputs": [],
   "source": [
    "data = h265File.read()\n",
    "h265File.close()"
   ]
  },
  {
   "cell_type": "code",
   "execution_count": 5,
   "metadata": {
    "ExecuteTime": {
     "end_time": "2018-10-11T07:39:27.531805Z",
     "start_time": "2018-10-11T07:39:27.526845Z"
    }
   },
   "outputs": [
    {
     "name": "stdout",
     "output_type": "stream",
     "text": [
      "<class 'bytes'>\n",
      "['__add__', '__class__', '__contains__', '__delattr__', '__dir__', '__doc__', '__eq__', '__format__', '__ge__', '__getattribute__', '__getitem__', '__getnewargs__', '__gt__', '__hash__', '__init__', '__init_subclass__', '__iter__', '__le__', '__len__', '__lt__', '__mod__', '__mul__', '__ne__', '__new__', '__reduce__', '__reduce_ex__', '__repr__', '__rmod__', '__rmul__', '__setattr__', '__sizeof__', '__str__', '__subclasshook__', 'capitalize', 'center', 'count', 'decode', 'endswith', 'expandtabs', 'find', 'fromhex', 'hex', 'index', 'isalnum', 'isalpha', 'isascii', 'isdigit', 'islower', 'isspace', 'istitle', 'isupper', 'join', 'ljust', 'lower', 'lstrip', 'maketrans', 'partition', 'replace', 'rfind', 'rindex', 'rjust', 'rpartition', 'rsplit', 'rstrip', 'split', 'splitlines', 'startswith', 'strip', 'swapcase', 'title', 'translate', 'upper', 'zfill']\n"
     ]
    }
   ],
   "source": [
    "print(type(data))\n",
    "print(dir(data))"
   ]
  },
  {
   "cell_type": "code",
   "execution_count": 6,
   "metadata": {
    "ExecuteTime": {
     "end_time": "2018-10-11T07:39:36.451539Z",
     "start_time": "2018-10-11T07:39:36.447072Z"
    }
   },
   "outputs": [
    {
     "data": {
      "text/plain": [
       "b'\\x1aE\\xdf\\xa3\\x01\\x00\\x00\\x00\\x00\\x00\\x00#B\\x86\\x81\\x01B\\xf7\\x81\\x01B\\xf2\\x81\\x04B\\xf3\\x81\\x08B\\x82\\x88matroskaB\\x87\\x81\\x02B\\x85\\x81\\x02\\x18S\\x80g\\x01\\x00\\x00\\x00\\x00P\\xbd\\xab\\x11M\\x9bt@<M\\xbb\\x8bS\\xab\\x84\\x15I\\xa9fS\\xac\\x81\\xdfM\\xbb\\x8cS\\xab\\x84\\x16T\\xaekS\\xac\\x82\\x01<M\\xbb\\x8cS\\xab\\x84'"
      ]
     },
     "execution_count": 6,
     "metadata": {},
     "output_type": "execute_result"
    }
   ],
   "source": [
    "data[:100]"
   ]
  },
  {
   "cell_type": "markdown",
   "metadata": {},
   "source": [
    "# nalu 单元分割\n",
    "https://www.jianshu.com/p/00a2ed58a77b\n",
    "没找到码流呢.."
   ]
  },
  {
   "cell_type": "code",
   "execution_count": 7,
   "metadata": {
    "ExecuteTime": {
     "end_time": "2018-10-11T07:43:50.349141Z",
     "start_time": "2018-10-11T07:43:50.345669Z"
    }
   },
   "outputs": [],
   "source": []
  },
  {
   "cell_type": "code",
   "execution_count": 89,
   "metadata": {
    "ExecuteTime": {
     "end_time": "2018-09-27T08:36:30.218355Z",
     "start_time": "2018-09-27T08:36:30.211374Z"
    }
   },
   "outputs": [
    {
     "data": {
      "text/plain": [
       "'42'"
      ]
     },
     "execution_count": 89,
     "metadata": {},
     "output_type": "execute_result"
    }
   ],
   "source": [
    "data[20:21].hex()"
   ]
  },
  {
   "cell_type": "code",
   "execution_count": null,
   "metadata": {
    "ExecuteTime": {
     "end_time": "2018-09-27T08:39:40.970690Z",
     "start_time": "2018-09-27T08:39:40.934787Z"
    }
   },
   "outputs": [],
   "source": []
  },
  {
   "cell_type": "code",
   "execution_count": 94,
   "metadata": {
    "ExecuteTime": {
     "end_time": "2018-09-27T08:40:13.917370Z",
     "start_time": "2018-09-27T08:40:13.908061Z"
    }
   },
   "outputs": [],
   "source": [
    "h265File.close()"
   ]
  },
  {
   "cell_type": "code",
   "execution_count": 95,
   "metadata": {
    "ExecuteTime": {
     "end_time": "2018-09-27T08:52:18.291741Z",
     "start_time": "2018-09-27T08:52:18.282117Z"
    }
   },
   "outputs": [
    {
     "data": {
      "text/plain": [
       "b'\\x1aE'"
      ]
     },
     "execution_count": 95,
     "metadata": {},
     "output_type": "execute_result"
    }
   ],
   "source": [
    "data[:2]"
   ]
  },
  {
   "cell_type": "code",
   "execution_count": 99,
   "metadata": {
    "ExecuteTime": {
     "end_time": "2018-09-27T08:53:09.363381Z",
     "start_time": "2018-09-27T08:53:09.351842Z"
    }
   },
   "outputs": [
    {
     "data": {
      "text/plain": [
       "'0b11010'"
      ]
     },
     "execution_count": 99,
     "metadata": {},
     "output_type": "execute_result"
    }
   ],
   "source": [
    "bin(data[0])"
   ]
  },
  {
   "cell_type": "code",
   "execution_count": 100,
   "metadata": {
    "ExecuteTime": {
     "end_time": "2018-09-27T08:53:13.763710Z",
     "start_time": "2018-09-27T08:53:13.757430Z"
    }
   },
   "outputs": [
    {
     "data": {
      "text/plain": [
       "'0b1000101'"
      ]
     },
     "execution_count": 100,
     "metadata": {},
     "output_type": "execute_result"
    }
   ],
   "source": [
    "bin(data[1])"
   ]
  },
  {
   "cell_type": "code",
   "execution_count": 101,
   "metadata": {
    "ExecuteTime": {
     "end_time": "2018-09-27T08:59:12.726210Z",
     "start_time": "2018-09-27T08:59:12.716684Z"
    }
   },
   "outputs": [
    {
     "data": {
      "text/plain": [
       "(139, 83, 77, 155, 69, 0, 0)"
      ]
     },
     "execution_count": 101,
     "metadata": {},
     "output_type": "execute_result"
    }
   ],
   "source": [
    "data[67],data[68],data[65],data[61],data[1],data[6],data[9]"
   ]
  },
  {
   "cell_type": "code",
   "execution_count": 116,
   "metadata": {
    "ExecuteTime": {
     "end_time": "2018-09-27T09:01:57.131284Z",
     "start_time": "2018-09-27T09:01:57.118321Z"
    }
   },
   "outputs": [
    {
     "data": {
      "text/plain": [
       "379"
      ]
     },
     "execution_count": 116,
     "metadata": {},
     "output_type": "execute_result"
    }
   ],
   "source": [
    "data.index(1,359)"
   ]
  },
  {
   "cell_type": "code",
   "execution_count": 106,
   "metadata": {
    "ExecuteTime": {
     "end_time": "2018-09-27T09:00:33.165249Z",
     "start_time": "2018-09-27T09:00:33.155998Z"
    }
   },
   "outputs": [
    {
     "data": {
      "text/plain": [
       "b'\\x01\\x00\\x00\\x00\\x00\\x00\\x00#B\\x86\\x81\\x01B\\xf7\\x81\\x01'"
      ]
     },
     "execution_count": 106,
     "metadata": {},
     "output_type": "execute_result"
    }
   ],
   "source": [
    "data[4:20]"
   ]
  },
  {
   "cell_type": "code",
   "execution_count": null,
   "metadata": {},
   "outputs": [],
   "source": []
  }
 ],
 "metadata": {
  "kernelspec": {
   "display_name": "Python 3",
   "language": "python",
   "name": "python3"
  },
  "language_info": {
   "codemirror_mode": {
    "name": "ipython",
    "version": 3
   },
   "file_extension": ".py",
   "mimetype": "text/x-python",
   "name": "python",
   "nbconvert_exporter": "python",
   "pygments_lexer": "ipython3",
   "version": "3.7.0"
  }
 },
 "nbformat": 4,
 "nbformat_minor": 2
}
