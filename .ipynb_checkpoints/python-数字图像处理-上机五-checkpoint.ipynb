{
 "cells": [
  {
   "cell_type": "code",
   "execution_count": 1,
   "metadata": {
    "ExecuteTime": {
     "end_time": "2018-10-31T08:26:52.224923Z",
     "start_time": "2018-10-31T08:26:51.733239Z"
    }
   },
   "outputs": [],
   "source": [
    "import cv2\n",
    "import numpy as np\n",
    "import matplotlib.pyplot as plt\n",
    "import os"
   ]
  },
  {
   "cell_type": "code",
   "execution_count": 2,
   "metadata": {
    "ExecuteTime": {
     "end_time": "2018-10-31T08:26:52.267808Z",
     "start_time": "2018-10-31T08:26:52.226917Z"
    }
   },
   "outputs": [
    {
     "name": "stdout",
     "output_type": "stream",
     "text": [
      "Using matplotlib backend: TkAgg\n"
     ]
    }
   ],
   "source": [
    "%matplotlib"
   ]
  },
  {
   "cell_type": "code",
   "execution_count": 3,
   "metadata": {
    "ExecuteTime": {
     "end_time": "2018-10-31T08:26:52.761610Z",
     "start_time": "2018-10-31T08:26:52.743535Z"
    }
   },
   "outputs": [],
   "source": [
    "%config InlineBackend.figure_format = 'svg'"
   ]
  },
  {
   "cell_type": "code",
   "execution_count": 4,
   "metadata": {
    "ExecuteTime": {
     "end_time": "2018-10-31T08:26:53.275117Z",
     "start_time": "2018-10-31T08:26:53.266336Z"
    }
   },
   "outputs": [
    {
     "data": {
      "text/plain": [
       "('C:\\\\Users\\\\14049\\\\WordAndStudy\\\\Projects\\\\JupyterNoteBook',\n",
       " None,\n",
       " 'C:\\\\Users\\\\14049\\\\WordAndStudy\\\\Projects\\\\学校\\\\大三上\\\\数字图像处理\\\\数字图像处理实验材料\\\\测试图像')"
      ]
     },
     "execution_count": 4,
     "metadata": {},
     "output_type": "execute_result"
    }
   ],
   "source": [
    "os.getcwd(),os.chdir(r'C:\\Users\\14049\\WordAndStudy\\Projects\\学校\\大三上\\数字图像处理\\数字图像处理实验材料\\测试图像'),os.getcwd()"
   ]
  },
  {
   "cell_type": "code",
   "execution_count": 5,
   "metadata": {
    "ExecuteTime": {
     "end_time": "2018-10-31T08:26:53.833621Z",
     "start_time": "2018-10-31T08:26:53.829631Z"
    }
   },
   "outputs": [],
   "source": [
    "def cv2ImageShow(img):\n",
    "    cv2.namedWindow('image',cv2.WINDOW_NORMAL)\n",
    "    cv2.imshow('image',img)\n",
    "    cv2.waitKey(0)\n",
    "    cv2.destroyAllWindows()"
   ]
  },
  {
   "cell_type": "code",
   "execution_count": 16,
   "metadata": {
    "ExecuteTime": {
     "end_time": "2018-10-31T08:27:40.303346Z",
     "start_time": "2018-10-31T08:27:40.298359Z"
    }
   },
   "outputs": [],
   "source": [
    "def cv2ShowImages(imgs):\n",
    "    for i,img in enumerate(imgs):\n",
    "        cv2.namedWindow(str(i),cv2.WINDOW_NORMAL)\n",
    "        cv2.imshow(str(i),img)\n",
    "    cv2.waitKey(0)\n",
    "    cv2.destroyAllWindows()"
   ]
  },
  {
   "cell_type": "markdown",
   "metadata": {},
   "source": [
    "# 灰度图像 直方图均衡化 修正算法比较"
   ]
  },
  {
   "cell_type": "code",
   "execution_count": 6,
   "metadata": {
    "ExecuteTime": {
     "end_time": "2018-10-31T08:26:55.259807Z",
     "start_time": "2018-10-31T08:26:55.241857Z"
    }
   },
   "outputs": [],
   "source": [
    "img = cv2.imread(r'carnev256gray.png',0)"
   ]
  },
  {
   "cell_type": "code",
   "execution_count": 7,
   "metadata": {
    "ExecuteTime": {
     "end_time": "2018-10-31T08:26:55.822305Z",
     "start_time": "2018-10-31T08:26:55.816318Z"
    }
   },
   "outputs": [],
   "source": [
    "hist = cv2.calcHist([img],[0],None,[256],[0,256])"
   ]
  },
  {
   "cell_type": "code",
   "execution_count": 8,
   "metadata": {
    "ExecuteTime": {
     "end_time": "2018-10-31T08:26:56.181342Z",
     "start_time": "2018-10-31T08:26:56.176355Z"
    }
   },
   "outputs": [],
   "source": [
    "Hist = np.cumsum(hist)"
   ]
  },
  {
   "cell_type": "code",
   "execution_count": 9,
   "metadata": {
    "ExecuteTime": {
     "end_time": "2018-10-31T08:26:56.542377Z",
     "start_time": "2018-10-31T08:26:56.537391Z"
    }
   },
   "outputs": [],
   "source": [
    "XHist = np.cumsum(hist**0.5)"
   ]
  },
  {
   "cell_type": "code",
   "execution_count": 10,
   "metadata": {
    "ExecuteTime": {
     "end_time": "2018-10-31T08:26:56.967242Z",
     "start_time": "2018-10-31T08:26:56.846564Z"
    }
   },
   "outputs": [],
   "source": [
    "plt.gray()"
   ]
  },
  {
   "cell_type": "code",
   "execution_count": 11,
   "metadata": {
    "ExecuteTime": {
     "end_time": "2018-10-31T08:26:57.862844Z",
     "start_time": "2018-10-31T08:26:57.246494Z"
    }
   },
   "outputs": [],
   "source": [
    "imgList1 = img.tolist()\n",
    "w,h = img.shape\n",
    "M = w*h\n",
    "K = 256\n",
    "for v in range(h):\n",
    "    for u in range(w):\n",
    "        a = imgList1[v][u]\n",
    "        b = (Hist[a]*(K-1))//M\n",
    "        imgList1[v][u] = b"
   ]
  },
  {
   "cell_type": "code",
   "execution_count": 12,
   "metadata": {
    "ExecuteTime": {
     "end_time": "2018-10-31T08:26:57.936674Z",
     "start_time": "2018-10-31T08:26:57.914706Z"
    }
   },
   "outputs": [],
   "source": [
    "tmp = np.histogram(imgList1,bins=np.arange(256))\n",
    "tmpcum1 = np.cumsum(tmp[0])"
   ]
  },
  {
   "cell_type": "code",
   "execution_count": 13,
   "metadata": {
    "ExecuteTime": {
     "end_time": "2018-10-31T08:26:58.468317Z",
     "start_time": "2018-10-31T08:26:58.190968Z"
    }
   },
   "outputs": [],
   "source": [
    "imgList2 = img.tolist()\n",
    "w,h = img.shape\n",
    "M = w*h\n",
    "K = 256\n",
    "for v in range(h):\n",
    "    for u in range(w):\n",
    "        a = imgList2[v][u]\n",
    "        b = (XHist[a]*(K-1))//XHist[255]\n",
    "        imgList2[v][u] = b"
   ]
  },
  {
   "cell_type": "code",
   "execution_count": 14,
   "metadata": {
    "ExecuteTime": {
     "end_time": "2018-10-31T08:26:58.794356Z",
     "start_time": "2018-10-31T08:26:58.773411Z"
    }
   },
   "outputs": [],
   "source": [
    "tmp = np.histogram(imgList2,bins=np.arange(256))\n",
    "tmpcum2 = np.cumsum(tmp[0])"
   ]
  },
  {
   "cell_type": "code",
   "execution_count": 17,
   "metadata": {
    "ExecuteTime": {
     "end_time": "2018-10-31T08:29:09.386110Z",
     "start_time": "2018-10-31T08:28:53.350024Z"
    }
   },
   "outputs": [],
   "source": [
    "cv2ShowImages([np.array(imgList1,dtype='uint8'),np.array(imgList2,dtype='uint8')])"
   ]
  },
  {
   "cell_type": "code",
   "execution_count": 19,
   "metadata": {
    "ExecuteTime": {
     "end_time": "2018-10-31T08:29:24.341276Z",
     "start_time": "2018-10-31T08:29:24.254349Z"
    }
   },
   "outputs": [],
   "source": [
    "\n",
    "# plt.subplot(221)\n",
    "# plt.imshow(imgList1)\n",
    "# plt.title('equalization pic')\n",
    "# plt.subplot(222)\n",
    "# plt.imshow(imgList2)\n",
    "# plt.title('modified equalization pic')\n",
    "\n",
    "plt.subplot(121)\n",
    "plt.plot(tmpcum1)\n",
    "plt.title('equalization hist')\n",
    "plt.subplot(122)\n",
    "plt.plot(tmpcum2)\n",
    "plt.title('modified equalization hist')\n",
    "\n",
    "plt.show()\n"
   ]
  }
 ],
 "metadata": {
  "kernelspec": {
   "display_name": "Python 3",
   "language": "python",
   "name": "python3"
  },
  "language_info": {
   "codemirror_mode": {
    "name": "ipython",
    "version": 3
   },
   "file_extension": ".py",
   "mimetype": "text/x-python",
   "name": "python",
   "nbconvert_exporter": "python",
   "pygments_lexer": "ipython3",
   "version": "3.7.0"
  }
 },
 "nbformat": 4,
 "nbformat_minor": 2
}
