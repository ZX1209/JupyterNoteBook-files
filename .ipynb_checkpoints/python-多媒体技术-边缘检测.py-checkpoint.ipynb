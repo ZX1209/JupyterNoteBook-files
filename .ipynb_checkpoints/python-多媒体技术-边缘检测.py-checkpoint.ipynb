{
 "cells": [
  {
   "cell_type": "code",
   "execution_count": 1,
   "metadata": {
    "ExecuteTime": {
     "end_time": "2018-11-08T08:38:29.540273Z",
     "start_time": "2018-11-08T08:38:29.427575Z"
    }
   },
   "outputs": [],
   "source": [
    "import numpy as np\n",
    "import cv2\n",
    "import os"
   ]
  },
  {
   "cell_type": "code",
   "execution_count": 2,
   "metadata": {
    "ExecuteTime": {
     "end_time": "2018-11-08T08:38:31.340460Z",
     "start_time": "2018-11-08T08:38:31.134021Z"
    }
   },
   "outputs": [
    {
     "name": "stdout",
     "output_type": "stream",
     "text": [
      "Using matplotlib backend: TkAgg\n"
     ]
    }
   ],
   "source": [
    "%matplotlib"
   ]
  },
  {
   "cell_type": "code",
   "execution_count": 3,
   "metadata": {
    "ExecuteTime": {
     "end_time": "2018-11-08T08:39:13.481869Z",
     "start_time": "2018-11-08T08:39:13.472893Z"
    }
   },
   "outputs": [
    {
     "data": {
      "text/plain": [
       "('C:\\\\Users\\\\14049\\\\WordAndStudy\\\\Projects\\\\JupyterNoteBook',\n",
       " None,\n",
       " 'C:\\\\Users\\\\14049\\\\WordAndStudy\\\\Projects\\\\学校\\\\大三上\\\\数字图像处理\\\\数字图像处理实验材料\\\\测试图像')"
      ]
     },
     "execution_count": 3,
     "metadata": {},
     "output_type": "execute_result"
    }
   ],
   "source": [
    "os.getcwd(),os.chdir(r'C:\\Users\\14049\\WordAndStudy\\Projects\\学校\\大三上\\数字图像处理\\数字图像处理实验材料\\测试图像'),os.getcwd()"
   ]
  },
  {
   "cell_type": "code",
   "execution_count": 6,
   "metadata": {
    "ExecuteTime": {
     "end_time": "2018-11-08T08:40:30.080544Z",
     "start_time": "2018-11-08T08:40:30.071571Z"
    }
   },
   "outputs": [],
   "source": [
    "def cv2ShowImages(imgs):\n",
    "    for i,img in enumerate(imgs):\n",
    "        cv2.namedWindow(str(i),cv2.WINDOW_NORMAL)\n",
    "        cv2.imshow(str(i),img)\n",
    "    cv2.waitKey(0)\n",
    "    cv2.destroyAllWindows()"
   ]
  },
  {
   "cell_type": "code",
   "execution_count": 4,
   "metadata": {
    "ExecuteTime": {
     "end_time": "2018-11-08T08:39:43.312467Z",
     "start_time": "2018-11-08T08:39:43.305520Z"
    }
   },
   "outputs": [],
   "source": [
    "image = cv2.imread(r'lena.bmp',0)"
   ]
  },
  {
   "cell_type": "code",
   "execution_count": 7,
   "metadata": {
    "ExecuteTime": {
     "end_time": "2018-11-08T08:41:02.057041Z",
     "start_time": "2018-11-08T08:41:00.306724Z"
    }
   },
   "outputs": [],
   "source": [
    "#拉普拉斯边缘检测\n",
    "lap = cv2.Laplacian(image,cv2.CV_64F)#拉普拉斯边缘检测\n",
    "lap = np.uint8(np.absolute(lap))##对lap去绝对值\n",
    "\n",
    "cv2ShowImages([image,lap])"
   ]
  },
  {
   "cell_type": "code",
   "execution_count": 8,
   "metadata": {
    "ExecuteTime": {
     "end_time": "2018-11-08T08:42:28.746454Z",
     "start_time": "2018-11-08T08:42:18.486891Z"
    }
   },
   "outputs": [],
   "source": [
    "#Sobel边缘检测\n",
    "sobelX = cv2.Sobel(image,cv2.CV_64F,1,0)#x方向的梯度\n",
    "sobelY = cv2.Sobel(image,cv2.CV_64F,0,1)#y方向的梯度\n",
    "\n",
    "sobelX = np.uint8(np.absolute(sobelX))#x方向梯度的绝对值\n",
    "sobelY = np.uint8(np.absolute(sobelY))#y方向梯度的绝对值\n",
    "\n",
    "sobelCombined = cv2.bitwise_or(sobelX,sobelY)#\n",
    "\n",
    "cv2ShowImages([image,sobelX,sobelY,sobelCombined])\n"
   ]
  },
  {
   "cell_type": "code",
   "execution_count": 9,
   "metadata": {
    "ExecuteTime": {
     "end_time": "2018-11-08T08:43:14.471245Z",
     "start_time": "2018-11-08T08:43:12.850612Z"
    }
   },
   "outputs": [],
   "source": [
    "#Canny边缘检测\n",
    "canny = cv2.Canny(image,30,150)\n",
    "cv2ShowImages([image,canny])"
   ]
  },
  {
   "cell_type": "code",
   "execution_count": null,
   "metadata": {},
   "outputs": [],
   "source": []
  }
 ],
 "metadata": {
  "kernelspec": {
   "display_name": "Python 3",
   "language": "python",
   "name": "python3"
  },
  "language_info": {
   "codemirror_mode": {
    "name": "ipython",
    "version": 3
   },
   "file_extension": ".py",
   "mimetype": "text/x-python",
   "name": "python",
   "nbconvert_exporter": "python",
   "pygments_lexer": "ipython3",
   "version": "3.7.0"
  }
 },
 "nbformat": 4,
 "nbformat_minor": 2
}
